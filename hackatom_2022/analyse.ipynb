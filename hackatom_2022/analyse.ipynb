{
 "cells": [
  {
   "cell_type": "markdown",
   "source": [
    "# Convert raw Osmosis swap data to OHLCV market feed\n",
    "\n",
    "- Read the raw CSV data export made out from TheGrapgh subgraph by `store_price.py`\n",
    "- Create OHLCV candle chart based on the data\n",
    "- [See also Osmosis asset info documentation](https://docs.osmosis.zone/developing/assets/asset-info.html)."
   ],
   "metadata": {
    "collapsed": false,
    "pycharm": {
     "name": "#%% md\n"
    }
   }
  },
  {
   "cell_type": "code",
   "execution_count": 12,
   "outputs": [
    {
     "data": {
      "text/plain": "                     block_number           timestamp  pool_id  \\\ntimestamp                                                        \n2021-12-25 00:12:25       2522560 2021-12-25 00:12:25      605   \n2021-12-25 00:12:31       2522561 2021-12-25 00:12:31        1   \n2021-12-25 00:12:37       2522562 2021-12-25 00:12:37        1   \n2021-12-25 00:12:37       2522562 2021-12-25 00:12:37      560   \n2021-12-25 00:12:51       2522564 2021-12-25 00:12:51      481   \n...                           ...                 ...      ...   \n2022-03-13 22:20:54       3580398 2022-03-13 22:20:54      565   \n2022-03-13 22:20:54       3580398 2022-03-13 22:20:54      601   \n2022-03-13 22:20:54       3580398 2022-03-13 22:20:54      482   \n2022-03-13 22:20:54       3580398 2022-03-13 22:20:54      601   \n2022-03-13 22:20:54       3580398 2022-03-13 22:20:54      560   \n\n                                                              token_in  \\\ntimestamp                                                                \n2021-12-25 00:12:25  ibc/B9E0A1A524E98BB407D3CED8720EFEFD186002F90C...   \n2021-12-25 00:12:31                                              uosmo   \n2021-12-25 00:12:37  ibc/27394FB092D2ECCD56123C74F36E4C1F926001CEAD...   \n2021-12-25 00:12:37                                              uosmo   \n2021-12-25 00:12:51                                              uosmo   \n...                                                                ...   \n2022-03-13 22:20:54  ibc/27394FB092D2ECCD56123C74F36E4C1F926001CEAD...   \n2022-03-13 22:20:54                                              uosmo   \n2022-03-13 22:20:54  ibc/27394FB092D2ECCD56123C74F36E4C1F926001CEAD...   \n2022-03-13 22:20:54  ibc/EA3E1640F9B1532AB129A571203A0B9F789A7F14BB...   \n2022-03-13 22:20:54                                              uosmo   \n\n                                                             token_out  \\\ntimestamp                                                                \n2021-12-25 00:12:25                                              uosmo   \n2021-12-25 00:12:31  ibc/27394FB092D2ECCD56123C74F36E4C1F926001CEAD...   \n2021-12-25 00:12:37                                              uosmo   \n2021-12-25 00:12:37  ibc/BE1BB42D4BE3C30D50B68D7C41DB4DFCE9678E8EF8...   \n2021-12-25 00:12:51  ibc/5973C068568365FFF40DEDCF1A1CB7582B6116B731...   \n...                                                                ...   \n2022-03-13 22:20:54  ibc/0EF15DF2F02480ADE0BB6E85D9EBB5DAEA2836D386...   \n2022-03-13 22:20:54  ibc/EA3E1640F9B1532AB129A571203A0B9F789A7F14BB...   \n2022-03-13 22:20:54  ibc/5973C068568365FFF40DEDCF1A1CB7582B6116B731...   \n2022-03-13 22:20:54                                              uosmo   \n2022-03-13 22:20:54  ibc/BE1BB42D4BE3C30D50B68D7C41DB4DFCE9678E8EF8...   \n\n                     token_in_amount  token_out_amount  \ntimestamp                                               \n2021-12-25 00:12:25     9.341900e+10      2.111636e+07  \n2021-12-25 00:12:31     1.336698e+06      2.754890e+05  \n2021-12-25 00:12:37     2.000000e+06      9.646039e+06  \n2021-12-25 00:12:37     3.822892e+07      2.112830e+08  \n2021-12-25 00:12:51     2.500000e+07      1.281445e+08  \n...                              ...               ...  \n2022-03-13 22:20:54     2.115500e+04      6.394000e+03  \n2022-03-13 22:20:54     4.480440e+05      2.506475e+06  \n2022-03-13 22:20:54     4.899574e+06      1.251795e+08  \n2022-03-13 22:20:54     4.527145e+08      8.044863e+07  \n2022-03-13 22:20:54     7.428108e+08      6.652161e+09  \n\n[3164652 rows x 7 columns]",
      "text/html": "<div>\n<style scoped>\n    .dataframe tbody tr th:only-of-type {\n        vertical-align: middle;\n    }\n\n    .dataframe tbody tr th {\n        vertical-align: top;\n    }\n\n    .dataframe thead th {\n        text-align: right;\n    }\n</style>\n<table border=\"1\" class=\"dataframe\">\n  <thead>\n    <tr style=\"text-align: right;\">\n      <th></th>\n      <th>block_number</th>\n      <th>timestamp</th>\n      <th>pool_id</th>\n      <th>token_in</th>\n      <th>token_out</th>\n      <th>token_in_amount</th>\n      <th>token_out_amount</th>\n    </tr>\n    <tr>\n      <th>timestamp</th>\n      <th></th>\n      <th></th>\n      <th></th>\n      <th></th>\n      <th></th>\n      <th></th>\n      <th></th>\n    </tr>\n  </thead>\n  <tbody>\n    <tr>\n      <th>2021-12-25 00:12:25</th>\n      <td>2522560</td>\n      <td>2021-12-25 00:12:25</td>\n      <td>605</td>\n      <td>ibc/B9E0A1A524E98BB407D3CED8720EFEFD186002F90C...</td>\n      <td>uosmo</td>\n      <td>9.341900e+10</td>\n      <td>2.111636e+07</td>\n    </tr>\n    <tr>\n      <th>2021-12-25 00:12:31</th>\n      <td>2522561</td>\n      <td>2021-12-25 00:12:31</td>\n      <td>1</td>\n      <td>uosmo</td>\n      <td>ibc/27394FB092D2ECCD56123C74F36E4C1F926001CEAD...</td>\n      <td>1.336698e+06</td>\n      <td>2.754890e+05</td>\n    </tr>\n    <tr>\n      <th>2021-12-25 00:12:37</th>\n      <td>2522562</td>\n      <td>2021-12-25 00:12:37</td>\n      <td>1</td>\n      <td>ibc/27394FB092D2ECCD56123C74F36E4C1F926001CEAD...</td>\n      <td>uosmo</td>\n      <td>2.000000e+06</td>\n      <td>9.646039e+06</td>\n    </tr>\n    <tr>\n      <th>2021-12-25 00:12:37</th>\n      <td>2522562</td>\n      <td>2021-12-25 00:12:37</td>\n      <td>560</td>\n      <td>uosmo</td>\n      <td>ibc/BE1BB42D4BE3C30D50B68D7C41DB4DFCE9678E8EF8...</td>\n      <td>3.822892e+07</td>\n      <td>2.112830e+08</td>\n    </tr>\n    <tr>\n      <th>2021-12-25 00:12:51</th>\n      <td>2522564</td>\n      <td>2021-12-25 00:12:51</td>\n      <td>481</td>\n      <td>uosmo</td>\n      <td>ibc/5973C068568365FFF40DEDCF1A1CB7582B6116B731...</td>\n      <td>2.500000e+07</td>\n      <td>1.281445e+08</td>\n    </tr>\n    <tr>\n      <th>...</th>\n      <td>...</td>\n      <td>...</td>\n      <td>...</td>\n      <td>...</td>\n      <td>...</td>\n      <td>...</td>\n      <td>...</td>\n    </tr>\n    <tr>\n      <th>2022-03-13 22:20:54</th>\n      <td>3580398</td>\n      <td>2022-03-13 22:20:54</td>\n      <td>565</td>\n      <td>ibc/27394FB092D2ECCD56123C74F36E4C1F926001CEAD...</td>\n      <td>ibc/0EF15DF2F02480ADE0BB6E85D9EBB5DAEA2836D386...</td>\n      <td>2.115500e+04</td>\n      <td>6.394000e+03</td>\n    </tr>\n    <tr>\n      <th>2022-03-13 22:20:54</th>\n      <td>3580398</td>\n      <td>2022-03-13 22:20:54</td>\n      <td>601</td>\n      <td>uosmo</td>\n      <td>ibc/EA3E1640F9B1532AB129A571203A0B9F789A7F14BB...</td>\n      <td>4.480440e+05</td>\n      <td>2.506475e+06</td>\n    </tr>\n    <tr>\n      <th>2022-03-13 22:20:54</th>\n      <td>3580398</td>\n      <td>2022-03-13 22:20:54</td>\n      <td>482</td>\n      <td>ibc/27394FB092D2ECCD56123C74F36E4C1F926001CEAD...</td>\n      <td>ibc/5973C068568365FFF40DEDCF1A1CB7582B6116B731...</td>\n      <td>4.899574e+06</td>\n      <td>1.251795e+08</td>\n    </tr>\n    <tr>\n      <th>2022-03-13 22:20:54</th>\n      <td>3580398</td>\n      <td>2022-03-13 22:20:54</td>\n      <td>601</td>\n      <td>ibc/EA3E1640F9B1532AB129A571203A0B9F789A7F14BB...</td>\n      <td>uosmo</td>\n      <td>4.527145e+08</td>\n      <td>8.044863e+07</td>\n    </tr>\n    <tr>\n      <th>2022-03-13 22:20:54</th>\n      <td>3580398</td>\n      <td>2022-03-13 22:20:54</td>\n      <td>560</td>\n      <td>uosmo</td>\n      <td>ibc/BE1BB42D4BE3C30D50B68D7C41DB4DFCE9678E8EF8...</td>\n      <td>7.428108e+08</td>\n      <td>6.652161e+09</td>\n    </tr>\n  </tbody>\n</table>\n<p>3164652 rows × 7 columns</p>\n</div>"
     },
     "execution_count": 12,
     "metadata": {},
     "output_type": "execute_result"
    }
   ],
   "source": [
    "import pandas as pd\n",
    "import numpy as np\n",
    "\n",
    "fpath = \"/Users/moo/code/ts/hackatom-2022/swaps.csv\"\n",
    "output_fname = \"/Users/moo/code/ts/hackatom-2022/pool_1_daily_candles.parquet\"\n",
    "\n",
    "# Define CSV column types\n",
    "dtype = {\n",
    "    \"block_number\": np.int32,\n",
    "    \"timestamp\": np.int32,\n",
    "    \"pool_id\": np.int32,\n",
    "    \"token_in\": str,\n",
    "    \"token_out\": str,\n",
    "    \"token_in_amount\": np.float64,\n",
    "    \"token_out_amount\": np.float64,\n",
    "}\n",
    "\n",
    "df = pd.read_csv(fpath, dtype=dtype)\n",
    "df['timestamp'] = pd.to_datetime(df['timestamp'], unit='s')\n",
    "df.set_index(\"timestamp\", inplace=True, drop=False)\n",
    "\n",
    "df\n"
   ],
   "metadata": {
    "collapsed": false,
    "pycharm": {
     "name": "#%%\n"
    }
   }
  },
  {
   "cell_type": "markdown",
   "source": [
    "Split swaps by trading pair (pool)"
   ],
   "metadata": {
    "collapsed": false,
    "pycharm": {
     "name": "#%% md\n"
    }
   }
  },
  {
   "cell_type": "code",
   "execution_count": 13,
   "outputs": [
    {
     "name": "stdout",
     "output_type": "stream",
     "text": [
      "We have total 375 pools\n"
     ]
    }
   ],
   "source": [
    "pool_df = df.groupby(\"pool_id\")\n",
    "print(f\"We have total {len(pool_df.groups.keys())} pools\")"
   ],
   "metadata": {
    "collapsed": false,
    "pycharm": {
     "name": "#%%\n"
    }
   }
  },
  {
   "cell_type": "markdown",
   "source": [
    "# Swap counts by pool id\n",
    "\n",
    "Show which pools are leading in swap count."
   ],
   "metadata": {
    "collapsed": false,
    "pycharm": {
     "name": "#%% md\n"
    }
   }
  },
  {
   "cell_type": "code",
   "execution_count": 14,
   "outputs": [
    {
     "data": {
      "text/plain": "array([[<AxesSubplot:title={'center':'pool_id'}>]], dtype=object)"
     },
     "execution_count": 14,
     "metadata": {},
     "output_type": "execute_result"
    },
    {
     "data": {
      "text/plain": "<Figure size 432x288 with 1 Axes>",
      "image/png": "[encoded data removed]"
     },
     "metadata": {
      "needs_background": "light"
     },
     "output_type": "display_data"
    }
   ],
   "source": [
    "df.hist(column=\"pool_id\")"
   ],
   "metadata": {
    "collapsed": false,
    "pycharm": {
     "name": "#%%\n"
    }
   }
  },
  {
   "cell_type": "markdown",
   "source": [
    "# Top pools\n"
   ],
   "metadata": {
    "collapsed": false,
    "pycharm": {
     "name": "#%% md\n"
    }
   }
  },
  {
   "cell_type": "code",
   "execution_count": 15,
   "outputs": [
    {
     "name": "stdout",
     "output_type": "stream",
     "text": [
      "dict_keys([1, 2, 3, 4, 5, 6, 7, 8, 9, 10, 11, 12, 13, 14, 15, 16, 18, 19, 20, 22, 23, 24, 31, 33, 34, 35, 36, 39, 42, 43, 45, 48, 54, 58, 66, 70, 78, 80, 84, 85, 86, 88, 89, 91, 93, 97, 101, 105, 110, 112, 115, 118, 119, 123, 124, 125, 126, 128, 130, 133, 134, 136, 137, 142, 145, 146, 149, 151, 155, 158, 159, 161, 162, 165, 166, 167, 170, 171, 172, 174, 180, 183, 185, 190, 191, 193, 194, 197, 199, 200, 203, 204, 207, 210, 212, 215, 216, 219, 220, 221, 222, 224, 225, 226, 227, 228, 229, 230, 232, 233, 234, 235, 236, 237, 238, 239, 240, 241, 244, 245, 247, 248, 249, 251, 253, 254, 255, 256, 257, 258, 261, 262, 263, 265, 266, 269, 271, 273, 277, 278, 279, 282, 283, 284, 285, 286, 287, 289, 292, 294, 301, 305, 306, 307, 308, 309, 312, 313, 314, 315, 318, 319, 320, 322, 324, 329, 330, 333, 336, 337, 338, 339, 342, 343, 345, 347, 348, 350, 353, 355, 362, 365, 366, 370, 372, 374, 375, 376, 377, 380, 381, 383, 384, 385, 388, 390, 391, 392, 393, 395, 396, 397, 398, 399, 400, 401, 406, 409, 410, 411, 412, 414, 415, 416, 417, 422, 425, 426, 428, 429, 430, 432, 435, 438, 439, 440, 441, 442, 443, 445, 446, 449, 456, 457, 458, 460, 461, 462, 463, 464, 466, 467, 472, 473, 476, 477, 479, 481, 482, 493, 495, 496, 497, 498, 499, 502, 503, 504, 505, 506, 507, 510, 511, 512, 513, 515, 516, 517, 519, 520, 523, 525, 530, 531, 532, 534, 535, 537, 541, 544, 545, 546, 547, 548, 549, 550, 553, 555, 556, 557, 558, 559, 560, 561, 562, 565, 567, 568, 569, 570, 571, 572, 573, 574, 575, 576, 577, 578, 579, 580, 581, 582, 583, 584, 585, 586, 587, 592, 593, 594, 595, 596, 597, 599, 600, 601, 602, 603, 604, 605, 606, 607, 608, 609, 610, 611, 612, 613, 614, 615, 616, 617, 618, 619, 620, 621, 622, 623, 624, 625, 626, 627, 628, 629, 630, 631, 632, 633, 634, 635, 636, 637, 638, 639, 640, 641, 642, 643, 644, 645, 646, 647, 648, 649, 650])\n"
     ]
    }
   ],
   "source": [
    "print(pool_df.groups.keys())"
   ],
   "metadata": {
    "collapsed": false,
    "pycharm": {
     "name": "#%%\n"
    }
   }
  },
  {
   "cell_type": "code",
   "execution_count": 16,
   "outputs": [
    {
     "name": "stdout",
     "output_type": "stream",
     "text": [
      "Pool id 1 uosmo-ibc/27394FB092D2ECCD56123C74F36E4C1F926001CEADA9CA97EA622B25F41E5EB2 has 543,013 swaps\n",
      "Pool id 560 uosmo-ibc/BE1BB42D4BE3C30D50B68D7C41DB4DFCE9678E8EF8C539F6E6A9345048894FCC has 466,168 swaps\n",
      "Pool id 497 ibc/46B44899322F3CD854D2D46DEEF881958467CDD4B3B10086DA49296BBED94BED-uosmo has 202,255 swaps\n",
      "Pool id 498 ibc/27394FB092D2ECCD56123C74F36E4C1F926001CEADA9CA97EA622B25F41E5EB2-ibc/46B44899322F3CD854D2D46DEEF881958467CDD4B3B10086DA49296BBED94BED has 164,083 swaps\n",
      "Pool id 604 uosmo-ibc/987C17B11ABC2B20019178ACE62929FE9840202CE79498E29FE8E5CB02B7C0A4 has 124,477 swaps\n",
      "Pool id 561 uosmo-ibc/0EF15DF2F02480ADE0BB6E85D9EBB5DAEA2836D3860E9F97F9AADE4F57A31AA0 has 117,343 swaps\n"
     ]
    }
   ],
   "source": [
    "from collections import Counter\n",
    "\n",
    "swap_counts = Counter({pid: len(df.loc[df[\"pool_id\"]==pid]) for pid in pool_df.groups.keys()})\n",
    "\n",
    "for pool_id, count in swap_counts.most_common(6):\n",
    "    pool_data = df.loc[df[\"pool_id\"]== pool_id ]\n",
    "    first_swap = pool_data.iloc[0]\n",
    "    print(f\"Pool id {pool_id} {first_swap['token_in']}-{first_swap['token_out']} has {count:,} swaps\")"
   ],
   "metadata": {
    "collapsed": false,
    "pycharm": {
     "name": "#%%\n"
    }
   }
  },
  {
   "cell_type": "markdown",
   "source": [
    "# Calculate price and value for each swap\n",
    "\n",
    "Draw candles for pool 1. This is [ATOM-OSMO pair](https://docs.osmosis.zone/developing/assets/asset-info.html).\n",
    "\n",
    "- Determine direction of each swap event\n",
    "- Calculate price as ATOM/OSMO and swap volume\n",
    "\n",
    "Show 10 first swaps as an example of processed data."
   ],
   "metadata": {
    "collapsed": false,
    "pycharm": {
     "name": "#%% md\n"
    }
   }
  },
  {
   "cell_type": "code",
   "execution_count": 17,
   "outputs": [
    {
     "data": {
      "text/plain": "                     block_number           timestamp  pool_id  \\\ntimestamp                                                        \n2021-12-25 00:12:31       2522561 2021-12-25 00:12:31        1   \n2021-12-25 00:12:37       2522562 2021-12-25 00:12:37        1   \n2021-12-25 00:13:03       2522566 2021-12-25 00:13:03        1   \n2021-12-25 00:13:03       2522566 2021-12-25 00:13:03        1   \n2021-12-25 00:13:10       2522567 2021-12-25 00:13:10        1   \n2021-12-25 00:13:16       2522568 2021-12-25 00:13:16        1   \n2021-12-25 00:13:16       2522568 2021-12-25 00:13:16        1   \n2021-12-25 00:13:16       2522568 2021-12-25 00:13:16        1   \n2021-12-25 00:13:22       2522569 2021-12-25 00:13:22        1   \n2021-12-25 00:13:42       2522572 2021-12-25 00:13:42        1   \n\n                                                              token_in  \\\ntimestamp                                                                \n2021-12-25 00:12:31                                              uosmo   \n2021-12-25 00:12:37  ibc/27394FB092D2ECCD56123C74F36E4C1F926001CEAD...   \n2021-12-25 00:13:03                                              uosmo   \n2021-12-25 00:13:03                                              uosmo   \n2021-12-25 00:13:10                                              uosmo   \n2021-12-25 00:13:16                                              uosmo   \n2021-12-25 00:13:16                                              uosmo   \n2021-12-25 00:13:16                                              uosmo   \n2021-12-25 00:13:22  ibc/27394FB092D2ECCD56123C74F36E4C1F926001CEAD...   \n2021-12-25 00:13:42                                              uosmo   \n\n                                                             token_out  \\\ntimestamp                                                                \n2021-12-25 00:12:31  ibc/27394FB092D2ECCD56123C74F36E4C1F926001CEAD...   \n2021-12-25 00:12:37                                              uosmo   \n2021-12-25 00:13:03  ibc/27394FB092D2ECCD56123C74F36E4C1F926001CEAD...   \n2021-12-25 00:13:03  ibc/27394FB092D2ECCD56123C74F36E4C1F926001CEAD...   \n2021-12-25 00:13:10  ibc/27394FB092D2ECCD56123C74F36E4C1F926001CEAD...   \n2021-12-25 00:13:16  ibc/27394FB092D2ECCD56123C74F36E4C1F926001CEAD...   \n2021-12-25 00:13:16  ibc/27394FB092D2ECCD56123C74F36E4C1F926001CEAD...   \n2021-12-25 00:13:16  ibc/27394FB092D2ECCD56123C74F36E4C1F926001CEAD...   \n2021-12-25 00:13:22                                              uosmo   \n2021-12-25 00:13:42  ibc/27394FB092D2ECCD56123C74F36E4C1F926001CEAD...   \n\n                     token_in_amount  token_out_amount     price        value  \ntimestamp                                                                      \n2021-12-25 00:12:31        1336698.0          275489.0  0.206097    1336698.0  \n2021-12-25 00:12:37        2000000.0         9646039.0  0.207339    9646039.0  \n2021-12-25 00:13:03      194546844.0        40095045.0  0.206095  194546844.0  \n2021-12-25 00:13:03       21116362.0         4352012.0  0.206097   21116362.0  \n2021-12-25 00:13:10      485485352.0       100052608.0  0.206088  485485352.0  \n2021-12-25 00:13:16      238348167.0        49118014.0  0.206077  238348167.0  \n2021-12-25 00:13:16       30993399.0         6386937.0  0.206074   30993399.0  \n2021-12-25 00:13:16      194165890.0        40013908.0  0.206081  194165890.0  \n2021-12-25 00:13:22        1000000.0         4823557.0  0.207316    4823557.0  \n2021-12-25 00:13:42       10325251.0         2127763.0  0.206074   10325251.0  ",
      "text/html": "<div>\n<style scoped>\n    .dataframe tbody tr th:only-of-type {\n        vertical-align: middle;\n    }\n\n    .dataframe tbody tr th {\n        vertical-align: top;\n    }\n\n    .dataframe thead th {\n        text-align: right;\n    }\n</style>\n<table border=\"1\" class=\"dataframe\">\n  <thead>\n    <tr style=\"text-align: right;\">\n      <th></th>\n      <th>block_number</th>\n      <th>timestamp</th>\n      <th>pool_id</th>\n      <th>token_in</th>\n      <th>token_out</th>\n      <th>token_in_amount</th>\n      <th>token_out_amount</th>\n      <th>price</th>\n      <th>value</th>\n    </tr>\n    <tr>\n      <th>timestamp</th>\n      <th></th>\n      <th></th>\n      <th></th>\n      <th></th>\n      <th></th>\n      <th></th>\n      <th></th>\n      <th></th>\n      <th></th>\n    </tr>\n  </thead>\n  <tbody>\n    <tr>\n      <th>2021-12-25 00:12:31</th>\n      <td>2522561</td>\n      <td>2021-12-25 00:12:31</td>\n      <td>1</td>\n      <td>uosmo</td>\n      <td>ibc/27394FB092D2ECCD56123C74F36E4C1F926001CEAD...</td>\n      <td>1336698.0</td>\n      <td>275489.0</td>\n      <td>0.206097</td>\n      <td>1336698.0</td>\n    </tr>\n    <tr>\n      <th>2021-12-25 00:12:37</th>\n      <td>2522562</td>\n      <td>2021-12-25 00:12:37</td>\n      <td>1</td>\n      <td>ibc/27394FB092D2ECCD56123C74F36E4C1F926001CEAD...</td>\n      <td>uosmo</td>\n      <td>2000000.0</td>\n      <td>9646039.0</td>\n      <td>0.207339</td>\n      <td>9646039.0</td>\n    </tr>\n    <tr>\n      <th>2021-12-25 00:13:03</th>\n      <td>2522566</td>\n      <td>2021-12-25 00:13:03</td>\n      <td>1</td>\n      <td>uosmo</td>\n      <td>ibc/27394FB092D2ECCD56123C74F36E4C1F926001CEAD...</td>\n      <td>194546844.0</td>\n      <td>40095045.0</td>\n      <td>0.206095</td>\n      <td>194546844.0</td>\n    </tr>\n    <tr>\n      <th>2021-12-25 00:13:03</th>\n      <td>2522566</td>\n      <td>2021-12-25 00:13:03</td>\n      <td>1</td>\n      <td>uosmo</td>\n      <td>ibc/27394FB092D2ECCD56123C74F36E4C1F926001CEAD...</td>\n      <td>21116362.0</td>\n      <td>4352012.0</td>\n      <td>0.206097</td>\n      <td>21116362.0</td>\n    </tr>\n    <tr>\n      <th>2021-12-25 00:13:10</th>\n      <td>2522567</td>\n      <td>2021-12-25 00:13:10</td>\n      <td>1</td>\n      <td>uosmo</td>\n      <td>ibc/27394FB092D2ECCD56123C74F36E4C1F926001CEAD...</td>\n      <td>485485352.0</td>\n      <td>100052608.0</td>\n      <td>0.206088</td>\n      <td>485485352.0</td>\n    </tr>\n    <tr>\n      <th>2021-12-25 00:13:16</th>\n      <td>2522568</td>\n      <td>2021-12-25 00:13:16</td>\n      <td>1</td>\n      <td>uosmo</td>\n      <td>ibc/27394FB092D2ECCD56123C74F36E4C1F926001CEAD...</td>\n      <td>238348167.0</td>\n      <td>49118014.0</td>\n      <td>0.206077</td>\n      <td>238348167.0</td>\n    </tr>\n    <tr>\n      <th>2021-12-25 00:13:16</th>\n      <td>2522568</td>\n      <td>2021-12-25 00:13:16</td>\n      <td>1</td>\n      <td>uosmo</td>\n      <td>ibc/27394FB092D2ECCD56123C74F36E4C1F926001CEAD...</td>\n      <td>30993399.0</td>\n      <td>6386937.0</td>\n      <td>0.206074</td>\n      <td>30993399.0</td>\n    </tr>\n    <tr>\n      <th>2021-12-25 00:13:16</th>\n      <td>2522568</td>\n      <td>2021-12-25 00:13:16</td>\n      <td>1</td>\n      <td>uosmo</td>\n      <td>ibc/27394FB092D2ECCD56123C74F36E4C1F926001CEAD...</td>\n      <td>194165890.0</td>\n      <td>40013908.0</td>\n      <td>0.206081</td>\n      <td>194165890.0</td>\n    </tr>\n    <tr>\n      <th>2021-12-25 00:13:22</th>\n      <td>2522569</td>\n      <td>2021-12-25 00:13:22</td>\n      <td>1</td>\n      <td>ibc/27394FB092D2ECCD56123C74F36E4C1F926001CEAD...</td>\n      <td>uosmo</td>\n      <td>1000000.0</td>\n      <td>4823557.0</td>\n      <td>0.207316</td>\n      <td>4823557.0</td>\n    </tr>\n    <tr>\n      <th>2021-12-25 00:13:42</th>\n      <td>2522572</td>\n      <td>2021-12-25 00:13:42</td>\n      <td>1</td>\n      <td>uosmo</td>\n      <td>ibc/27394FB092D2ECCD56123C74F36E4C1F926001CEAD...</td>\n      <td>10325251.0</td>\n      <td>2127763.0</td>\n      <td>0.206074</td>\n      <td>10325251.0</td>\n    </tr>\n  </tbody>\n</table>\n</div>"
     },
     "execution_count": 17,
     "metadata": {},
     "output_type": "execute_result"
    }
   ],
   "source": [
    "pool_id = 1\n",
    "pair_data = df.loc[df[\"pool_id\"] == pool_id]\n",
    "\n",
    "# Swap price can be manipulated if we go too deep into fractional number territory\n",
    "# and fixed point math starts breaking out.\n",
    "# Assume anything lower than 1000 uosmo might be broken.\n",
    "low_problem_threshold = 1000\n",
    "\n",
    "\n",
    "def is_good_swap(row: pd.Series):\n",
    "    if row[\"token_out_amount\"] < low_problem_threshold or \\\n",
    "        row[\"token_in_amount\"] < low_problem_threshold:\n",
    "        return False\n",
    "    return True\n",
    "\n",
    "\n",
    "def calculate_price(row: pd.Series):\n",
    "    if row[\"token_in\"] == \"uosmo\":\n",
    "        # Buying ATOM with OSMO\n",
    "        price = row[\"token_out_amount\"] / row[\"token_in_amount\"]\n",
    "    else:\n",
    "        # Selling OSMO for ATOM\n",
    "        price = row[\"token_in_amount\"] / row[\"token_out_amount\"]\n",
    "\n",
    "    return price\n",
    "\n",
    "def calculate_value(row: pd.Series):\n",
    "    \"\"\"Get swap value (volume) in OSMO\"\"\"\n",
    "\n",
    "    if row[\"token_out_amount\"] < low_problem_threshold or \\\n",
    "        row[\"token_in_amount\"] < low_problem_threshold:\n",
    "        return pd.NA\n",
    "\n",
    "    if row[\"token_in\"] == \"uosmo\":\n",
    "        # Buying ATOM with OSMO\n",
    "        vol = row[\"token_in_amount\"]\n",
    "    else:\n",
    "        # Selling OSMO for ATOM\n",
    "        vol = row[\"token_out_amount\"]\n",
    "\n",
    "    return vol\n",
    "\n",
    "# Filter out swaps with too low value\n",
    "pair_data = pair_data.loc[\\\n",
    "    (pair_data[\"token_in_amount\"] > low_problem_threshold) & \\\n",
    "    (pair_data[\"token_out_amount\"] > low_problem_threshold)]\n",
    "\n",
    "pair_data[\"price\"] = pair_data.apply(calculate_price, axis=1)\n",
    "pair_data[\"value\"] = pair_data.apply(calculate_value, axis=1)\n",
    "pair_data.head(10)"
   ],
   "metadata": {
    "collapsed": false,
    "pycharm": {
     "name": "#%%\n"
    }
   }
  },
  {
   "cell_type": "markdown",
   "source": [
    "# Convert trades to candles\n"
   ],
   "metadata": {
    "collapsed": false,
    "pycharm": {
     "name": "#%% md\n"
    }
   }
  },
  {
   "cell_type": "code",
   "execution_count": 19,
   "outputs": [
    {
     "data": {
      "text/plain": "                open      high       low     close        volume\ntimestamp                                                       \n2021-12-25  0.206097  0.208288  0.200395  0.200395  1.359263e+12\n2021-12-26  0.200395  0.201743  0.190530  0.191026  1.565796e+12\n2021-12-27  0.191026  0.205486  0.190300  0.203956  2.591825e+12\n2021-12-28  0.203952  0.208725  0.202727  0.206895  1.061533e+12\n2021-12-29  0.208142  0.212329  0.202859  0.204094  1.680099e+12\n2021-12-30  0.202871  0.206572  0.198028  0.200005  1.702391e+12\n2021-12-31  0.198806  0.200180  0.191476  0.193114  2.048829e+12\n2022-01-01  0.191960  0.193901  0.186725  0.191168  1.963509e+12\n2022-01-02  0.191163  0.196984  0.190303  0.192852  1.604233e+12\n2022-01-03  0.192851  0.200055  0.190487  0.195308  2.274991e+12",
      "text/html": "<div>\n<style scoped>\n    .dataframe tbody tr th:only-of-type {\n        vertical-align: middle;\n    }\n\n    .dataframe tbody tr th {\n        vertical-align: top;\n    }\n\n    .dataframe thead th {\n        text-align: right;\n    }\n</style>\n<table border=\"1\" class=\"dataframe\">\n  <thead>\n    <tr style=\"text-align: right;\">\n      <th></th>\n      <th>open</th>\n      <th>high</th>\n      <th>low</th>\n      <th>close</th>\n      <th>volume</th>\n    </tr>\n    <tr>\n      <th>timestamp</th>\n      <th></th>\n      <th></th>\n      <th></th>\n      <th></th>\n      <th></th>\n    </tr>\n  </thead>\n  <tbody>\n    <tr>\n      <th>2021-12-25</th>\n      <td>0.206097</td>\n      <td>0.208288</td>\n      <td>0.200395</td>\n      <td>0.200395</td>\n      <td>1.359263e+12</td>\n    </tr>\n    <tr>\n      <th>2021-12-26</th>\n      <td>0.200395</td>\n      <td>0.201743</td>\n      <td>0.190530</td>\n      <td>0.191026</td>\n      <td>1.565796e+12</td>\n    </tr>\n    <tr>\n      <th>2021-12-27</th>\n      <td>0.191026</td>\n      <td>0.205486</td>\n      <td>0.190300</td>\n      <td>0.203956</td>\n      <td>2.591825e+12</td>\n    </tr>\n    <tr>\n      <th>2021-12-28</th>\n      <td>0.203952</td>\n      <td>0.208725</td>\n      <td>0.202727</td>\n      <td>0.206895</td>\n      <td>1.061533e+12</td>\n    </tr>\n    <tr>\n      <th>2021-12-29</th>\n      <td>0.208142</td>\n      <td>0.212329</td>\n      <td>0.202859</td>\n      <td>0.204094</td>\n      <td>1.680099e+12</td>\n    </tr>\n    <tr>\n      <th>2021-12-30</th>\n      <td>0.202871</td>\n      <td>0.206572</td>\n      <td>0.198028</td>\n      <td>0.200005</td>\n      <td>1.702391e+12</td>\n    </tr>\n    <tr>\n      <th>2021-12-31</th>\n      <td>0.198806</td>\n      <td>0.200180</td>\n      <td>0.191476</td>\n      <td>0.193114</td>\n      <td>2.048829e+12</td>\n    </tr>\n    <tr>\n      <th>2022-01-01</th>\n      <td>0.191960</td>\n      <td>0.193901</td>\n      <td>0.186725</td>\n      <td>0.191168</td>\n      <td>1.963509e+12</td>\n    </tr>\n    <tr>\n      <th>2022-01-02</th>\n      <td>0.191163</td>\n      <td>0.196984</td>\n      <td>0.190303</td>\n      <td>0.192852</td>\n      <td>1.604233e+12</td>\n    </tr>\n    <tr>\n      <th>2022-01-03</th>\n      <td>0.192851</td>\n      <td>0.200055</td>\n      <td>0.190487</td>\n      <td>0.195308</td>\n      <td>2.274991e+12</td>\n    </tr>\n  </tbody>\n</table>\n</div>"
     },
     "execution_count": 19,
     "metadata": {},
     "output_type": "execute_result"
    }
   ],
   "source": [
    "from eth_defi.research.candle import convert_to_ohlcv_candles\n",
    "\n",
    "candles = convert_to_ohlcv_candles(pair_data)\n",
    "\n",
    "candles.head(10)"
   ],
   "metadata": {
    "collapsed": false,
    "pycharm": {
     "name": "#%%\n"
    }
   }
  },
  {
   "cell_type": "markdown",
   "source": [
    "# Draw candle chart\n",
    "\n",
    "- Show the price chart of ATOM/OSMO in [OHLCV format](https://tradingstrategy.ai/docs/glossary.html#term-OHLCV)\n",
    "- Use Plotly for interactive chart"
   ],
   "metadata": {
    "collapsed": false,
    "pycharm": {
     "name": "#%% md\n"
    }
   }
  },
  {
   "cell_type": "code",
   "execution_count": 20,
   "outputs": [
    {
     "data": {
      "application/vnd.plotly.v1+json": {
       "data": [
        {
         "close": [
          0.2003953118792213,
          0.1910265,
          0.20395580947106015,
          0.20689548804553415,
          0.20409407577171135,
          0.20000533347555935,
          0.19311423327481037,
          0.19116775932645894,
          0.1928523018987993,
          0.1953076553098938,
          0.19777437898845,
          0.20670068020373372,
          0.21224047124237466,
          0.21507457710961275,
          0.2184979648144357,
          0.23726633814180878,
          0.22592881558048203,
          0.23255195237347132,
          0.2289572961901712,
          0.23833064516129032,
          0.23726173837431275,
          0.2502241409234112,
          0.24585033424758587,
          0.24917248018880914,
          0.2552145993031359,
          0.26036094347884026,
          0.2504261323589735,
          0.2504591190088203,
          0.26499272669163193,
          0.2563483384269748,
          0.24892878612269248,
          0.2519107582478428,
          0.2578532190882069,
          0.2628965524237739,
          0.2595899909108584,
          0.2589917842470806,
          0.26147368995177855,
          0.2747991089764343,
          0.27404036466255494,
          0.2810147160576085,
          0.27476029688461323,
          0.27460701136808613,
          0.2792637667591695,
          0.2856985370033185,
          0.2932056911224647,
          0.2920304315290596,
          0.2914639331650991,
          0.29803390016400805,
          0.31462888308770126,
          0.3085782,
          0.3097863889215042,
          0.3050466149358449,
          0.31118617198189247,
          0.30809752315663064,
          0.31211051830660563,
          0.3247422184759675,
          0.3288339366497036,
          0.3245056229847592,
          0.33710977936734715,
          0.33502336610712086,
          0.34005465177441824,
          0.34643825158858055,
          0.3351607111839242,
          0.328314465816999,
          0.3384846141058055,
          0.31947364782845833,
          0.3205087422671225,
          0.3296762108643297,
          0.32591501578393156,
          0.3290429328874534,
          0.33586500541125164,
          0.3433826163695072,
          0.34066878961295427,
          0.33810288587672194,
          0.33387269135802466,
          0.3416530278232406,
          0.3395761306760032,
          0.33667784898943365,
          0.33840499239960825
         ],
         "high": [
          0.20828831991308544,
          0.20174299955135852,
          0.20548559479302522,
          0.20872456511645907,
          0.21232906333350066,
          0.2065715197329668,
          0.20017989257036697,
          0.19390086420979438,
          0.19698404025629435,
          0.2000547974658392,
          0.19951719044522095,
          0.21222169909573396,
          0.2158613790030773,
          0.21510708210017213,
          0.2224848075624578,
          0.2374310260201748,
          0.23803805795317406,
          0.23507409660832396,
          0.23446478405458915,
          0.2396989370304771,
          0.24395844857276353,
          0.25173172547245637,
          0.25235944451934744,
          0.25373402762419967,
          0.2578688488600987,
          0.26111113412090453,
          0.2603636660809872,
          0.25936973155232784,
          0.26883322886242034,
          0.2652267288664229,
          0.2621067617294288,
          0.2542991843820747,
          0.26185907373113565,
          0.26796724245926495,
          0.26650297698626596,
          0.2629078555289785,
          0.2656841238195279,
          0.27657632424678746,
          0.2770166910598765,
          0.2835617689800704,
          0.2847815528989993,
          0.2789122343277775,
          0.2829648025216104,
          0.28966346153846156,
          0.29398073836276084,
          0.29802368573044713,
          0.2942027974245534,
          0.29956760390432646,
          0.31513035367079595,
          0.31564712015562163,
          0.31123046347981764,
          0.31269699910943893,
          0.31555996270719666,
          0.3147343848548244,
          0.3157140533666123,
          0.32728235997983257,
          0.3320273590543861,
          0.33143345682530634,
          0.33931882424670123,
          0.34101355149660867,
          0.34175607594515106,
          0.3538484540176651,
          0.352066205205587,
          0.33735915255380877,
          0.33956986360702335,
          0.3392797995370276,
          0.32482040199872386,
          0.33458009347479534,
          0.3377526389739525,
          0.332518662609939,
          0.34233679093492175,
          0.3444902233674608,
          0.3489358357386207,
          0.3460066808381415,
          0.3403224214620932,
          0.355426630454783,
          0.34443673846823325,
          0.3404492224995201,
          0.3405850585058506
         ],
         "low": [
          0.2003953118792213,
          0.1905296044658215,
          0.1903,
          0.2027268,
          0.20285938966593217,
          0.19802754545454546,
          0.19147588188650283,
          0.18672485216456378,
          0.19030339083878645,
          0.19048691773071824,
          0.19038428163473523,
          0.19591314090593823,
          0.2058568151809976,
          0.2058406798848721,
          0.2124785808869979,
          0.2166548771649648,
          0.2258825216280055,
          0.22571496100212715,
          0.22567352703726362,
          0.22723816045787215,
          0.2369600970635192,
          0.23659259616006123,
          0.24367862344671937,
          0.2445556956233741,
          0.2480968838749069,
          0.2537696720510945,
          0.25018066531459077,
          0.24826618993268565,
          0.2497234935163997,
          0.25335837064856276,
          0.2486103449739042,
          0.24575787083753783,
          0.250418318309994,
          0.2568075196455794,
          0.258677102850802,
          0.25600163360627215,
          0.25883647912230684,
          0.2614618508133357,
          0.27003632,
          0.27417534537159427,
          0.27231182795698927,
          0.2702222222222222,
          0.27361067015275925,
          0.2778111741419764,
          0.2833888888888889,
          0.28885536074746426,
          0.2883882883701214,
          0.2914090909090909,
          0.2962855944729461,
          0.3073523876621371,
          0.3056866530619734,
          0.30104526315789476,
          0.3007469573986702,
          0.3079648683269068,
          0.3021541950113379,
          0.3120669713666982,
          0.3243908565163423,
          0.32178860165685197,
          0.3200488003253355,
          0.33103974136090525,
          0.33379548319367947,
          0.3324285495208125,
          0.33281547454969196,
          0.32560137457044674,
          0.3282458929517753,
          0.31885373241525755,
          0.31432,
          0.3177142857142857,
          0.3233858858858859,
          0.3238736676911005,
          0.3291202714590926,
          0.3340290925883168,
          0.3385158946903532,
          0.330600958750394,
          0.3324217563050744,
          0.33364259915835515,
          0.3374300065876153,
          0.33499964689621775,
          0.33350710282809853
         ],
         "open": [
          0.2060966650657067,
          0.2003949792066235,
          0.19102589119740368,
          0.2039519766191235,
          0.2081415058815933,
          0.202871,
          0.19880647091764264,
          0.19196027953631808,
          0.19116264129731475,
          0.19285071199324688,
          0.19530561236458238,
          0.19776557928776314,
          0.20673329548816272,
          0.21096852521491496,
          0.21380616474300548,
          0.21981723500014233,
          0.23584670830186621,
          0.22593942232697847,
          0.23115881836794383,
          0.22758627068925508,
          0.24003758778012244,
          0.23872907917619696,
          0.25022421993005123,
          0.24584432313071214,
          0.2491575,
          0.25675342513999927,
          0.2588008354669613,
          0.25042522851919563,
          0.25194596656633045,
          0.2649931211479971,
          0.25444891179576384,
          0.25042881941980144,
          0.25042632318501173,
          0.2578528617910669,
          0.26132295529495975,
          0.25958907894736843,
          0.25898740847059076,
          0.2630510873423848,
          0.27479896374608787,
          0.2758655004210209,
          0.28101217403315654,
          0.27277685799541534,
          0.27623387340892164,
          0.27926226315789476,
          0.28571350245151456,
          0.29145335557851654,
          0.2902745796962898,
          0.2932249495726393,
          0.2980582547904295,
          0.3126553601319339,
          0.30857813333333334,
          0.309793380906332,
          0.30321887621062116,
          0.30929342887814476,
          0.3087055376977235,
          0.31398643142563465,
          0.32669452176913055,
          0.3288341153556653,
          0.3229476203355202,
          0.3396344220200693,
          0.3349967855357044,
          0.33851354156508845,
          0.34849545535525045,
          0.3351638940345287,
          0.32826587396370244,
          0.3384650032110782,
          0.32140713586837427,
          0.32224440967927603,
          0.32972714217328863,
          0.3259934666836688,
          0.329123438105474,
          0.33403,
          0.3434242962891379,
          0.3407554989034451,
          0.33827743207692756,
          0.33385086823289073,
          0.34166391864020496,
          0.3376279260050933,
          0.33658153805154656
         ],
         "showlegend": false,
         "x": [
          "2021-12-25T00:00:00",
          "2021-12-26T00:00:00",
          "2021-12-27T00:00:00",
          "2021-12-28T00:00:00",
          "2021-12-29T00:00:00",
          "2021-12-30T00:00:00",
          "2021-12-31T00:00:00",
          "2022-01-01T00:00:00",
          "2022-01-02T00:00:00",
          "2022-01-03T00:00:00",
          "2022-01-04T00:00:00",
          "2022-01-05T00:00:00",
          "2022-01-06T00:00:00",
          "2022-01-07T00:00:00",
          "2022-01-08T00:00:00",
          "2022-01-09T00:00:00",
          "2022-01-10T00:00:00",
          "2022-01-11T00:00:00",
          "2022-01-12T00:00:00",
          "2022-01-13T00:00:00",
          "2022-01-14T00:00:00",
          "2022-01-15T00:00:00",
          "2022-01-16T00:00:00",
          "2022-01-17T00:00:00",
          "2022-01-18T00:00:00",
          "2022-01-19T00:00:00",
          "2022-01-20T00:00:00",
          "2022-01-21T00:00:00",
          "2022-01-22T00:00:00",
          "2022-01-23T00:00:00",
          "2022-01-24T00:00:00",
          "2022-01-25T00:00:00",
          "2022-01-26T00:00:00",
          "2022-01-27T00:00:00",
          "2022-01-28T00:00:00",
          "2022-01-29T00:00:00",
          "2022-01-30T00:00:00",
          "2022-01-31T00:00:00",
          "2022-02-01T00:00:00",
          "2022-02-02T00:00:00",
          "2022-02-03T00:00:00",
          "2022-02-04T00:00:00",
          "2022-02-05T00:00:00",
          "2022-02-06T00:00:00",
          "2022-02-07T00:00:00",
          "2022-02-08T00:00:00",
          "2022-02-09T00:00:00",
          "2022-02-10T00:00:00",
          "2022-02-11T00:00:00",
          "2022-02-12T00:00:00",
          "2022-02-13T00:00:00",
          "2022-02-14T00:00:00",
          "2022-02-15T00:00:00",
          "2022-02-16T00:00:00",
          "2022-02-17T00:00:00",
          "2022-02-18T00:00:00",
          "2022-02-19T00:00:00",
          "2022-02-20T00:00:00",
          "2022-02-21T00:00:00",
          "2022-02-22T00:00:00",
          "2022-02-23T00:00:00",
          "2022-02-24T00:00:00",
          "2022-02-25T00:00:00",
          "2022-02-26T00:00:00",
          "2022-02-27T00:00:00",
          "2022-02-28T00:00:00",
          "2022-03-01T00:00:00",
          "2022-03-02T00:00:00",
          "2022-03-03T00:00:00",
          "2022-03-04T00:00:00",
          "2022-03-05T00:00:00",
          "2022-03-06T00:00:00",
          "2022-03-07T00:00:00",
          "2022-03-08T00:00:00",
          "2022-03-09T00:00:00",
          "2022-03-10T00:00:00",
          "2022-03-11T00:00:00",
          "2022-03-12T00:00:00",
          "2022-03-13T00:00:00"
         ],
         "type": "candlestick",
         "xaxis": "x",
         "yaxis": "y2"
        },
        {
         "marker": {
          "color": "rgba(128,128,128,0.5)"
         },
         "showlegend": false,
         "x": [
          "2021-12-25T00:00:00",
          "2021-12-26T00:00:00",
          "2021-12-27T00:00:00",
          "2021-12-28T00:00:00",
          "2021-12-29T00:00:00",
          "2021-12-30T00:00:00",
          "2021-12-31T00:00:00",
          "2022-01-01T00:00:00",
          "2022-01-02T00:00:00",
          "2022-01-03T00:00:00",
          "2022-01-04T00:00:00",
          "2022-01-05T00:00:00",
          "2022-01-06T00:00:00",
          "2022-01-07T00:00:00",
          "2022-01-08T00:00:00",
          "2022-01-09T00:00:00",
          "2022-01-10T00:00:00",
          "2022-01-11T00:00:00",
          "2022-01-12T00:00:00",
          "2022-01-13T00:00:00",
          "2022-01-14T00:00:00",
          "2022-01-15T00:00:00",
          "2022-01-16T00:00:00",
          "2022-01-17T00:00:00",
          "2022-01-18T00:00:00",
          "2022-01-19T00:00:00",
          "2022-01-20T00:00:00",
          "2022-01-21T00:00:00",
          "2022-01-22T00:00:00",
          "2022-01-23T00:00:00",
          "2022-01-24T00:00:00",
          "2022-01-25T00:00:00",
          "2022-01-26T00:00:00",
          "2022-01-27T00:00:00",
          "2022-01-28T00:00:00",
          "2022-01-29T00:00:00",
          "2022-01-30T00:00:00",
          "2022-01-31T00:00:00",
          "2022-02-01T00:00:00",
          "2022-02-02T00:00:00",
          "2022-02-03T00:00:00",
          "2022-02-04T00:00:00",
          "2022-02-05T00:00:00",
          "2022-02-06T00:00:00",
          "2022-02-07T00:00:00",
          "2022-02-08T00:00:00",
          "2022-02-09T00:00:00",
          "2022-02-10T00:00:00",
          "2022-02-11T00:00:00",
          "2022-02-12T00:00:00",
          "2022-02-13T00:00:00",
          "2022-02-14T00:00:00",
          "2022-02-15T00:00:00",
          "2022-02-16T00:00:00",
          "2022-02-17T00:00:00",
          "2022-02-18T00:00:00",
          "2022-02-19T00:00:00",
          "2022-02-20T00:00:00",
          "2022-02-21T00:00:00",
          "2022-02-22T00:00:00",
          "2022-02-23T00:00:00",
          "2022-02-24T00:00:00",
          "2022-02-25T00:00:00",
          "2022-02-26T00:00:00",
          "2022-02-27T00:00:00",
          "2022-02-28T00:00:00",
          "2022-03-01T00:00:00",
          "2022-03-02T00:00:00",
          "2022-03-03T00:00:00",
          "2022-03-04T00:00:00",
          "2022-03-05T00:00:00",
          "2022-03-06T00:00:00",
          "2022-03-07T00:00:00",
          "2022-03-08T00:00:00",
          "2022-03-09T00:00:00",
          "2022-03-10T00:00:00",
          "2022-03-11T00:00:00",
          "2022-03-12T00:00:00",
          "2022-03-13T00:00:00"
         ],
         "y": [
          1.359262504814E12,
          1.565795759529E12,
          2.591825101883E12,
          1.061532859326E12,
          1.680099265723E12,
          1.702390979847E12,
          2.048828839055E12,
          1.963508860198E12,
          1.604233489573E12,
          2.274991496418E12,
          2.87856700597E12,
          3.176646993613E12,
          2.151529343972E12,
          3.355710561209E12,
          2.09962752276E12,
          2.88513603559E12,
          2.102024779575E12,
          1.683523238259E12,
          2.348712863151E12,
          1.828367099232E12,
          1.283717975193E12,
          1.531943507324E12,
          1.786443154645E12,
          1.864134647412E12,
          1.66885774813E12,
          1.426156412462E12,
          1.826487717212E12,
          2.517423330011E12,
          2.557861227748E12,
          2.747885460332E12,
          3.030695757393E12,
          2.34050131069E12,
          1.738636630885E12,
          1.74331996456E12,
          1.939972617898E12,
          1.148848714579E12,
          8.11618063839E11,
          2.3901626737E12,
          1.485510385812E12,
          7.25444508492E11,
          1.443050568518E12,
          1.385055740111E12,
          1.065522901676E12,
          1.313940727336E12,
          1.275466964856E12,
          1.818047016959E12,
          1.351835374645E12,
          8.39525892032E11,
          1.024515327301E12,
          1.034587890102E12,
          7.27541772854E11,
          1.244634648961E12,
          1.77321255248E12,
          6.6142974941E11,
          1.938636149886E12,
          1.154521686944E12,
          5.76579277654E11,
          1.044418860376E12,
          1.322221817904E12,
          1.248378201301E12,
          1.338680578784E12,
          2.81844977695E12,
          1.673861525617E12,
          1.530446948102E12,
          1.030392815384E12,
          2.424740560391E12,
          1.445128673963E12,
          1.68102826058E12,
          1.413460845508E12,
          1.335742569695E12,
          9.70535436076E11,
          7.01589538923E11,
          1.178187618941E12,
          1.521945183425E12,
          1.163700472929E12,
          1.732994706262E12,
          7.4729666011E11,
          6.56923035416E11,
          1.074183560622E12
         ],
         "type": "bar",
         "xaxis": "x",
         "yaxis": "y"
        }
       ],
       "layout": {
        "template": {
         "data": {
          "histogram2dcontour": [
           {
            "type": "histogram2dcontour",
            "colorbar": {
             "outlinewidth": 0,
             "ticks": ""
            },
            "colorscale": [
             [
              0.0,
              "#0d0887"
             ],
             [
              0.1111111111111111,
              "#46039f"
             ],
             [
              0.2222222222222222,
              "#7201a8"
             ],
             [
              0.3333333333333333,
              "#9c179e"
             ],
             [
              0.4444444444444444,
              "#bd3786"
             ],
             [
              0.5555555555555556,
              "#d8576b"
             ],
             [
              0.6666666666666666,
              "#ed7953"
             ],
             [
              0.7777777777777778,
              "#fb9f3a"
             ],
             [
              0.8888888888888888,
              "#fdca26"
             ],
             [
              1.0,
              "#f0f921"
             ]
            ]
           }
          ],
          "choropleth": [
           {
            "type": "choropleth",
            "colorbar": {
             "outlinewidth": 0,
             "ticks": ""
            }
           }
          ],
          "histogram2d": [
           {
            "type": "histogram2d",
            "colorbar": {
             "outlinewidth": 0,
             "ticks": ""
            },
            "colorscale": [
             [
              0.0,
              "#0d0887"
             ],
             [
              0.1111111111111111,
              "#46039f"
             ],
             [
              0.2222222222222222,
              "#7201a8"
             ],
             [
              0.3333333333333333,
              "#9c179e"
             ],
             [
              0.4444444444444444,
              "#bd3786"
             ],
             [
              0.5555555555555556,
              "#d8576b"
             ],
             [
              0.6666666666666666,
              "#ed7953"
             ],
             [
              0.7777777777777778,
              "#fb9f3a"
             ],
             [
              0.8888888888888888,
              "#fdca26"
             ],
             [
              1.0,
              "#f0f921"
             ]
            ]
           }
          ],
          "heatmap": [
           {
            "type": "heatmap",
            "colorbar": {
             "outlinewidth": 0,
             "ticks": ""
            },
            "colorscale": [
             [
              0.0,
              "#0d0887"
             ],
             [
              0.1111111111111111,
              "#46039f"
             ],
             [
              0.2222222222222222,
              "#7201a8"
             ],
             [
              0.3333333333333333,
              "#9c179e"
             ],
             [
              0.4444444444444444,
              "#bd3786"
             ],
             [
              0.5555555555555556,
              "#d8576b"
             ],
             [
              0.6666666666666666,
              "#ed7953"
             ],
             [
              0.7777777777777778,
              "#fb9f3a"
             ],
             [
              0.8888888888888888,
              "#fdca26"
             ],
             [
              1.0,
              "#f0f921"
             ]
            ]
           }
          ],
          "heatmapgl": [
           {
            "type": "heatmapgl",
            "colorbar": {
             "outlinewidth": 0,
             "ticks": ""
            },
            "colorscale": [
             [
              0.0,
              "#0d0887"
             ],
             [
              0.1111111111111111,
              "#46039f"
             ],
             [
              0.2222222222222222,
              "#7201a8"
             ],
             [
              0.3333333333333333,
              "#9c179e"
             ],
             [
              0.4444444444444444,
              "#bd3786"
             ],
             [
              0.5555555555555556,
              "#d8576b"
             ],
             [
              0.6666666666666666,
              "#ed7953"
             ],
             [
              0.7777777777777778,
              "#fb9f3a"
             ],
             [
              0.8888888888888888,
              "#fdca26"
             ],
             [
              1.0,
              "#f0f921"
             ]
            ]
           }
          ],
          "contourcarpet": [
           {
            "type": "contourcarpet",
            "colorbar": {
             "outlinewidth": 0,
             "ticks": ""
            }
           }
          ],
          "contour": [
           {
            "type": "contour",
            "colorbar": {
             "outlinewidth": 0,
             "ticks": ""
            },
            "colorscale": [
             [
              0.0,
              "#0d0887"
             ],
             [
              0.1111111111111111,
              "#46039f"
             ],
             [
              0.2222222222222222,
              "#7201a8"
             ],
             [
              0.3333333333333333,
              "#9c179e"
             ],
             [
              0.4444444444444444,
              "#bd3786"
             ],
             [
              0.5555555555555556,
              "#d8576b"
             ],
             [
              0.6666666666666666,
              "#ed7953"
             ],
             [
              0.7777777777777778,
              "#fb9f3a"
             ],
             [
              0.8888888888888888,
              "#fdca26"
             ],
             [
              1.0,
              "#f0f921"
             ]
            ]
           }
          ],
          "surface": [
           {
            "type": "surface",
            "colorbar": {
             "outlinewidth": 0,
             "ticks": ""
            },
            "colorscale": [
             [
              0.0,
              "#0d0887"
             ],
             [
              0.1111111111111111,
              "#46039f"
             ],
             [
              0.2222222222222222,
              "#7201a8"
             ],
             [
              0.3333333333333333,
              "#9c179e"
             ],
             [
              0.4444444444444444,
              "#bd3786"
             ],
             [
              0.5555555555555556,
              "#d8576b"
             ],
             [
              0.6666666666666666,
              "#ed7953"
             ],
             [
              0.7777777777777778,
              "#fb9f3a"
             ],
             [
              0.8888888888888888,
              "#fdca26"
             ],
             [
              1.0,
              "#f0f921"
             ]
            ]
           }
          ],
          "mesh3d": [
           {
            "type": "mesh3d",
            "colorbar": {
             "outlinewidth": 0,
             "ticks": ""
            }
           }
          ],
          "scatter": [
           {
            "marker": {
             "line": {
              "color": "#283442"
             }
            },
            "type": "scatter"
           }
          ],
          "parcoords": [
           {
            "type": "parcoords",
            "line": {
             "colorbar": {
              "outlinewidth": 0,
              "ticks": ""
             }
            }
           }
          ],
          "scatterpolargl": [
           {
            "type": "scatterpolargl",
            "marker": {
             "colorbar": {
              "outlinewidth": 0,
              "ticks": ""
             }
            }
           }
          ],
          "bar": [
           {
            "error_x": {
             "color": "#f2f5fa"
            },
            "error_y": {
             "color": "#f2f5fa"
            },
            "marker": {
             "line": {
              "color": "rgb(17,17,17)",
              "width": 0.5
             },
             "pattern": {
              "fillmode": "overlay",
              "size": 10,
              "solidity": 0.2
             }
            },
            "type": "bar"
           }
          ],
          "scattergeo": [
           {
            "type": "scattergeo",
            "marker": {
             "colorbar": {
              "outlinewidth": 0,
              "ticks": ""
             }
            }
           }
          ],
          "scatterpolar": [
           {
            "type": "scatterpolar",
            "marker": {
             "colorbar": {
              "outlinewidth": 0,
              "ticks": ""
             }
            }
           }
          ],
          "histogram": [
           {
            "marker": {
             "pattern": {
              "fillmode": "overlay",
              "size": 10,
              "solidity": 0.2
             }
            },
            "type": "histogram"
           }
          ],
          "scattergl": [
           {
            "marker": {
             "line": {
              "color": "#283442"
             }
            },
            "type": "scattergl"
           }
          ],
          "scatter3d": [
           {
            "type": "scatter3d",
            "line": {
             "colorbar": {
              "outlinewidth": 0,
              "ticks": ""
             }
            },
            "marker": {
             "colorbar": {
              "outlinewidth": 0,
              "ticks": ""
             }
            }
           }
          ],
          "scattermapbox": [
           {
            "type": "scattermapbox",
            "marker": {
             "colorbar": {
              "outlinewidth": 0,
              "ticks": ""
             }
            }
           }
          ],
          "scatterternary": [
           {
            "type": "scatterternary",
            "marker": {
             "colorbar": {
              "outlinewidth": 0,
              "ticks": ""
             }
            }
           }
          ],
          "scattercarpet": [
           {
            "type": "scattercarpet",
            "marker": {
             "colorbar": {
              "outlinewidth": 0,
              "ticks": ""
             }
            }
           }
          ],
          "carpet": [
           {
            "aaxis": {
             "endlinecolor": "#A2B1C6",
             "gridcolor": "#506784",
             "linecolor": "#506784",
             "minorgridcolor": "#506784",
             "startlinecolor": "#A2B1C6"
            },
            "baxis": {
             "endlinecolor": "#A2B1C6",
             "gridcolor": "#506784",
             "linecolor": "#506784",
             "minorgridcolor": "#506784",
             "startlinecolor": "#A2B1C6"
            },
            "type": "carpet"
           }
          ],
          "table": [
           {
            "cells": {
             "fill": {
              "color": "#506784"
             },
             "line": {
              "color": "rgb(17,17,17)"
             }
            },
            "header": {
             "fill": {
              "color": "#2a3f5f"
             },
             "line": {
              "color": "rgb(17,17,17)"
             }
            },
            "type": "table"
           }
          ],
          "barpolar": [
           {
            "marker": {
             "line": {
              "color": "rgb(17,17,17)",
              "width": 0.5
             },
             "pattern": {
              "fillmode": "overlay",
              "size": 10,
              "solidity": 0.2
             }
            },
            "type": "barpolar"
           }
          ],
          "pie": [
           {
            "automargin": true,
            "type": "pie"
           }
          ]
         },
         "layout": {
          "autotypenumbers": "strict",
          "colorway": [
           "#636efa",
           "#EF553B",
           "#00cc96",
           "#ab63fa",
           "#FFA15A",
           "#19d3f3",
           "#FF6692",
           "#B6E880",
           "#FF97FF",
           "#FECB52"
          ],
          "font": {
           "color": "#f2f5fa"
          },
          "hovermode": "closest",
          "hoverlabel": {
           "align": "left"
          },
          "paper_bgcolor": "rgb(17,17,17)",
          "plot_bgcolor": "rgb(17,17,17)",
          "polar": {
           "bgcolor": "rgb(17,17,17)",
           "angularaxis": {
            "gridcolor": "#506784",
            "linecolor": "#506784",
            "ticks": ""
           },
           "radialaxis": {
            "gridcolor": "#506784",
            "linecolor": "#506784",
            "ticks": ""
           }
          },
          "ternary": {
           "bgcolor": "rgb(17,17,17)",
           "aaxis": {
            "gridcolor": "#506784",
            "linecolor": "#506784",
            "ticks": ""
           },
           "baxis": {
            "gridcolor": "#506784",
            "linecolor": "#506784",
            "ticks": ""
           },
           "caxis": {
            "gridcolor": "#506784",
            "linecolor": "#506784",
            "ticks": ""
           }
          },
          "coloraxis": {
           "colorbar": {
            "outlinewidth": 0,
            "ticks": ""
           }
          },
          "colorscale": {
           "sequential": [
            [
             0.0,
             "#0d0887"
            ],
            [
             0.1111111111111111,
             "#46039f"
            ],
            [
             0.2222222222222222,
             "#7201a8"
            ],
            [
             0.3333333333333333,
             "#9c179e"
            ],
            [
             0.4444444444444444,
             "#bd3786"
            ],
            [
             0.5555555555555556,
             "#d8576b"
            ],
            [
             0.6666666666666666,
             "#ed7953"
            ],
            [
             0.7777777777777778,
             "#fb9f3a"
            ],
            [
             0.8888888888888888,
             "#fdca26"
            ],
            [
             1.0,
             "#f0f921"
            ]
           ],
           "sequentialminus": [
            [
             0.0,
             "#0d0887"
            ],
            [
             0.1111111111111111,
             "#46039f"
            ],
            [
             0.2222222222222222,
             "#7201a8"
            ],
            [
             0.3333333333333333,
             "#9c179e"
            ],
            [
             0.4444444444444444,
             "#bd3786"
            ],
            [
             0.5555555555555556,
             "#d8576b"
            ],
            [
             0.6666666666666666,
             "#ed7953"
            ],
            [
             0.7777777777777778,
             "#fb9f3a"
            ],
            [
             0.8888888888888888,
             "#fdca26"
            ],
            [
             1.0,
             "#f0f921"
            ]
           ],
           "diverging": [
            [
             0,
             "#8e0152"
            ],
            [
             0.1,
             "#c51b7d"
            ],
            [
             0.2,
             "#de77ae"
            ],
            [
             0.3,
             "#f1b6da"
            ],
            [
             0.4,
             "#fde0ef"
            ],
            [
             0.5,
             "#f7f7f7"
            ],
            [
             0.6,
             "#e6f5d0"
            ],
            [
             0.7,
             "#b8e186"
            ],
            [
             0.8,
             "#7fbc41"
            ],
            [
             0.9,
             "#4d9221"
            ],
            [
             1,
             "#276419"
            ]
           ]
          },
          "xaxis": {
           "gridcolor": "#283442",
           "linecolor": "#506784",
           "ticks": "",
           "title": {
            "standoff": 15
           },
           "zerolinecolor": "#283442",
           "automargin": true,
           "zerolinewidth": 2
          },
          "yaxis": {
           "gridcolor": "#283442",
           "linecolor": "#506784",
           "ticks": "",
           "title": {
            "standoff": 15
           },
           "zerolinecolor": "#283442",
           "automargin": true,
           "zerolinewidth": 2
          },
          "scene": {
           "xaxis": {
            "backgroundcolor": "rgb(17,17,17)",
            "gridcolor": "#506784",
            "linecolor": "#506784",
            "showbackground": true,
            "ticks": "",
            "zerolinecolor": "#C8D4E3",
            "gridwidth": 2
           },
           "yaxis": {
            "backgroundcolor": "rgb(17,17,17)",
            "gridcolor": "#506784",
            "linecolor": "#506784",
            "showbackground": true,
            "ticks": "",
            "zerolinecolor": "#C8D4E3",
            "gridwidth": 2
           },
           "zaxis": {
            "backgroundcolor": "rgb(17,17,17)",
            "gridcolor": "#506784",
            "linecolor": "#506784",
            "showbackground": true,
            "ticks": "",
            "zerolinecolor": "#C8D4E3",
            "gridwidth": 2
           }
          },
          "shapedefaults": {
           "line": {
            "color": "#f2f5fa"
           }
          },
          "annotationdefaults": {
           "arrowcolor": "#f2f5fa",
           "arrowhead": 0,
           "arrowwidth": 1
          },
          "geo": {
           "bgcolor": "rgb(17,17,17)",
           "landcolor": "rgb(17,17,17)",
           "subunitcolor": "#506784",
           "showland": true,
           "showlakes": true,
           "lakecolor": "rgb(17,17,17)"
          },
          "title": {
           "x": 0.05
          },
          "updatemenudefaults": {
           "bgcolor": "#506784",
           "borderwidth": 0
          },
          "sliderdefaults": {
           "bgcolor": "#C8D4E3",
           "borderwidth": 1,
           "bordercolor": "rgb(17,17,17)",
           "tickwidth": 0
          },
          "mapbox": {
           "style": "dark"
          }
         }
        },
        "xaxis": {
         "anchor": "y",
         "domain": [
          0.0,
          0.94
         ]
        },
        "yaxis": {
         "anchor": "x",
         "domain": [
          0.0,
          1.0
         ],
         "title": {
          "text": "Volume OSMO"
         },
         "showgrid": false
        },
        "yaxis2": {
         "anchor": "x",
         "overlaying": "y",
         "side": "right",
         "title": {
          "text": "Price ATOM/OSMO"
         },
         "showgrid": true
        },
        "title": {
         "text": "ATOM/OSMO pool price development post Osmosis launch"
        },
        "height": 800
       },
       "config": {
        "plotlyServerURL": "https://plot.ly"
       }
      },
      "text/html": "<div>                            <div id=\"f0ee94d5-0a74-46a7-8f02-4504633efaba\" class=\"plotly-graph-div\" style=\"height:800px; width:100%;\"></div>            <script type=\"text/javascript\">                require([\"plotly\"], function(Plotly) {                    window.PLOTLYENV=window.PLOTLYENV || {};                                    if (document.getElementById(\"f0ee94d5-0a74-46a7-8f02-4504633efaba\")) {                    Plotly.newPlot(                        \"f0ee94d5-0a74-46a7-8f02-4504633efaba\",                        [{\"close\":[0.2003953118792213,0.1910265,0.20395580947106015,0.20689548804553415,0.20409407577171135,0.20000533347555935,0.19311423327481037,0.19116775932645894,0.1928523018987993,0.1953076553098938,0.19777437898845,0.20670068020373372,0.21224047124237466,0.21507457710961275,0.2184979648144357,0.23726633814180878,0.22592881558048203,0.23255195237347132,0.2289572961901712,0.23833064516129032,0.23726173837431275,0.2502241409234112,0.24585033424758587,0.24917248018880914,0.2552145993031359,0.26036094347884026,0.2504261323589735,0.2504591190088203,0.26499272669163193,0.2563483384269748,0.24892878612269248,0.2519107582478428,0.2578532190882069,0.2628965524237739,0.2595899909108584,0.2589917842470806,0.26147368995177855,0.2747991089764343,0.27404036466255494,0.2810147160576085,0.27476029688461323,0.27460701136808613,0.2792637667591695,0.2856985370033185,0.2932056911224647,0.2920304315290596,0.2914639331650991,0.29803390016400805,0.31462888308770126,0.3085782,0.3097863889215042,0.3050466149358449,0.31118617198189247,0.30809752315663064,0.31211051830660563,0.3247422184759675,0.3288339366497036,0.3245056229847592,0.33710977936734715,0.33502336610712086,0.34005465177441824,0.34643825158858055,0.3351607111839242,0.328314465816999,0.3384846141058055,0.31947364782845833,0.3205087422671225,0.3296762108643297,0.32591501578393156,0.3290429328874534,0.33586500541125164,0.3433826163695072,0.34066878961295427,0.33810288587672194,0.33387269135802466,0.3416530278232406,0.3395761306760032,0.33667784898943365,0.33840499239960825],\"high\":[0.20828831991308544,0.20174299955135852,0.20548559479302522,0.20872456511645907,0.21232906333350066,0.2065715197329668,0.20017989257036697,0.19390086420979438,0.19698404025629435,0.2000547974658392,0.19951719044522095,0.21222169909573396,0.2158613790030773,0.21510708210017213,0.2224848075624578,0.2374310260201748,0.23803805795317406,0.23507409660832396,0.23446478405458915,0.2396989370304771,0.24395844857276353,0.25173172547245637,0.25235944451934744,0.25373402762419967,0.2578688488600987,0.26111113412090453,0.2603636660809872,0.25936973155232784,0.26883322886242034,0.2652267288664229,0.2621067617294288,0.2542991843820747,0.26185907373113565,0.26796724245926495,0.26650297698626596,0.2629078555289785,0.2656841238195279,0.27657632424678746,0.2770166910598765,0.2835617689800704,0.2847815528989993,0.2789122343277775,0.2829648025216104,0.28966346153846156,0.29398073836276084,0.29802368573044713,0.2942027974245534,0.29956760390432646,0.31513035367079595,0.31564712015562163,0.31123046347981764,0.31269699910943893,0.31555996270719666,0.3147343848548244,0.3157140533666123,0.32728235997983257,0.3320273590543861,0.33143345682530634,0.33931882424670123,0.34101355149660867,0.34175607594515106,0.3538484540176651,0.352066205205587,0.33735915255380877,0.33956986360702335,0.3392797995370276,0.32482040199872386,0.33458009347479534,0.3377526389739525,0.332518662609939,0.34233679093492175,0.3444902233674608,0.3489358357386207,0.3460066808381415,0.3403224214620932,0.355426630454783,0.34443673846823325,0.3404492224995201,0.3405850585058506],\"low\":[0.2003953118792213,0.1905296044658215,0.1903,0.2027268,0.20285938966593217,0.19802754545454546,0.19147588188650283,0.18672485216456378,0.19030339083878645,0.19048691773071824,0.19038428163473523,0.19591314090593823,0.2058568151809976,0.2058406798848721,0.2124785808869979,0.2166548771649648,0.2258825216280055,0.22571496100212715,0.22567352703726362,0.22723816045787215,0.2369600970635192,0.23659259616006123,0.24367862344671937,0.2445556956233741,0.2480968838749069,0.2537696720510945,0.25018066531459077,0.24826618993268565,0.2497234935163997,0.25335837064856276,0.2486103449739042,0.24575787083753783,0.250418318309994,0.2568075196455794,0.258677102850802,0.25600163360627215,0.25883647912230684,0.2614618508133357,0.27003632,0.27417534537159427,0.27231182795698927,0.2702222222222222,0.27361067015275925,0.2778111741419764,0.2833888888888889,0.28885536074746426,0.2883882883701214,0.2914090909090909,0.2962855944729461,0.3073523876621371,0.3056866530619734,0.30104526315789476,0.3007469573986702,0.3079648683269068,0.3021541950113379,0.3120669713666982,0.3243908565163423,0.32178860165685197,0.3200488003253355,0.33103974136090525,0.33379548319367947,0.3324285495208125,0.33281547454969196,0.32560137457044674,0.3282458929517753,0.31885373241525755,0.31432,0.3177142857142857,0.3233858858858859,0.3238736676911005,0.3291202714590926,0.3340290925883168,0.3385158946903532,0.330600958750394,0.3324217563050744,0.33364259915835515,0.3374300065876153,0.33499964689621775,0.33350710282809853],\"open\":[0.2060966650657067,0.2003949792066235,0.19102589119740368,0.2039519766191235,0.2081415058815933,0.202871,0.19880647091764264,0.19196027953631808,0.19116264129731475,0.19285071199324688,0.19530561236458238,0.19776557928776314,0.20673329548816272,0.21096852521491496,0.21380616474300548,0.21981723500014233,0.23584670830186621,0.22593942232697847,0.23115881836794383,0.22758627068925508,0.24003758778012244,0.23872907917619696,0.25022421993005123,0.24584432313071214,0.2491575,0.25675342513999927,0.2588008354669613,0.25042522851919563,0.25194596656633045,0.2649931211479971,0.25444891179576384,0.25042881941980144,0.25042632318501173,0.2578528617910669,0.26132295529495975,0.25958907894736843,0.25898740847059076,0.2630510873423848,0.27479896374608787,0.2758655004210209,0.28101217403315654,0.27277685799541534,0.27623387340892164,0.27926226315789476,0.28571350245151456,0.29145335557851654,0.2902745796962898,0.2932249495726393,0.2980582547904295,0.3126553601319339,0.30857813333333334,0.309793380906332,0.30321887621062116,0.30929342887814476,0.3087055376977235,0.31398643142563465,0.32669452176913055,0.3288341153556653,0.3229476203355202,0.3396344220200693,0.3349967855357044,0.33851354156508845,0.34849545535525045,0.3351638940345287,0.32826587396370244,0.3384650032110782,0.32140713586837427,0.32224440967927603,0.32972714217328863,0.3259934666836688,0.329123438105474,0.33403,0.3434242962891379,0.3407554989034451,0.33827743207692756,0.33385086823289073,0.34166391864020496,0.3376279260050933,0.33658153805154656],\"showlegend\":false,\"x\":[\"2021-12-25T00:00:00\",\"2021-12-26T00:00:00\",\"2021-12-27T00:00:00\",\"2021-12-28T00:00:00\",\"2021-12-29T00:00:00\",\"2021-12-30T00:00:00\",\"2021-12-31T00:00:00\",\"2022-01-01T00:00:00\",\"2022-01-02T00:00:00\",\"2022-01-03T00:00:00\",\"2022-01-04T00:00:00\",\"2022-01-05T00:00:00\",\"2022-01-06T00:00:00\",\"2022-01-07T00:00:00\",\"2022-01-08T00:00:00\",\"2022-01-09T00:00:00\",\"2022-01-10T00:00:00\",\"2022-01-11T00:00:00\",\"2022-01-12T00:00:00\",\"2022-01-13T00:00:00\",\"2022-01-14T00:00:00\",\"2022-01-15T00:00:00\",\"2022-01-16T00:00:00\",\"2022-01-17T00:00:00\",\"2022-01-18T00:00:00\",\"2022-01-19T00:00:00\",\"2022-01-20T00:00:00\",\"2022-01-21T00:00:00\",\"2022-01-22T00:00:00\",\"2022-01-23T00:00:00\",\"2022-01-24T00:00:00\",\"2022-01-25T00:00:00\",\"2022-01-26T00:00:00\",\"2022-01-27T00:00:00\",\"2022-01-28T00:00:00\",\"2022-01-29T00:00:00\",\"2022-01-30T00:00:00\",\"2022-01-31T00:00:00\",\"2022-02-01T00:00:00\",\"2022-02-02T00:00:00\",\"2022-02-03T00:00:00\",\"2022-02-04T00:00:00\",\"2022-02-05T00:00:00\",\"2022-02-06T00:00:00\",\"2022-02-07T00:00:00\",\"2022-02-08T00:00:00\",\"2022-02-09T00:00:00\",\"2022-02-10T00:00:00\",\"2022-02-11T00:00:00\",\"2022-02-12T00:00:00\",\"2022-02-13T00:00:00\",\"2022-02-14T00:00:00\",\"2022-02-15T00:00:00\",\"2022-02-16T00:00:00\",\"2022-02-17T00:00:00\",\"2022-02-18T00:00:00\",\"2022-02-19T00:00:00\",\"2022-02-20T00:00:00\",\"2022-02-21T00:00:00\",\"2022-02-22T00:00:00\",\"2022-02-23T00:00:00\",\"2022-02-24T00:00:00\",\"2022-02-25T00:00:00\",\"2022-02-26T00:00:00\",\"2022-02-27T00:00:00\",\"2022-02-28T00:00:00\",\"2022-03-01T00:00:00\",\"2022-03-02T00:00:00\",\"2022-03-03T00:00:00\",\"2022-03-04T00:00:00\",\"2022-03-05T00:00:00\",\"2022-03-06T00:00:00\",\"2022-03-07T00:00:00\",\"2022-03-08T00:00:00\",\"2022-03-09T00:00:00\",\"2022-03-10T00:00:00\",\"2022-03-11T00:00:00\",\"2022-03-12T00:00:00\",\"2022-03-13T00:00:00\"],\"type\":\"candlestick\",\"xaxis\":\"x\",\"yaxis\":\"y2\"},{\"marker\":{\"color\":\"rgba(128,128,128,0.5)\"},\"showlegend\":false,\"x\":[\"2021-12-25T00:00:00\",\"2021-12-26T00:00:00\",\"2021-12-27T00:00:00\",\"2021-12-28T00:00:00\",\"2021-12-29T00:00:00\",\"2021-12-30T00:00:00\",\"2021-12-31T00:00:00\",\"2022-01-01T00:00:00\",\"2022-01-02T00:00:00\",\"2022-01-03T00:00:00\",\"2022-01-04T00:00:00\",\"2022-01-05T00:00:00\",\"2022-01-06T00:00:00\",\"2022-01-07T00:00:00\",\"2022-01-08T00:00:00\",\"2022-01-09T00:00:00\",\"2022-01-10T00:00:00\",\"2022-01-11T00:00:00\",\"2022-01-12T00:00:00\",\"2022-01-13T00:00:00\",\"2022-01-14T00:00:00\",\"2022-01-15T00:00:00\",\"2022-01-16T00:00:00\",\"2022-01-17T00:00:00\",\"2022-01-18T00:00:00\",\"2022-01-19T00:00:00\",\"2022-01-20T00:00:00\",\"2022-01-21T00:00:00\",\"2022-01-22T00:00:00\",\"2022-01-23T00:00:00\",\"2022-01-24T00:00:00\",\"2022-01-25T00:00:00\",\"2022-01-26T00:00:00\",\"2022-01-27T00:00:00\",\"2022-01-28T00:00:00\",\"2022-01-29T00:00:00\",\"2022-01-30T00:00:00\",\"2022-01-31T00:00:00\",\"2022-02-01T00:00:00\",\"2022-02-02T00:00:00\",\"2022-02-03T00:00:00\",\"2022-02-04T00:00:00\",\"2022-02-05T00:00:00\",\"2022-02-06T00:00:00\",\"2022-02-07T00:00:00\",\"2022-02-08T00:00:00\",\"2022-02-09T00:00:00\",\"2022-02-10T00:00:00\",\"2022-02-11T00:00:00\",\"2022-02-12T00:00:00\",\"2022-02-13T00:00:00\",\"2022-02-14T00:00:00\",\"2022-02-15T00:00:00\",\"2022-02-16T00:00:00\",\"2022-02-17T00:00:00\",\"2022-02-18T00:00:00\",\"2022-02-19T00:00:00\",\"2022-02-20T00:00:00\",\"2022-02-21T00:00:00\",\"2022-02-22T00:00:00\",\"2022-02-23T00:00:00\",\"2022-02-24T00:00:00\",\"2022-02-25T00:00:00\",\"2022-02-26T00:00:00\",\"2022-02-27T00:00:00\",\"2022-02-28T00:00:00\",\"2022-03-01T00:00:00\",\"2022-03-02T00:00:00\",\"2022-03-03T00:00:00\",\"2022-03-04T00:00:00\",\"2022-03-05T00:00:00\",\"2022-03-06T00:00:00\",\"2022-03-07T00:00:00\",\"2022-03-08T00:00:00\",\"2022-03-09T00:00:00\",\"2022-03-10T00:00:00\",\"2022-03-11T00:00:00\",\"2022-03-12T00:00:00\",\"2022-03-13T00:00:00\"],\"y\":[1359262504814.0,1565795759529.0,2591825101883.0,1061532859326.0,1680099265723.0,1702390979847.0,2048828839055.0,1963508860198.0,1604233489573.0,2274991496418.0,2878567005970.0,3176646993613.0,2151529343972.0,3355710561209.0,2099627522760.0,2885136035590.0,2102024779575.0,1683523238259.0,2348712863151.0,1828367099232.0,1283717975193.0,1531943507324.0,1786443154645.0,1864134647412.0,1668857748130.0,1426156412462.0,1826487717212.0,2517423330011.0,2557861227748.0,2747885460332.0,3030695757393.0,2340501310690.0,1738636630885.0,1743319964560.0,1939972617898.0,1148848714579.0,811618063839.0,2390162673700.0,1485510385812.0,725444508492.0,1443050568518.0,1385055740111.0,1065522901676.0,1313940727336.0,1275466964856.0,1818047016959.0,1351835374645.0,839525892032.0,1024515327301.0,1034587890102.0,727541772854.0,1244634648961.0,1773212552480.0,661429749410.0,1938636149886.0,1154521686944.0,576579277654.0,1044418860376.0,1322221817904.0,1248378201301.0,1338680578784.0,2818449776950.0,1673861525617.0,1530446948102.0,1030392815384.0,2424740560391.0,1445128673963.0,1681028260580.0,1413460845508.0,1335742569695.0,970535436076.0,701589538923.0,1178187618941.0,1521945183425.0,1163700472929.0,1732994706262.0,747296660110.0,656923035416.0,1074183560622.0],\"type\":\"bar\",\"xaxis\":\"x\",\"yaxis\":\"y\"}],                        {\"template\":{\"data\":{\"histogram2dcontour\":[{\"type\":\"histogram2dcontour\",\"colorbar\":{\"outlinewidth\":0,\"ticks\":\"\"},\"colorscale\":[[0.0,\"#0d0887\"],[0.1111111111111111,\"#46039f\"],[0.2222222222222222,\"#7201a8\"],[0.3333333333333333,\"#9c179e\"],[0.4444444444444444,\"#bd3786\"],[0.5555555555555556,\"#d8576b\"],[0.6666666666666666,\"#ed7953\"],[0.7777777777777778,\"#fb9f3a\"],[0.8888888888888888,\"#fdca26\"],[1.0,\"#f0f921\"]]}],\"choropleth\":[{\"type\":\"choropleth\",\"colorbar\":{\"outlinewidth\":0,\"ticks\":\"\"}}],\"histogram2d\":[{\"type\":\"histogram2d\",\"colorbar\":{\"outlinewidth\":0,\"ticks\":\"\"},\"colorscale\":[[0.0,\"#0d0887\"],[0.1111111111111111,\"#46039f\"],[0.2222222222222222,\"#7201a8\"],[0.3333333333333333,\"#9c179e\"],[0.4444444444444444,\"#bd3786\"],[0.5555555555555556,\"#d8576b\"],[0.6666666666666666,\"#ed7953\"],[0.7777777777777778,\"#fb9f3a\"],[0.8888888888888888,\"#fdca26\"],[1.0,\"#f0f921\"]]}],\"heatmap\":[{\"type\":\"heatmap\",\"colorbar\":{\"outlinewidth\":0,\"ticks\":\"\"},\"colorscale\":[[0.0,\"#0d0887\"],[0.1111111111111111,\"#46039f\"],[0.2222222222222222,\"#7201a8\"],[0.3333333333333333,\"#9c179e\"],[0.4444444444444444,\"#bd3786\"],[0.5555555555555556,\"#d8576b\"],[0.6666666666666666,\"#ed7953\"],[0.7777777777777778,\"#fb9f3a\"],[0.8888888888888888,\"#fdca26\"],[1.0,\"#f0f921\"]]}],\"heatmapgl\":[{\"type\":\"heatmapgl\",\"colorbar\":{\"outlinewidth\":0,\"ticks\":\"\"},\"colorscale\":[[0.0,\"#0d0887\"],[0.1111111111111111,\"#46039f\"],[0.2222222222222222,\"#7201a8\"],[0.3333333333333333,\"#9c179e\"],[0.4444444444444444,\"#bd3786\"],[0.5555555555555556,\"#d8576b\"],[0.6666666666666666,\"#ed7953\"],[0.7777777777777778,\"#fb9f3a\"],[0.8888888888888888,\"#fdca26\"],[1.0,\"#f0f921\"]]}],\"contourcarpet\":[{\"type\":\"contourcarpet\",\"colorbar\":{\"outlinewidth\":0,\"ticks\":\"\"}}],\"contour\":[{\"type\":\"contour\",\"colorbar\":{\"outlinewidth\":0,\"ticks\":\"\"},\"colorscale\":[[0.0,\"#0d0887\"],[0.1111111111111111,\"#46039f\"],[0.2222222222222222,\"#7201a8\"],[0.3333333333333333,\"#9c179e\"],[0.4444444444444444,\"#bd3786\"],[0.5555555555555556,\"#d8576b\"],[0.6666666666666666,\"#ed7953\"],[0.7777777777777778,\"#fb9f3a\"],[0.8888888888888888,\"#fdca26\"],[1.0,\"#f0f921\"]]}],\"surface\":[{\"type\":\"surface\",\"colorbar\":{\"outlinewidth\":0,\"ticks\":\"\"},\"colorscale\":[[0.0,\"#0d0887\"],[0.1111111111111111,\"#46039f\"],[0.2222222222222222,\"#7201a8\"],[0.3333333333333333,\"#9c179e\"],[0.4444444444444444,\"#bd3786\"],[0.5555555555555556,\"#d8576b\"],[0.6666666666666666,\"#ed7953\"],[0.7777777777777778,\"#fb9f3a\"],[0.8888888888888888,\"#fdca26\"],[1.0,\"#f0f921\"]]}],\"mesh3d\":[{\"type\":\"mesh3d\",\"colorbar\":{\"outlinewidth\":0,\"ticks\":\"\"}}],\"scatter\":[{\"marker\":{\"line\":{\"color\":\"#283442\"}},\"type\":\"scatter\"}],\"parcoords\":[{\"type\":\"parcoords\",\"line\":{\"colorbar\":{\"outlinewidth\":0,\"ticks\":\"\"}}}],\"scatterpolargl\":[{\"type\":\"scatterpolargl\",\"marker\":{\"colorbar\":{\"outlinewidth\":0,\"ticks\":\"\"}}}],\"bar\":[{\"error_x\":{\"color\":\"#f2f5fa\"},\"error_y\":{\"color\":\"#f2f5fa\"},\"marker\":{\"line\":{\"color\":\"rgb(17,17,17)\",\"width\":0.5},\"pattern\":{\"fillmode\":\"overlay\",\"size\":10,\"solidity\":0.2}},\"type\":\"bar\"}],\"scattergeo\":[{\"type\":\"scattergeo\",\"marker\":{\"colorbar\":{\"outlinewidth\":0,\"ticks\":\"\"}}}],\"scatterpolar\":[{\"type\":\"scatterpolar\",\"marker\":{\"colorbar\":{\"outlinewidth\":0,\"ticks\":\"\"}}}],\"histogram\":[{\"marker\":{\"pattern\":{\"fillmode\":\"overlay\",\"size\":10,\"solidity\":0.2}},\"type\":\"histogram\"}],\"scattergl\":[{\"marker\":{\"line\":{\"color\":\"#283442\"}},\"type\":\"scattergl\"}],\"scatter3d\":[{\"type\":\"scatter3d\",\"line\":{\"colorbar\":{\"outlinewidth\":0,\"ticks\":\"\"}},\"marker\":{\"colorbar\":{\"outlinewidth\":0,\"ticks\":\"\"}}}],\"scattermapbox\":[{\"type\":\"scattermapbox\",\"marker\":{\"colorbar\":{\"outlinewidth\":0,\"ticks\":\"\"}}}],\"scatterternary\":[{\"type\":\"scatterternary\",\"marker\":{\"colorbar\":{\"outlinewidth\":0,\"ticks\":\"\"}}}],\"scattercarpet\":[{\"type\":\"scattercarpet\",\"marker\":{\"colorbar\":{\"outlinewidth\":0,\"ticks\":\"\"}}}],\"carpet\":[{\"aaxis\":{\"endlinecolor\":\"#A2B1C6\",\"gridcolor\":\"#506784\",\"linecolor\":\"#506784\",\"minorgridcolor\":\"#506784\",\"startlinecolor\":\"#A2B1C6\"},\"baxis\":{\"endlinecolor\":\"#A2B1C6\",\"gridcolor\":\"#506784\",\"linecolor\":\"#506784\",\"minorgridcolor\":\"#506784\",\"startlinecolor\":\"#A2B1C6\"},\"type\":\"carpet\"}],\"table\":[{\"cells\":{\"fill\":{\"color\":\"#506784\"},\"line\":{\"color\":\"rgb(17,17,17)\"}},\"header\":{\"fill\":{\"color\":\"#2a3f5f\"},\"line\":{\"color\":\"rgb(17,17,17)\"}},\"type\":\"table\"}],\"barpolar\":[{\"marker\":{\"line\":{\"color\":\"rgb(17,17,17)\",\"width\":0.5},\"pattern\":{\"fillmode\":\"overlay\",\"size\":10,\"solidity\":0.2}},\"type\":\"barpolar\"}],\"pie\":[{\"automargin\":true,\"type\":\"pie\"}]},\"layout\":{\"autotypenumbers\":\"strict\",\"colorway\":[\"#636efa\",\"#EF553B\",\"#00cc96\",\"#ab63fa\",\"#FFA15A\",\"#19d3f3\",\"#FF6692\",\"#B6E880\",\"#FF97FF\",\"#FECB52\"],\"font\":{\"color\":\"#f2f5fa\"},\"hovermode\":\"closest\",\"hoverlabel\":{\"align\":\"left\"},\"paper_bgcolor\":\"rgb(17,17,17)\",\"plot_bgcolor\":\"rgb(17,17,17)\",\"polar\":{\"bgcolor\":\"rgb(17,17,17)\",\"angularaxis\":{\"gridcolor\":\"#506784\",\"linecolor\":\"#506784\",\"ticks\":\"\"},\"radialaxis\":{\"gridcolor\":\"#506784\",\"linecolor\":\"#506784\",\"ticks\":\"\"}},\"ternary\":{\"bgcolor\":\"rgb(17,17,17)\",\"aaxis\":{\"gridcolor\":\"#506784\",\"linecolor\":\"#506784\",\"ticks\":\"\"},\"baxis\":{\"gridcolor\":\"#506784\",\"linecolor\":\"#506784\",\"ticks\":\"\"},\"caxis\":{\"gridcolor\":\"#506784\",\"linecolor\":\"#506784\",\"ticks\":\"\"}},\"coloraxis\":{\"colorbar\":{\"outlinewidth\":0,\"ticks\":\"\"}},\"colorscale\":{\"sequential\":[[0.0,\"#0d0887\"],[0.1111111111111111,\"#46039f\"],[0.2222222222222222,\"#7201a8\"],[0.3333333333333333,\"#9c179e\"],[0.4444444444444444,\"#bd3786\"],[0.5555555555555556,\"#d8576b\"],[0.6666666666666666,\"#ed7953\"],[0.7777777777777778,\"#fb9f3a\"],[0.8888888888888888,\"#fdca26\"],[1.0,\"#f0f921\"]],\"sequentialminus\":[[0.0,\"#0d0887\"],[0.1111111111111111,\"#46039f\"],[0.2222222222222222,\"#7201a8\"],[0.3333333333333333,\"#9c179e\"],[0.4444444444444444,\"#bd3786\"],[0.5555555555555556,\"#d8576b\"],[0.6666666666666666,\"#ed7953\"],[0.7777777777777778,\"#fb9f3a\"],[0.8888888888888888,\"#fdca26\"],[1.0,\"#f0f921\"]],\"diverging\":[[0,\"#8e0152\"],[0.1,\"#c51b7d\"],[0.2,\"#de77ae\"],[0.3,\"#f1b6da\"],[0.4,\"#fde0ef\"],[0.5,\"#f7f7f7\"],[0.6,\"#e6f5d0\"],[0.7,\"#b8e186\"],[0.8,\"#7fbc41\"],[0.9,\"#4d9221\"],[1,\"#276419\"]]},\"xaxis\":{\"gridcolor\":\"#283442\",\"linecolor\":\"#506784\",\"ticks\":\"\",\"title\":{\"standoff\":15},\"zerolinecolor\":\"#283442\",\"automargin\":true,\"zerolinewidth\":2},\"yaxis\":{\"gridcolor\":\"#283442\",\"linecolor\":\"#506784\",\"ticks\":\"\",\"title\":{\"standoff\":15},\"zerolinecolor\":\"#283442\",\"automargin\":true,\"zerolinewidth\":2},\"scene\":{\"xaxis\":{\"backgroundcolor\":\"rgb(17,17,17)\",\"gridcolor\":\"#506784\",\"linecolor\":\"#506784\",\"showbackground\":true,\"ticks\":\"\",\"zerolinecolor\":\"#C8D4E3\",\"gridwidth\":2},\"yaxis\":{\"backgroundcolor\":\"rgb(17,17,17)\",\"gridcolor\":\"#506784\",\"linecolor\":\"#506784\",\"showbackground\":true,\"ticks\":\"\",\"zerolinecolor\":\"#C8D4E3\",\"gridwidth\":2},\"zaxis\":{\"backgroundcolor\":\"rgb(17,17,17)\",\"gridcolor\":\"#506784\",\"linecolor\":\"#506784\",\"showbackground\":true,\"ticks\":\"\",\"zerolinecolor\":\"#C8D4E3\",\"gridwidth\":2}},\"shapedefaults\":{\"line\":{\"color\":\"#f2f5fa\"}},\"annotationdefaults\":{\"arrowcolor\":\"#f2f5fa\",\"arrowhead\":0,\"arrowwidth\":1},\"geo\":{\"bgcolor\":\"rgb(17,17,17)\",\"landcolor\":\"rgb(17,17,17)\",\"subunitcolor\":\"#506784\",\"showland\":true,\"showlakes\":true,\"lakecolor\":\"rgb(17,17,17)\"},\"title\":{\"x\":0.05},\"updatemenudefaults\":{\"bgcolor\":\"#506784\",\"borderwidth\":0},\"sliderdefaults\":{\"bgcolor\":\"#C8D4E3\",\"borderwidth\":1,\"bordercolor\":\"rgb(17,17,17)\",\"tickwidth\":0},\"mapbox\":{\"style\":\"dark\"}}},\"xaxis\":{\"anchor\":\"y\",\"domain\":[0.0,0.94]},\"yaxis\":{\"anchor\":\"x\",\"domain\":[0.0,1.0],\"title\":{\"text\":\"Volume OSMO\"},\"showgrid\":false},\"yaxis2\":{\"anchor\":\"x\",\"overlaying\":\"y\",\"side\":\"right\",\"title\":{\"text\":\"Price ATOM/OSMO\"},\"showgrid\":true},\"title\":{\"text\":\"ATOM/OSMO pool price development post Osmosis launch\"},\"height\":800},                        {\"responsive\": true}                    ).then(function(){\n                            \nvar gd = document.getElementById('f0ee94d5-0a74-46a7-8f02-4504633efaba');\nvar x = new MutationObserver(function (mutations, observer) {{\n        var display = window.getComputedStyle(gd).display;\n        if (!display || display === 'none') {{\n            console.log([gd, 'removed!']);\n            Plotly.purge(gd);\n            observer.disconnect();\n        }}\n}});\n\n// Listen for the removal of the full notebook cells\nvar notebookContainer = gd.closest('#notebook-container');\nif (notebookContainer) {{\n    x.observe(notebookContainer, {childList: true});\n}}\n\n// Listen for the clearing of the current output cell\nvar outputEl = gd.closest('.output');\nif (outputEl) {{\n    x.observe(outputEl, {childList: true});\n}}\n\n                        })                };                });            </script>        </div>"
     },
     "metadata": {},
     "output_type": "display_data"
    }
   ],
   "source": [
    "import plotly.graph_objects as go\n",
    "from plotly.subplots import make_subplots\n",
    "\n",
    "candlesticks = go.Candlestick(\n",
    "    x=candles.index,\n",
    "    open=candles['open'],\n",
    "    high=candles['high'],\n",
    "    low=candles['low'],\n",
    "    close=candles['close'],\n",
    "    showlegend=False\n",
    ")\n",
    "\n",
    "volume_bars = go.Bar(\n",
    "    x=candles.index,\n",
    "    y=candles['volume'],\n",
    "    showlegend=False,\n",
    "    marker={\n",
    "        \"color\": \"rgba(128,128,128,0.5)\",\n",
    "    }\n",
    ")\n",
    "\n",
    "fig = go.Figure(candlesticks)\n",
    "fig = make_subplots(specs=[[{\"secondary_y\": True}]])\n",
    "fig.add_trace(candlesticks, secondary_y=True)\n",
    "fig.add_trace(volume_bars, secondary_y=False)\n",
    "fig.update_layout(title=\"ATOM/OSMO pool price development post Osmosis launch\", height=800)\n",
    "fig.update_yaxes(title=\"Price ATOM/OSMO\", secondary_y=True, showgrid=True)\n",
    "fig.update_yaxes(title=\"Volume OSMO\", secondary_y=False, showgrid=False)\n",
    "fig.show()"
   ],
   "metadata": {
    "collapsed": false,
    "pycharm": {
     "name": "#%%\n"
    }
   }
  },
  {
   "cell_type": "markdown",
   "source": [
    "# Github output\n",
    "\n",
    "Render the interactive chart above as PNG for Github repo viewer.\n"
   ],
   "metadata": {
    "collapsed": false,
    "pycharm": {
     "name": "#%% md\n"
    }
   }
  },
  {
   "cell_type": "code",
   "execution_count": 21,
   "outputs": [
    {
     "data": {
      "image/png": "[encoded data removed]"
     },
     "metadata": {},
     "output_type": "display_data"
    }
   ],
   "source": [
    "fig.show(\"png\")"
   ],
   "metadata": {
    "collapsed": false,
    "pycharm": {
     "name": "#%%\n"
    }
   }
  },
  {
   "cell_type": "markdown",
   "source": [
    "# Save data\n",
    "\n",
    "Save the candle data as Parquet.\n"
   ],
   "metadata": {
    "collapsed": false,
    "pycharm": {
     "name": "#%% md\n"
    }
   }
  },
  {
   "cell_type": "code",
   "execution_count": 22,
   "outputs": [
    {
     "name": "stdout",
     "output_type": "stream",
     "text": [
      "Saved candles to /Users/moo/code/ts/hackatom-2022/pool_1_daily_candles.parquet\n"
     ]
    }
   ],
   "source": [
    "candles.to_parquet(output_fname)\n",
    "print(f\"Saved candles to {output_fname}\")"
   ],
   "metadata": {
    "collapsed": false,
    "pycharm": {
     "name": "#%%\n"
    }
   }
  }
 ],
 "metadata": {
  "kernelspec": {
   "display_name": "Python 3",
   "language": "python",
   "name": "python3"
  },
  "language_info": {
   "codemirror_mode": {
    "name": "ipython",
    "version": 2
   },
   "file_extension": ".py",
   "mimetype": "text/x-python",
   "name": "python",
   "nbconvert_exporter": "python",
   "pygments_lexer": "ipython2",
   "version": "2.7.6"
  }
 },
 "nbformat": 4,
 "nbformat_minor": 0
}