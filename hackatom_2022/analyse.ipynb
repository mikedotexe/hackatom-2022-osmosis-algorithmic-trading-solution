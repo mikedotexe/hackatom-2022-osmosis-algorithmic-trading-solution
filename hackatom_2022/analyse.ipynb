{
 "cells": [
  {
   "cell_type": "markdown",
   "source": [
    "# Convert raw Osmosis swap data to OHLCV market feed\n",
    "\n",
    "- Read the raw CSV data export made out from TheGrapgh subgraph by `store_price.py`\n",
    "- Create OHLCV candle chart based on the data\n",
    "- [See also Osmosis asset info documentation](https://docs.osmosis.zone/developing/assets/asset-info.html)."
   ],
   "metadata": {
    "collapsed": false,
    "pycharm": {
     "name": "#%% md\n"
    }
   }
  },
  {
   "cell_type": "code",
   "execution_count": 12,
   "outputs": [
    {
     "data": {
      "text/plain": "                     block_number           timestamp  pool_id  \\\ntimestamp                                                        \n2021-12-25 00:12:25       2522560 2021-12-25 00:12:25      605   \n2021-12-25 00:12:31       2522561 2021-12-25 00:12:31        1   \n2021-12-25 00:12:37       2522562 2021-12-25 00:12:37        1   \n2021-12-25 00:12:37       2522562 2021-12-25 00:12:37      560   \n2021-12-25 00:12:51       2522564 2021-12-25 00:12:51      481   \n...                           ...                 ...      ...   \n2022-03-13 22:20:54       3580398 2022-03-13 22:20:54      565   \n2022-03-13 22:20:54       3580398 2022-03-13 22:20:54      601   \n2022-03-13 22:20:54       3580398 2022-03-13 22:20:54      482   \n2022-03-13 22:20:54       3580398 2022-03-13 22:20:54      601   \n2022-03-13 22:20:54       3580398 2022-03-13 22:20:54      560   \n\n                                                              token_in  \\\ntimestamp                                                                \n2021-12-25 00:12:25  ibc/B9E0A1A524E98BB407D3CED8720EFEFD186002F90C...   \n2021-12-25 00:12:31                                              uosmo   \n2021-12-25 00:12:37  ibc/27394FB092D2ECCD56123C74F36E4C1F926001CEAD...   \n2021-12-25 00:12:37                                              uosmo   \n2021-12-25 00:12:51                                              uosmo   \n...                                                                ...   \n2022-03-13 22:20:54  ibc/27394FB092D2ECCD56123C74F36E4C1F926001CEAD...   \n2022-03-13 22:20:54                                              uosmo   \n2022-03-13 22:20:54  ibc/27394FB092D2ECCD56123C74F36E4C1F926001CEAD...   \n2022-03-13 22:20:54  ibc/EA3E1640F9B1532AB129A571203A0B9F789A7F14BB...   \n2022-03-13 22:20:54                                              uosmo   \n\n                                                             token_out  \\\ntimestamp                                                                \n2021-12-25 00:12:25                                              uosmo   \n2021-12-25 00:12:31  ibc/27394FB092D2ECCD56123C74F36E4C1F926001CEAD...   \n2021-12-25 00:12:37                                              uosmo   \n2021-12-25 00:12:37  ibc/BE1BB42D4BE3C30D50B68D7C41DB4DFCE9678E8EF8...   \n2021-12-25 00:12:51  ibc/5973C068568365FFF40DEDCF1A1CB7582B6116B731...   \n...                                                                ...   \n2022-03-13 22:20:54  ibc/0EF15DF2F02480ADE0BB6E85D9EBB5DAEA2836D386...   \n2022-03-13 22:20:54  ibc/EA3E1640F9B1532AB129A571203A0B9F789A7F14BB...   \n2022-03-13 22:20:54  ibc/5973C068568365FFF40DEDCF1A1CB7582B6116B731...   \n2022-03-13 22:20:54                                              uosmo   \n2022-03-13 22:20:54  ibc/BE1BB42D4BE3C30D50B68D7C41DB4DFCE9678E8EF8...   \n\n                     token_in_amount  token_out_amount  \ntimestamp                                               \n2021-12-25 00:12:25     9.341900e+10      2.111636e+07  \n2021-12-25 00:12:31     1.336698e+06      2.754890e+05  \n2021-12-25 00:12:37     2.000000e+06      9.646039e+06  \n2021-12-25 00:12:37     3.822892e+07      2.112830e+08  \n2021-12-25 00:12:51     2.500000e+07      1.281445e+08  \n...                              ...               ...  \n2022-03-13 22:20:54     2.115500e+04      6.394000e+03  \n2022-03-13 22:20:54     4.480440e+05      2.506475e+06  \n2022-03-13 22:20:54     4.899574e+06      1.251795e+08  \n2022-03-13 22:20:54     4.527145e+08      8.044863e+07  \n2022-03-13 22:20:54     7.428108e+08      6.652161e+09  \n\n[3164652 rows x 7 columns]",
      "text/html": "<div>\n<style scoped>\n    .dataframe tbody tr th:only-of-type {\n        vertical-align: middle;\n    }\n\n    .dataframe tbody tr th {\n        vertical-align: top;\n    }\n\n    .dataframe thead th {\n        text-align: right;\n    }\n</style>\n<table border=\"1\" class=\"dataframe\">\n  <thead>\n    <tr style=\"text-align: right;\">\n      <th></th>\n      <th>block_number</th>\n      <th>timestamp</th>\n      <th>pool_id</th>\n      <th>token_in</th>\n      <th>token_out</th>\n      <th>token_in_amount</th>\n      <th>token_out_amount</th>\n    </tr>\n    <tr>\n      <th>timestamp</th>\n      <th></th>\n      <th></th>\n      <th></th>\n      <th></th>\n      <th></th>\n      <th></th>\n      <th></th>\n    </tr>\n  </thead>\n  <tbody>\n    <tr>\n      <th>2021-12-25 00:12:25</th>\n      <td>2522560</td>\n      <td>2021-12-25 00:12:25</td>\n      <td>605</td>\n      <td>ibc/B9E0A1A524E98BB407D3CED8720EFEFD186002F90C...</td>\n      <td>uosmo</td>\n      <td>9.341900e+10</td>\n      <td>2.111636e+07</td>\n    </tr>\n    <tr>\n      <th>2021-12-25 00:12:31</th>\n      <td>2522561</td>\n      <td>2021-12-25 00:12:31</td>\n      <td>1</td>\n      <td>uosmo</td>\n      <td>ibc/27394FB092D2ECCD56123C74F36E4C1F926001CEAD...</td>\n      <td>1.336698e+06</td>\n      <td>2.754890e+05</td>\n    </tr>\n    <tr>\n      <th>2021-12-25 00:12:37</th>\n      <td>2522562</td>\n      <td>2021-12-25 00:12:37</td>\n      <td>1</td>\n      <td>ibc/27394FB092D2ECCD56123C74F36E4C1F926001CEAD...</td>\n      <td>uosmo</td>\n      <td>2.000000e+06</td>\n      <td>9.646039e+06</td>\n    </tr>\n    <tr>\n      <th>2021-12-25 00:12:37</th>\n      <td>2522562</td>\n      <td>2021-12-25 00:12:37</td>\n      <td>560</td>\n      <td>uosmo</td>\n      <td>ibc/BE1BB42D4BE3C30D50B68D7C41DB4DFCE9678E8EF8...</td>\n      <td>3.822892e+07</td>\n      <td>2.112830e+08</td>\n    </tr>\n    <tr>\n      <th>2021-12-25 00:12:51</th>\n      <td>2522564</td>\n      <td>2021-12-25 00:12:51</td>\n      <td>481</td>\n      <td>uosmo</td>\n      <td>ibc/5973C068568365FFF40DEDCF1A1CB7582B6116B731...</td>\n      <td>2.500000e+07</td>\n      <td>1.281445e+08</td>\n    </tr>\n    <tr>\n      <th>...</th>\n      <td>...</td>\n      <td>...</td>\n      <td>...</td>\n      <td>...</td>\n      <td>...</td>\n      <td>...</td>\n      <td>...</td>\n    </tr>\n    <tr>\n      <th>2022-03-13 22:20:54</th>\n      <td>3580398</td>\n      <td>2022-03-13 22:20:54</td>\n      <td>565</td>\n      <td>ibc/27394FB092D2ECCD56123C74F36E4C1F926001CEAD...</td>\n      <td>ibc/0EF15DF2F02480ADE0BB6E85D9EBB5DAEA2836D386...</td>\n      <td>2.115500e+04</td>\n      <td>6.394000e+03</td>\n    </tr>\n    <tr>\n      <th>2022-03-13 22:20:54</th>\n      <td>3580398</td>\n      <td>2022-03-13 22:20:54</td>\n      <td>601</td>\n      <td>uosmo</td>\n      <td>ibc/EA3E1640F9B1532AB129A571203A0B9F789A7F14BB...</td>\n      <td>4.480440e+05</td>\n      <td>2.506475e+06</td>\n    </tr>\n    <tr>\n      <th>2022-03-13 22:20:54</th>\n      <td>3580398</td>\n      <td>2022-03-13 22:20:54</td>\n      <td>482</td>\n      <td>ibc/27394FB092D2ECCD56123C74F36E4C1F926001CEAD...</td>\n      <td>ibc/5973C068568365FFF40DEDCF1A1CB7582B6116B731...</td>\n      <td>4.899574e+06</td>\n      <td>1.251795e+08</td>\n    </tr>\n    <tr>\n      <th>2022-03-13 22:20:54</th>\n      <td>3580398</td>\n      <td>2022-03-13 22:20:54</td>\n      <td>601</td>\n      <td>ibc/EA3E1640F9B1532AB129A571203A0B9F789A7F14BB...</td>\n      <td>uosmo</td>\n      <td>4.527145e+08</td>\n      <td>8.044863e+07</td>\n    </tr>\n    <tr>\n      <th>2022-03-13 22:20:54</th>\n      <td>3580398</td>\n      <td>2022-03-13 22:20:54</td>\n      <td>560</td>\n      <td>uosmo</td>\n      <td>ibc/BE1BB42D4BE3C30D50B68D7C41DB4DFCE9678E8EF8...</td>\n      <td>7.428108e+08</td>\n      <td>6.652161e+09</td>\n    </tr>\n  </tbody>\n</table>\n<p>3164652 rows × 7 columns</p>\n</div>"
     },
     "execution_count": 12,
     "metadata": {},
     "output_type": "execute_result"
    }
   ],
   "source": [
    "import pandas as pd\n",
    "import numpy as np\n",
    "\n",
    "fpath = \"/Users/moo/code/ts/hackatom-2022/swaps.csv\"\n",
    "output_fname = \"/Users/moo/code/ts/hackatom-2022/pool_1_daily_candles.parquet\"\n",
    "\n",
    "# Define CSV column types\n",
    "dtype = {\n",
    "    \"block_number\": np.int32,\n",
    "    \"timestamp\": np.int32,\n",
    "    \"pool_id\": np.int32,\n",
    "    \"token_in\": str,\n",
    "    \"token_out\": str,\n",
    "    \"token_in_amount\": np.float64,\n",
    "    \"token_out_amount\": np.float64,\n",
    "}\n",
    "\n",
    "df = pd.read_csv(fpath, dtype=dtype)\n",
    "df['timestamp'] = pd.to_datetime(df['timestamp'], unit='s')\n",
    "df.set_index(\"timestamp\", inplace=True, drop=False)\n",
    "\n",
    "df\n"
   ],
   "metadata": {
    "collapsed": false,
    "pycharm": {
     "name": "#%%\n"
    }
   }
  },
  {
   "cell_type": "markdown",
   "source": [
    "Split swaps by trading pair (pool)"
   ],
   "metadata": {
    "collapsed": false,
    "pycharm": {
     "name": "#%% md\n"
    }
   }
  },
  {
   "cell_type": "code",
   "execution_count": 13,
   "outputs": [
    {
     "name": "stdout",
     "output_type": "stream",
     "text": [
      "We have total 375 pools\n"
     ]
    }
   ],
   "source": [
    "pool_df = df.groupby(\"pool_id\")\n",
    "print(f\"We have total {len(pool_df.groups.keys())} pools\")"
   ],
   "metadata": {
    "collapsed": false,
    "pycharm": {
     "name": "#%%\n"
    }
   }
  },
  {
   "cell_type": "markdown",
   "source": [
    "# Swap counts by pool id\n",
    "\n",
    "Show which pools are leading in swap count."
   ],
   "metadata": {
    "collapsed": false,
    "pycharm": {
     "name": "#%% md\n"
    }
   }
  },
  {
   "cell_type": "code",
   "execution_count": 14,
   "outputs": [
    {
     "data": {
      "text/plain": "array([[<AxesSubplot:title={'center':'pool_id'}>]], dtype=object)"
     },
     "execution_count": 14,
     "metadata": {},
     "output_type": "execute_result"
    },
    {
     "data": {
      "text/plain": "<Figure size 432x288 with 1 Axes>",
      "image/png": "[encoded data removed]"
     },
     "metadata": {
      "needs_background": "light"
     },
     "output_type": "display_data"
    }
   ],
   "source": [
    "df.hist(column=\"pool_id\")"
   ],
   "metadata": {
    "collapsed": false,
    "pycharm": {
     "name": "#%%\n"
    }
   }
  },
  {
   "cell_type": "markdown",
   "source": [
    "# Top pools\n"
   ],
   "metadata": {
    "collapsed": false,
    "pycharm": {
     "name": "#%% md\n"
    }
   }
  },
  {
   "cell_type": "code",
   "execution_count": 15,
   "outputs": [
    {
     "name": "stdout",
     "output_type": "stream",
     "text": [
      "dict_keys([1, 2, 3, 4, 5, 6, 7, 8, 9, 10, 11, 12, 13, 14, 15, 16, 18, 19, 20, 22, 23, 24, 31, 33, 34, 35, 36, 39, 42, 43, 45, 48, 54, 58, 66, 70, 78, 80, 84, 85, 86, 88, 89, 91, 93, 97, 101, 105, 110, 112, 115, 118, 119, 123, 124, 125, 126, 128, 130, 133, 134, 136, 137, 142, 145, 146, 149, 151, 155, 158, 159, 161, 162, 165, 166, 167, 170, 171, 172, 174, 180, 183, 185, 190, 191, 193, 194, 197, 199, 200, 203, 204, 207, 210, 212, 215, 216, 219, 220, 221, 222, 224, 225, 226, 227, 228, 229, 230, 232, 233, 234, 235, 236, 237, 238, 239, 240, 241, 244, 245, 247, 248, 249, 251, 253, 254, 255, 256, 257, 258, 261, 262, 263, 265, 266, 269, 271, 273, 277, 278, 279, 282, 283, 284, 285, 286, 287, 289, 292, 294, 301, 305, 306, 307, 308, 309, 312, 313, 314, 315, 318, 319, 320, 322, 324, 329, 330, 333, 336, 337, 338, 339, 342, 343, 345, 347, 348, 350, 353, 355, 362, 365, 366, 370, 372, 374, 375, 376, 377, 380, 381, 383, 384, 385, 388, 390, 391, 392, 393, 395, 396, 397, 398, 399, 400, 401, 406, 409, 410, 411, 412, 414, 415, 416, 417, 422, 425, 426, 428, 429, 430, 432, 435, 438, 439, 440, 441, 442, 443, 445, 446, 449, 456, 457, 458, 460, 461, 462, 463, 464, 466, 467, 472, 473, 476, 477, 479, 481, 482, 493, 495, 496, 497, 498, 499, 502, 503, 504, 505, 506, 507, 510, 511, 512, 513, 515, 516, 517, 519, 520, 523, 525, 530, 531, 532, 534, 535, 537, 541, 544, 545, 546, 547, 548, 549, 550, 553, 555, 556, 557, 558, 559, 560, 561, 562, 565, 567, 568, 569, 570, 571, 572, 573, 574, 575, 576, 577, 578, 579, 580, 581, 582, 583, 584, 585, 586, 587, 592, 593, 594, 595, 596, 597, 599, 600, 601, 602, 603, 604, 605, 606, 607, 608, 609, 610, 611, 612, 613, 614, 615, 616, 617, 618, 619, 620, 621, 622, 623, 624, 625, 626, 627, 628, 629, 630, 631, 632, 633, 634, 635, 636, 637, 638, 639, 640, 641, 642, 643, 644, 645, 646, 647, 648, 649, 650])\n"
     ]
    }
   ],
   "source": [
    "print(pool_df.groups.keys())"
   ],
   "metadata": {
    "collapsed": false,
    "pycharm": {
     "name": "#%%\n"
    }
   }
  },
  {
   "cell_type": "code",
   "execution_count": null,
   "outputs": [],
   "source": [
    "from collections import Counter\n",
    "\n",
    "swap_counts = Counter({pid: len(df.loc[df[\"pool_id\"]==pid]) for pid in pool_df.groups.keys()})\n",
    "\n",
    "for pool_id, count in swap_counts.most_common(6):\n",
    "    pool_data = df.loc[df[\"pool_id\"]== pool_id ]\n",
    "    first_swap = pool_data.iloc[0]\n",
    "    print(f\"Pool id {pool_id} {first_swap['token_in']}-{first_swap['token_out']} has {count:,} swaps\")"
   ],
   "metadata": {
    "collapsed": false,
    "pycharm": {
     "name": "#%%\n",
     "is_executing": true
    }
   }
  },
  {
   "cell_type": "markdown",
   "source": [
    "# Calculate price and value for each swap\n",
    "\n",
    "Draw candles for pool 1. This is [ATOM-OSMO pair](https://docs.osmosis.zone/developing/assets/asset-info.html).\n",
    "\n",
    "- Determine direction of each swap event\n",
    "- Calculate price as ATOM/OSMO and swap volume\n",
    "\n",
    "Show 10 first swaps as an example of processed data."
   ],
   "metadata": {
    "collapsed": false,
    "pycharm": {
     "name": "#%% md\n"
    }
   }
  },
  {
   "cell_type": "code",
   "execution_count": null,
   "outputs": [],
   "source": [
    "pool_id = 1\n",
    "pair_data = df.loc[df[\"pool_id\"] == pool_id]\n",
    "\n",
    "# Swap price can be manipulated if we go too deep into fractional number territory\n",
    "# and fixed point math starts breaking out.\n",
    "# Assume anything lower than 1000 uosmo might be broken.\n",
    "low_problem_threshold = 1000\n",
    "\n",
    "\n",
    "def is_good_swap(row: pd.Series):\n",
    "    if row[\"token_out_amount\"] < low_problem_threshold or \\\n",
    "        row[\"token_in_amount\"] < low_problem_threshold:\n",
    "        return False\n",
    "    return True\n",
    "\n",
    "\n",
    "def calculate_price(row: pd.Series):\n",
    "    if row[\"token_in\"] == \"uosmo\":\n",
    "        # Buying ATOM with OSMO\n",
    "        price = row[\"token_out_amount\"] / row[\"token_in_amount\"]\n",
    "    else:\n",
    "        # Selling OSMO for ATOM\n",
    "        price = row[\"token_in_amount\"] / row[\"token_out_amount\"]\n",
    "\n",
    "    return price\n",
    "\n",
    "def calculate_value(row: pd.Series):\n",
    "    \"\"\"Get swap value (volume) in OSMO\"\"\"\n",
    "\n",
    "    if row[\"token_out_amount\"] < low_problem_threshold or \\\n",
    "        row[\"token_in_amount\"] < low_problem_threshold:\n",
    "        return pd.NA\n",
    "\n",
    "    if row[\"token_in\"] == \"uosmo\":\n",
    "        # Buying ATOM with OSMO\n",
    "        vol = row[\"token_in_amount\"]\n",
    "    else:\n",
    "        # Selling OSMO for ATOM\n",
    "        vol = row[\"token_out_amount\"]\n",
    "\n",
    "    return vol\n",
    "\n",
    "# Filter out swaps with too low value\n",
    "pair_data = pair_data.loc[\\\n",
    "    (pair_data[\"token_in_amount\"] > low_problem_threshold) & \\\n",
    "    (pair_data[\"token_out_amount\"] > low_problem_threshold)]\n",
    "\n",
    "pair_data[\"price\"] = pair_data.apply(calculate_price, axis=1)\n",
    "pair_data[\"value\"] = pair_data.apply(calculate_value, axis=1)\n",
    "pair_data.head(10)"
   ],
   "metadata": {
    "collapsed": false,
    "pycharm": {
     "name": "#%%\n",
     "is_executing": true
    }
   }
  },
  {
   "cell_type": "code",
   "execution_count": null,
   "outputs": [],
   "source": [
    "# Convert trades to candles\n"
   ],
   "metadata": {
    "collapsed": false,
    "pycharm": {
     "name": "#%%\n",
     "is_executing": true
    }
   }
  },
  {
   "cell_type": "code",
   "execution_count": null,
   "outputs": [],
   "source": [
    "from eth_defi.research.candle import convert_to_ohlcv_candles\n",
    "\n",
    "candles = convert_to_ohlcv_candles(pair_data)\n",
    "\n",
    "candles.head(10)"
   ],
   "metadata": {
    "collapsed": false,
    "pycharm": {
     "name": "#%%\n",
     "is_executing": true
    }
   }
  },
  {
   "cell_type": "markdown",
   "source": [
    "# Draw candle chart\n",
    "\n",
    "- Show the price chart of ATOM/OSMO in [OHLCV format](https://tradingstrategy.ai/docs/glossary.html#term-OHLCV)\n",
    "- Use Plotly for interactive chart"
   ],
   "metadata": {
    "collapsed": false,
    "pycharm": {
     "name": "#%% md\n"
    }
   }
  },
  {
   "cell_type": "code",
   "execution_count": null,
   "outputs": [],
   "source": [
    "import plotly.graph_objects as go\n",
    "from plotly.subplots import make_subplots\n",
    "\n",
    "candlesticks = go.Candlestick(\n",
    "    x=candles.index,\n",
    "    open=candles['open'],\n",
    "    high=candles['high'],\n",
    "    low=candles['low'],\n",
    "    close=candles['close'],\n",
    "    showlegend=False\n",
    ")\n",
    "\n",
    "volume_bars = go.Bar(\n",
    "    x=candles.index,\n",
    "    y=candles['volume'],\n",
    "    showlegend=False,\n",
    "    marker={\n",
    "        \"color\": \"rgba(128,128,128,0.5)\",\n",
    "    }\n",
    ")\n",
    "\n",
    "fig = go.Figure(candlesticks)\n",
    "fig = make_subplots(specs=[[{\"secondary_y\": True}]])\n",
    "fig.add_trace(candlesticks, secondary_y=True)\n",
    "fig.add_trace(volume_bars, secondary_y=False)\n",
    "fig.update_layout(title=\"ATOM/OSMO pool price development post Osmosis launch\", height=800)\n",
    "fig.update_yaxes(title=\"Price ATOM/OSMO\", secondary_y=True, showgrid=True)\n",
    "fig.update_yaxes(title=\"Volume OSMO\", secondary_y=False, showgrid=False)\n",
    "fig.show()"
   ],
   "metadata": {
    "collapsed": false,
    "pycharm": {
     "name": "#%%\n",
     "is_executing": true
    }
   }
  },
  {
   "cell_type": "markdown",
   "source": [
    "# Github output\n",
    "\n",
    "Render the interactive chart above as PNG for Github repo viewer.\n"
   ],
   "metadata": {
    "collapsed": false,
    "pycharm": {
     "name": "#%% md\n"
    }
   }
  },
  {
   "cell_type": "code",
   "execution_count": null,
   "outputs": [],
   "source": [
    "fig.show(\"png\")"
   ],
   "metadata": {
    "collapsed": false,
    "pycharm": {
     "name": "#%%\n",
     "is_executing": true
    }
   }
  },
  {
   "cell_type": "markdown",
   "source": [
    "# Save data\n",
    "\n",
    "Save the candle data as Parquet.\n"
   ],
   "metadata": {
    "collapsed": false,
    "pycharm": {
     "name": "#%% md\n"
    }
   }
  },
  {
   "cell_type": "code",
   "execution_count": null,
   "outputs": [],
   "source": [
    "candles.to_parquet(output_fname)\n",
    "print(f\"Saved candles to {output_fname}\")"
   ],
   "metadata": {
    "collapsed": false,
    "pycharm": {
     "name": "#%%\n",
     "is_executing": true
    }
   }
  }
 ],
 "metadata": {
  "kernelspec": {
   "display_name": "Python 3",
   "language": "python",
   "name": "python3"
  },
  "language_info": {
   "codemirror_mode": {
    "name": "ipython",
    "version": 2
   },
   "file_extension": ".py",
   "mimetype": "text/x-python",
   "name": "python",
   "nbconvert_exporter": "python",
   "pygments_lexer": "ipython2",
   "version": "2.7.6"
  }
 },
 "nbformat": 4,
 "nbformat_minor": 0
}