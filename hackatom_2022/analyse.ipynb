{
 "cells": [
  {
   "cell_type": "markdown",
   "source": [
    "# Convert raw Osmosis swap data to OHLCV market feed\n",
    "\n",
    "[See also Osmosis asset info documentation](https://docs.osmosis.zone/developing/assets/asset-info.html)."
   ],
   "metadata": {
    "collapsed": false,
    "pycharm": {
     "name": "#%% md\n"
    }
   }
  },
  {
   "cell_type": "code",
   "execution_count": 72,
   "outputs": [
    {
     "data": {
      "text/plain": "                     block_number           timestamp  pool_id  \\\ntimestamp                                                        \n2021-12-25 00:12:25       2522560 2021-12-25 00:12:25      605   \n2021-12-25 00:12:31       2522561 2021-12-25 00:12:31        1   \n2021-12-25 00:12:37       2522562 2021-12-25 00:12:37        1   \n2021-12-25 00:12:37       2522562 2021-12-25 00:12:37      560   \n2021-12-25 00:12:51       2522564 2021-12-25 00:12:51      481   \n...                           ...                 ...      ...   \n2022-03-13 22:20:54       3580398 2022-03-13 22:20:54      565   \n2022-03-13 22:20:54       3580398 2022-03-13 22:20:54      601   \n2022-03-13 22:20:54       3580398 2022-03-13 22:20:54      482   \n2022-03-13 22:20:54       3580398 2022-03-13 22:20:54      601   \n2022-03-13 22:20:54       3580398 2022-03-13 22:20:54      560   \n\n                                                              token_in  \\\ntimestamp                                                                \n2021-12-25 00:12:25  ibc/B9E0A1A524E98BB407D3CED8720EFEFD186002F90C...   \n2021-12-25 00:12:31                                              uosmo   \n2021-12-25 00:12:37  ibc/27394FB092D2ECCD56123C74F36E4C1F926001CEAD...   \n2021-12-25 00:12:37                                              uosmo   \n2021-12-25 00:12:51                                              uosmo   \n...                                                                ...   \n2022-03-13 22:20:54  ibc/27394FB092D2ECCD56123C74F36E4C1F926001CEAD...   \n2022-03-13 22:20:54                                              uosmo   \n2022-03-13 22:20:54  ibc/27394FB092D2ECCD56123C74F36E4C1F926001CEAD...   \n2022-03-13 22:20:54  ibc/EA3E1640F9B1532AB129A571203A0B9F789A7F14BB...   \n2022-03-13 22:20:54                                              uosmo   \n\n                                                             token_out  \\\ntimestamp                                                                \n2021-12-25 00:12:25                                              uosmo   \n2021-12-25 00:12:31  ibc/27394FB092D2ECCD56123C74F36E4C1F926001CEAD...   \n2021-12-25 00:12:37                                              uosmo   \n2021-12-25 00:12:37  ibc/BE1BB42D4BE3C30D50B68D7C41DB4DFCE9678E8EF8...   \n2021-12-25 00:12:51  ibc/5973C068568365FFF40DEDCF1A1CB7582B6116B731...   \n...                                                                ...   \n2022-03-13 22:20:54  ibc/0EF15DF2F02480ADE0BB6E85D9EBB5DAEA2836D386...   \n2022-03-13 22:20:54  ibc/EA3E1640F9B1532AB129A571203A0B9F789A7F14BB...   \n2022-03-13 22:20:54  ibc/5973C068568365FFF40DEDCF1A1CB7582B6116B731...   \n2022-03-13 22:20:54                                              uosmo   \n2022-03-13 22:20:54  ibc/BE1BB42D4BE3C30D50B68D7C41DB4DFCE9678E8EF8...   \n\n                     token_in_amount  token_out_amount  \ntimestamp                                               \n2021-12-25 00:12:25     9.341900e+10      2.111636e+07  \n2021-12-25 00:12:31     1.336698e+06      2.754890e+05  \n2021-12-25 00:12:37     2.000000e+06      9.646039e+06  \n2021-12-25 00:12:37     3.822892e+07      2.112830e+08  \n2021-12-25 00:12:51     2.500000e+07      1.281445e+08  \n...                              ...               ...  \n2022-03-13 22:20:54     2.115500e+04      6.394000e+03  \n2022-03-13 22:20:54     4.480440e+05      2.506475e+06  \n2022-03-13 22:20:54     4.899574e+06      1.251795e+08  \n2022-03-13 22:20:54     4.527145e+08      8.044863e+07  \n2022-03-13 22:20:54     7.428108e+08      6.652161e+09  \n\n[3164652 rows x 7 columns]",
      "text/html": "<div>\n<style scoped>\n    .dataframe tbody tr th:only-of-type {\n        vertical-align: middle;\n    }\n\n    .dataframe tbody tr th {\n        vertical-align: top;\n    }\n\n    .dataframe thead th {\n        text-align: right;\n    }\n</style>\n<table border=\"1\" class=\"dataframe\">\n  <thead>\n    <tr style=\"text-align: right;\">\n      <th></th>\n      <th>block_number</th>\n      <th>timestamp</th>\n      <th>pool_id</th>\n      <th>token_in</th>\n      <th>token_out</th>\n      <th>token_in_amount</th>\n      <th>token_out_amount</th>\n    </tr>\n    <tr>\n      <th>timestamp</th>\n      <th></th>\n      <th></th>\n      <th></th>\n      <th></th>\n      <th></th>\n      <th></th>\n      <th></th>\n    </tr>\n  </thead>\n  <tbody>\n    <tr>\n      <th>2021-12-25 00:12:25</th>\n      <td>2522560</td>\n      <td>2021-12-25 00:12:25</td>\n      <td>605</td>\n      <td>ibc/B9E0A1A524E98BB407D3CED8720EFEFD186002F90C...</td>\n      <td>uosmo</td>\n      <td>9.341900e+10</td>\n      <td>2.111636e+07</td>\n    </tr>\n    <tr>\n      <th>2021-12-25 00:12:31</th>\n      <td>2522561</td>\n      <td>2021-12-25 00:12:31</td>\n      <td>1</td>\n      <td>uosmo</td>\n      <td>ibc/27394FB092D2ECCD56123C74F36E4C1F926001CEAD...</td>\n      <td>1.336698e+06</td>\n      <td>2.754890e+05</td>\n    </tr>\n    <tr>\n      <th>2021-12-25 00:12:37</th>\n      <td>2522562</td>\n      <td>2021-12-25 00:12:37</td>\n      <td>1</td>\n      <td>ibc/27394FB092D2ECCD56123C74F36E4C1F926001CEAD...</td>\n      <td>uosmo</td>\n      <td>2.000000e+06</td>\n      <td>9.646039e+06</td>\n    </tr>\n    <tr>\n      <th>2021-12-25 00:12:37</th>\n      <td>2522562</td>\n      <td>2021-12-25 00:12:37</td>\n      <td>560</td>\n      <td>uosmo</td>\n      <td>ibc/BE1BB42D4BE3C30D50B68D7C41DB4DFCE9678E8EF8...</td>\n      <td>3.822892e+07</td>\n      <td>2.112830e+08</td>\n    </tr>\n    <tr>\n      <th>2021-12-25 00:12:51</th>\n      <td>2522564</td>\n      <td>2021-12-25 00:12:51</td>\n      <td>481</td>\n      <td>uosmo</td>\n      <td>ibc/5973C068568365FFF40DEDCF1A1CB7582B6116B731...</td>\n      <td>2.500000e+07</td>\n      <td>1.281445e+08</td>\n    </tr>\n    <tr>\n      <th>...</th>\n      <td>...</td>\n      <td>...</td>\n      <td>...</td>\n      <td>...</td>\n      <td>...</td>\n      <td>...</td>\n      <td>...</td>\n    </tr>\n    <tr>\n      <th>2022-03-13 22:20:54</th>\n      <td>3580398</td>\n      <td>2022-03-13 22:20:54</td>\n      <td>565</td>\n      <td>ibc/27394FB092D2ECCD56123C74F36E4C1F926001CEAD...</td>\n      <td>ibc/0EF15DF2F02480ADE0BB6E85D9EBB5DAEA2836D386...</td>\n      <td>2.115500e+04</td>\n      <td>6.394000e+03</td>\n    </tr>\n    <tr>\n      <th>2022-03-13 22:20:54</th>\n      <td>3580398</td>\n      <td>2022-03-13 22:20:54</td>\n      <td>601</td>\n      <td>uosmo</td>\n      <td>ibc/EA3E1640F9B1532AB129A571203A0B9F789A7F14BB...</td>\n      <td>4.480440e+05</td>\n      <td>2.506475e+06</td>\n    </tr>\n    <tr>\n      <th>2022-03-13 22:20:54</th>\n      <td>3580398</td>\n      <td>2022-03-13 22:20:54</td>\n      <td>482</td>\n      <td>ibc/27394FB092D2ECCD56123C74F36E4C1F926001CEAD...</td>\n      <td>ibc/5973C068568365FFF40DEDCF1A1CB7582B6116B731...</td>\n      <td>4.899574e+06</td>\n      <td>1.251795e+08</td>\n    </tr>\n    <tr>\n      <th>2022-03-13 22:20:54</th>\n      <td>3580398</td>\n      <td>2022-03-13 22:20:54</td>\n      <td>601</td>\n      <td>ibc/EA3E1640F9B1532AB129A571203A0B9F789A7F14BB...</td>\n      <td>uosmo</td>\n      <td>4.527145e+08</td>\n      <td>8.044863e+07</td>\n    </tr>\n    <tr>\n      <th>2022-03-13 22:20:54</th>\n      <td>3580398</td>\n      <td>2022-03-13 22:20:54</td>\n      <td>560</td>\n      <td>uosmo</td>\n      <td>ibc/BE1BB42D4BE3C30D50B68D7C41DB4DFCE9678E8EF8...</td>\n      <td>7.428108e+08</td>\n      <td>6.652161e+09</td>\n    </tr>\n  </tbody>\n</table>\n<p>3164652 rows × 7 columns</p>\n</div>"
     },
     "execution_count": 72,
     "metadata": {},
     "output_type": "execute_result"
    }
   ],
   "source": [
    "import pandas as pd\n",
    "import numpy as np\n",
    "\n",
    "fpath = \"/Users/moo/code/ts/hackatom-2022/swaps.csv\"\n",
    "\n",
    "# Define CSV column types\n",
    "dtype = {\n",
    "    \"block_number\": np.int32,\n",
    "    \"timestamp\": np.int32,\n",
    "    \"pool_id\": np.int32,\n",
    "    \"token_in\": str,\n",
    "    \"token_out\": str,\n",
    "    \"token_in_amount\": np.float64,\n",
    "    \"token_out_amount\": np.float64,\n",
    "}\n",
    "\n",
    "df = pd.read_csv(fpath, dtype=dtype)\n",
    "df['timestamp'] = pd.to_datetime(df['timestamp'], unit='s')\n",
    "df.set_index(\"timestamp\", inplace=True, drop=False)\n",
    "\n",
    "df\n"
   ],
   "metadata": {
    "collapsed": false,
    "pycharm": {
     "name": "#%%\n"
    }
   }
  },
  {
   "cell_type": "markdown",
   "source": [
    "Split swaps by trading pair (pool)"
   ],
   "metadata": {
    "collapsed": false,
    "pycharm": {
     "name": "#%% md\n"
    }
   }
  },
  {
   "cell_type": "code",
   "execution_count": 73,
   "outputs": [
    {
     "name": "stdout",
     "output_type": "stream",
     "text": [
      "We have total 375 pools\n"
     ]
    }
   ],
   "source": [
    "pool_df = df.groupby(\"pool_id\")\n",
    "print(f\"We have total {len(pool_df.groups.keys())} pools\")"
   ],
   "metadata": {
    "collapsed": false,
    "pycharm": {
     "name": "#%%\n"
    }
   }
  },
  {
   "cell_type": "markdown",
   "source": [
    "# Swap counts by pool id"
   ],
   "metadata": {
    "collapsed": false,
    "pycharm": {
     "name": "#%% md\n"
    }
   }
  },
  {
   "cell_type": "code",
   "execution_count": 74,
   "outputs": [
    {
     "data": {
      "text/plain": "array([[<AxesSubplot:title={'center':'pool_id'}>]], dtype=object)"
     },
     "execution_count": 74,
     "metadata": {},
     "output_type": "execute_result"
    },
    {
     "data": {
      "text/plain": "<Figure size 432x288 with 1 Axes>",
      "image/png": "[encoded data removed]"
     },
     "metadata": {
      "needs_background": "light"
     },
     "output_type": "display_data"
    }
   ],
   "source": [
    "df.hist(column=\"pool_id\")"
   ],
   "metadata": {
    "collapsed": false,
    "pycharm": {
     "name": "#%%\n"
    }
   }
  },
  {
   "cell_type": "markdown",
   "source": [
    "# Top pools\n"
   ],
   "metadata": {
    "collapsed": false,
    "pycharm": {
     "name": "#%% md\n"
    }
   }
  },
  {
   "cell_type": "code",
   "execution_count": 75,
   "outputs": [
    {
     "name": "stdout",
     "output_type": "stream",
     "text": [
      "dict_keys([1, 2, 3, 4, 5, 6, 7, 8, 9, 10, 11, 12, 13, 14, 15, 16, 18, 19, 20, 22, 23, 24, 31, 33, 34, 35, 36, 39, 42, 43, 45, 48, 54, 58, 66, 70, 78, 80, 84, 85, 86, 88, 89, 91, 93, 97, 101, 105, 110, 112, 115, 118, 119, 123, 124, 125, 126, 128, 130, 133, 134, 136, 137, 142, 145, 146, 149, 151, 155, 158, 159, 161, 162, 165, 166, 167, 170, 171, 172, 174, 180, 183, 185, 190, 191, 193, 194, 197, 199, 200, 203, 204, 207, 210, 212, 215, 216, 219, 220, 221, 222, 224, 225, 226, 227, 228, 229, 230, 232, 233, 234, 235, 236, 237, 238, 239, 240, 241, 244, 245, 247, 248, 249, 251, 253, 254, 255, 256, 257, 258, 261, 262, 263, 265, 266, 269, 271, 273, 277, 278, 279, 282, 283, 284, 285, 286, 287, 289, 292, 294, 301, 305, 306, 307, 308, 309, 312, 313, 314, 315, 318, 319, 320, 322, 324, 329, 330, 333, 336, 337, 338, 339, 342, 343, 345, 347, 348, 350, 353, 355, 362, 365, 366, 370, 372, 374, 375, 376, 377, 380, 381, 383, 384, 385, 388, 390, 391, 392, 393, 395, 396, 397, 398, 399, 400, 401, 406, 409, 410, 411, 412, 414, 415, 416, 417, 422, 425, 426, 428, 429, 430, 432, 435, 438, 439, 440, 441, 442, 443, 445, 446, 449, 456, 457, 458, 460, 461, 462, 463, 464, 466, 467, 472, 473, 476, 477, 479, 481, 482, 493, 495, 496, 497, 498, 499, 502, 503, 504, 505, 506, 507, 510, 511, 512, 513, 515, 516, 517, 519, 520, 523, 525, 530, 531, 532, 534, 535, 537, 541, 544, 545, 546, 547, 548, 549, 550, 553, 555, 556, 557, 558, 559, 560, 561, 562, 565, 567, 568, 569, 570, 571, 572, 573, 574, 575, 576, 577, 578, 579, 580, 581, 582, 583, 584, 585, 586, 587, 592, 593, 594, 595, 596, 597, 599, 600, 601, 602, 603, 604, 605, 606, 607, 608, 609, 610, 611, 612, 613, 614, 615, 616, 617, 618, 619, 620, 621, 622, 623, 624, 625, 626, 627, 628, 629, 630, 631, 632, 633, 634, 635, 636, 637, 638, 639, 640, 641, 642, 643, 644, 645, 646, 647, 648, 649, 650])\n"
     ]
    }
   ],
   "source": [
    "print(pool_df.groups.keys())"
   ],
   "metadata": {
    "collapsed": false,
    "pycharm": {
     "name": "#%%\n"
    }
   }
  },
  {
   "cell_type": "code",
   "execution_count": 76,
   "outputs": [
    {
     "name": "stdout",
     "output_type": "stream",
     "text": [
      "Pool id 1 uosmo-ibc/27394FB092D2ECCD56123C74F36E4C1F926001CEADA9CA97EA622B25F41E5EB2 has 543,013 swaps\n",
      "Pool id 560 uosmo-ibc/BE1BB42D4BE3C30D50B68D7C41DB4DFCE9678E8EF8C539F6E6A9345048894FCC has 466,168 swaps\n",
      "Pool id 497 ibc/46B44899322F3CD854D2D46DEEF881958467CDD4B3B10086DA49296BBED94BED-uosmo has 202,255 swaps\n",
      "Pool id 498 ibc/27394FB092D2ECCD56123C74F36E4C1F926001CEADA9CA97EA622B25F41E5EB2-ibc/46B44899322F3CD854D2D46DEEF881958467CDD4B3B10086DA49296BBED94BED has 164,083 swaps\n",
      "Pool id 604 uosmo-ibc/987C17B11ABC2B20019178ACE62929FE9840202CE79498E29FE8E5CB02B7C0A4 has 124,477 swaps\n",
      "Pool id 561 uosmo-ibc/0EF15DF2F02480ADE0BB6E85D9EBB5DAEA2836D3860E9F97F9AADE4F57A31AA0 has 117,343 swaps\n"
     ]
    }
   ],
   "source": [
    "from collections import Counter\n",
    "\n",
    "swap_counts = Counter({pid: len(df.loc[df[\"pool_id\"]==pid]) for pid in pool_df.groups.keys()})\n",
    "\n",
    "for pool_id, count in swap_counts.most_common(6):\n",
    "    pool_data = df.loc[df[\"pool_id\"]== pool_id ]\n",
    "    first_swap = pool_data.iloc[0]\n",
    "    print(f\"Pool id {pool_id} {first_swap['token_in']}-{first_swap['token_out']} has {count:,} swaps\")"
   ],
   "metadata": {
    "collapsed": false,
    "pycharm": {
     "name": "#%%\n"
    }
   }
  },
  {
   "cell_type": "markdown",
   "source": [
    "# Calculate price and value for each swap\n",
    "\n",
    "Draw candles for pool 1. This is [ATOM-OSMO pair](https://docs.osmosis.zone/developing/assets/asset-info.html).\n",
    "\n",
    "- Determine direction of each swap event\n",
    "- Calculate price as ATOM/OSMO and swap volume"
   ],
   "metadata": {
    "collapsed": false,
    "pycharm": {
     "name": "#%% md\n"
    }
   }
  },
  {
   "cell_type": "code",
   "execution_count": 77,
   "outputs": [
    {
     "name": "stderr",
     "output_type": "stream",
     "text": [
      "/var/folders/tx/50wn88yd40v2_6_7fvfr98z00000gn/T/ipykernel_16274/1106787536.py:26: SettingWithCopyWarning:\n",
      "\n",
      "\n",
      "A value is trying to be set on a copy of a slice from a DataFrame.\n",
      "Try using .loc[row_indexer,col_indexer] = value instead\n",
      "\n",
      "See the caveats in the documentation: https://pandas.pydata.org/pandas-docs/stable/user_guide/indexing.html#returning-a-view-versus-a-copy\n",
      "\n",
      "/var/folders/tx/50wn88yd40v2_6_7fvfr98z00000gn/T/ipykernel_16274/1106787536.py:27: SettingWithCopyWarning:\n",
      "\n",
      "\n",
      "A value is trying to be set on a copy of a slice from a DataFrame.\n",
      "Try using .loc[row_indexer,col_indexer] = value instead\n",
      "\n",
      "See the caveats in the documentation: https://pandas.pydata.org/pandas-docs/stable/user_guide/indexing.html#returning-a-view-versus-a-copy\n",
      "\n"
     ]
    }
   ],
   "source": [
    "pool_id = 1\n",
    "pair_data = df.loc[df[\"pool_id\"] == pool_id]\n",
    "\n",
    "def calculate_price(row: pd.Series):\n",
    "    if row[\"token_in\"] == \"uosmo\":\n",
    "        # Buying ATOM with OSMO\n",
    "        price = row[\"token_out_amount\"] / row[\"token_in_amount\"]\n",
    "    else:\n",
    "        # Selling OSMO for ATOM\n",
    "        price = row[\"token_in_amount\"] / row[\"token_out_amount\"]\n",
    "\n",
    "    return price\n",
    "\n",
    "def calculate_value(row: pd.Series):\n",
    "    # Get volume in OSMO\n",
    "    if row[\"token_in\"] == \"uosmo\":\n",
    "        # Buying ATOM with OSMO\n",
    "        vol = row[\"token_in_amount\"]\n",
    "    else:\n",
    "        # Selling OSMO for ATOM\n",
    "        vol = row[\"token_out_amount\"]\n",
    "\n",
    "    return vol\n",
    "\n",
    "\n",
    "pair_data[\"price\"] = pair_data.apply(calculate_price, axis=1)\n",
    "pair_data[\"value\"] = pair_data.apply(calculate_value, axis=1)\n",
    "# pair_data.head(10)"
   ],
   "metadata": {
    "collapsed": false,
    "pycharm": {
     "name": "#%%\n"
    }
   }
  },
  {
   "cell_type": "code",
   "execution_count": 78,
   "outputs": [],
   "source": [
    "# Convert trades to candles\n"
   ],
   "metadata": {
    "collapsed": false,
    "pycharm": {
     "name": "#%%\n"
    }
   }
  },
  {
   "cell_type": "code",
   "execution_count": 79,
   "outputs": [
    {
     "name": "stderr",
     "output_type": "stream",
     "text": [
      "/Users/moo/Library/Caches/pypoetry/virtualenvs/dex-ohlcv-qY1n4duk-py3.9/lib/python3.9/site-packages/eth_defi/research/candle.py:60: SettingWithCopyWarning:\n",
      "\n",
      "\n",
      "A value is trying to be set on a copy of a slice from a DataFrame.\n",
      "Try using .loc[row_indexer,col_indexer] = value instead\n",
      "\n",
      "See the caveats in the documentation: https://pandas.pydata.org/pandas-docs/stable/user_guide/indexing.html#returning-a-view-versus-a-copy\n",
      "\n"
     ]
    },
    {
     "data": {
      "text/plain": "                open      high       low     close        volume\ntimestamp                                                       \n2021-12-25  0.206097  0.250000  0.187500  0.200395  1.359263e+12\n2021-12-26  0.200395  0.201743  0.190530  0.191026  1.565796e+12\n2021-12-27  0.191026  0.205486  0.178571  0.203956  2.591825e+12\n2021-12-28  0.203952  0.208725  0.202532  0.206895  1.061533e+12\n2021-12-29  0.208142  0.212329  0.166667  0.204094  1.680099e+12\n2021-12-30  0.202871  0.214286  0.166667  0.200005  1.702391e+12\n2021-12-31  0.198806  0.200180  0.191476  0.193114  2.048829e+12\n2022-01-01  0.191960  0.200000  0.160000  0.191168  1.963509e+12\n2022-01-02  0.191163  0.200000  0.187500  0.192852  1.604234e+12\n2022-01-03  0.192851  0.200055  0.190487  0.195308  2.274992e+12",
      "text/html": "<div>\n<style scoped>\n    .dataframe tbody tr th:only-of-type {\n        vertical-align: middle;\n    }\n\n    .dataframe tbody tr th {\n        vertical-align: top;\n    }\n\n    .dataframe thead th {\n        text-align: right;\n    }\n</style>\n<table border=\"1\" class=\"dataframe\">\n  <thead>\n    <tr style=\"text-align: right;\">\n      <th></th>\n      <th>open</th>\n      <th>high</th>\n      <th>low</th>\n      <th>close</th>\n      <th>volume</th>\n    </tr>\n    <tr>\n      <th>timestamp</th>\n      <th></th>\n      <th></th>\n      <th></th>\n      <th></th>\n      <th></th>\n    </tr>\n  </thead>\n  <tbody>\n    <tr>\n      <th>2021-12-25</th>\n      <td>0.206097</td>\n      <td>0.250000</td>\n      <td>0.187500</td>\n      <td>0.200395</td>\n      <td>1.359263e+12</td>\n    </tr>\n    <tr>\n      <th>2021-12-26</th>\n      <td>0.200395</td>\n      <td>0.201743</td>\n      <td>0.190530</td>\n      <td>0.191026</td>\n      <td>1.565796e+12</td>\n    </tr>\n    <tr>\n      <th>2021-12-27</th>\n      <td>0.191026</td>\n      <td>0.205486</td>\n      <td>0.178571</td>\n      <td>0.203956</td>\n      <td>2.591825e+12</td>\n    </tr>\n    <tr>\n      <th>2021-12-28</th>\n      <td>0.203952</td>\n      <td>0.208725</td>\n      <td>0.202532</td>\n      <td>0.206895</td>\n      <td>1.061533e+12</td>\n    </tr>\n    <tr>\n      <th>2021-12-29</th>\n      <td>0.208142</td>\n      <td>0.212329</td>\n      <td>0.166667</td>\n      <td>0.204094</td>\n      <td>1.680099e+12</td>\n    </tr>\n    <tr>\n      <th>2021-12-30</th>\n      <td>0.202871</td>\n      <td>0.214286</td>\n      <td>0.166667</td>\n      <td>0.200005</td>\n      <td>1.702391e+12</td>\n    </tr>\n    <tr>\n      <th>2021-12-31</th>\n      <td>0.198806</td>\n      <td>0.200180</td>\n      <td>0.191476</td>\n      <td>0.193114</td>\n      <td>2.048829e+12</td>\n    </tr>\n    <tr>\n      <th>2022-01-01</th>\n      <td>0.191960</td>\n      <td>0.200000</td>\n      <td>0.160000</td>\n      <td>0.191168</td>\n      <td>1.963509e+12</td>\n    </tr>\n    <tr>\n      <th>2022-01-02</th>\n      <td>0.191163</td>\n      <td>0.200000</td>\n      <td>0.187500</td>\n      <td>0.192852</td>\n      <td>1.604234e+12</td>\n    </tr>\n    <tr>\n      <th>2022-01-03</th>\n      <td>0.192851</td>\n      <td>0.200055</td>\n      <td>0.190487</td>\n      <td>0.195308</td>\n      <td>2.274992e+12</td>\n    </tr>\n  </tbody>\n</table>\n</div>"
     },
     "execution_count": 79,
     "metadata": {},
     "output_type": "execute_result"
    }
   ],
   "source": [
    "from eth_defi.research.candle import convert_to_ohlcv_candles\n",
    "\n",
    "candles = convert_to_ohlcv_candles(pair_data)\n",
    "\n",
    "candles.head(10)"
   ],
   "metadata": {
    "collapsed": false,
    "pycharm": {
     "name": "#%%\n"
    }
   }
  },
  {
   "cell_type": "markdown",
   "source": [
    "# Draw candle chart\n",
    "\n"
   ],
   "metadata": {
    "collapsed": false,
    "pycharm": {
     "name": "#%% md\n"
    }
   }
  },
  {
   "cell_type": "code",
   "execution_count": 80,
   "outputs": [
    {
     "data": {
      "application/vnd.plotly.v1+json": {
       "data": [
        {
         "close": [
          0.2003953118792213,
          0.1910265,
          0.20395580947106015,
          0.20689548804553415,
          0.20409407577171135,
          0.20000533347555935,
          0.19311423327481037,
          0.19116775932645894,
          0.1928523018987993,
          0.1953076553098938,
          0.19777437898845,
          0.20670068020373372,
          0.21224047124237466,
          0.21507457710961275,
          0.2184979648144357,
          0.23726633814180878,
          0.22592881558048203,
          0.23255195237347132,
          0.2289572961901712,
          0.23833064516129032,
          0.23726173837431275,
          0.2502241409234112,
          0.24585033424758587,
          0.24917248018880914,
          0.2552145993031359,
          0.26036094347884026,
          0.2504261323589735,
          0.2504591190088203,
          0.26499272669163193,
          0.2563483384269748,
          0.24892878612269248,
          0.2519107582478428,
          0.2578532190882069,
          0.2628965524237739,
          0.2595899909108584,
          0.2589917842470806,
          0.26147368995177855,
          0.2747991089764343,
          0.27404036466255494,
          0.2810147160576085,
          0.27476029688461323,
          0.27460701136808613,
          0.2792637667591695,
          0.2856985370033185,
          0.2932056911224647,
          0.2920304315290596,
          0.2914639331650991,
          0.29803390016400805,
          0.31462888308770126,
          0.3085782,
          0.3097863889215042,
          0.3050466149358449,
          0.31118617198189247,
          0.30809752315663064,
          0.31211051830660563,
          0.3247422184759675,
          0.3288339366497036,
          0.3245056229847592,
          0.33710977936734715,
          0.33502336610712086,
          0.34005465177441824,
          0.34643825158858055,
          0.3351607111839242,
          0.328314465816999,
          0.3384846141058055,
          0.31947364782845833,
          0.3205087422671225,
          0.3296762108643297,
          0.32591501578393156,
          0.3290429328874534,
          0.33586500541125164,
          0.3433826163695072,
          0.34066878961295427,
          0.33810288587672194,
          0.33387269135802466,
          0.3416530278232406,
          0.3395761306760032,
          0.33667784898943365,
          0.33840499239960825
         ],
         "high": [
          0.25,
          0.20174299955135852,
          0.20548559479302522,
          0.20872456511645907,
          0.21232906333350066,
          0.21428571428571427,
          0.20017989257036697,
          0.2,
          0.2,
          0.2000547974658392,
          0.2,
          0.21222169909573396,
          0.25,
          0.25,
          0.22448979591836735,
          0.23809523809523808,
          0.25,
          0.25,
          0.25,
          0.25,
          0.25,
          0.25173172547245637,
          0.25235944451934744,
          0.3333333333333333,
          0.3333333333333333,
          0.3333333333333333,
          0.3333333333333333,
          0.3333333333333333,
          0.26883322886242034,
          0.3333333333333333,
          0.3333333333333333,
          0.3333333333333333,
          0.3333333333333333,
          0.26796724245926495,
          0.3333333333333333,
          0.2629078555289785,
          0.3333333333333333,
          0.3333333333333333,
          0.3333333333333333,
          0.3333333333333333,
          0.3333333333333333,
          0.3333333333333333,
          0.29411764705882354,
          0.3333333333333333,
          0.3333333333333333,
          0.29802368573044713,
          0.3333333333333333,
          0.3333333333333333,
          0.3333333333333333,
          0.31564712015562163,
          0.3333333333333333,
          0.3333333333333333,
          0.3333333333333333,
          0.3333333333333333,
          0.3333333333333333,
          0.3333333333333333,
          0.3333333333333333,
          0.33143345682530634,
          0.33931882424670123,
          0.36363636363636365,
          0.4,
          0.3538484540176651,
          0.5,
          0.35714285714285715,
          0.3409090909090909,
          0.3392797995370276,
          0.3333333333333333,
          0.33458009347479534,
          0.3377526389739525,
          0.3333333333333333,
          0.34233679093492175,
          0.5,
          0.5,
          0.5,
          0.375,
          0.5,
          0.5,
          0.5,
          0.35294117647058826
         ],
         "low": [
          0.1875,
          0.1905296044658215,
          0.17857142857142858,
          0.20253164556962025,
          0.16666666666666666,
          0.16666666666666666,
          0.19147588188650283,
          0.16,
          0.1875,
          0.19048691773071824,
          0.19038428163473523,
          0.125,
          0.2,
          0.2058406798848721,
          0.2124785808869979,
          0.2166548771649648,
          0.2258825216280055,
          0.22571496100212715,
          0.2,
          0.125,
          0.22727272727272727,
          0.2,
          0.2,
          0.16666666666666666,
          0.2,
          0.24812030075187969,
          0.24848484848484848,
          0.2,
          0.2497234935163997,
          0.22580645161290322,
          0.24324324324324326,
          0.18181818181818182,
          0.23943661971830985,
          0.25190839694656486,
          0.258677102850802,
          0.21428571428571427,
          0.2564102564102564,
          0.24444444444444444,
          0.27,
          0.2647058823529412,
          0.27231182795698927,
          0.2631578947368421,
          0.27310924369747897,
          0.2778111741419764,
          0.2,
          0.28885536074746426,
          0.2,
          0.2896551724137931,
          0.2962855944729461,
          0.2727272727272727,
          0.2631578947368421,
          0.30104526315789476,
          0.2903225806451613,
          0.25,
          0.3021541950113379,
          0.3,
          0.3,
          0.3125,
          0.25,
          0.25,
          0.3125,
          0.3324285495208125,
          0.25,
          0.3248175182481752,
          0.2,
          0.2,
          0.31432,
          0.25,
          0.2962962962962963,
          0.2857142857142857,
          0.32,
          0.3333333333333333,
          0.32558139534883723,
          0.32432432432432434,
          0.3,
          0.3333333333333333,
          0.33663366336633666,
          0.3,
          0.3333333333333333
         ],
         "open": [
          0.2060966650657067,
          0.2003949792066235,
          0.19102589119740368,
          0.2039519766191235,
          0.2081415058815933,
          0.202871,
          0.19880647091764264,
          0.19196027953631808,
          0.19116264129731475,
          0.19285071199324688,
          0.19530561236458238,
          0.19776557928776314,
          0.20673329548816272,
          0.21096852521491496,
          0.21380616474300548,
          0.21981723500014233,
          0.23584670830186621,
          0.22593942232697847,
          0.23115881836794383,
          0.22758627068925508,
          0.24003758778012244,
          0.23872907917619696,
          0.25022421993005123,
          0.24584432313071214,
          0.2491575,
          0.25675342513999927,
          0.2588008354669613,
          0.25042522851919563,
          0.25194596656633045,
          0.2649931211479971,
          0.25444891179576384,
          0.25042881941980144,
          0.25042632318501173,
          0.2578528617910669,
          0.26132295529495975,
          0.25958907894736843,
          0.25898740847059076,
          0.2630510873423848,
          0.27479896374608787,
          0.2758655004210209,
          0.28101217403315654,
          0.27277685799541534,
          0.27623387340892164,
          0.27926226315789476,
          0.28571350245151456,
          0.29145335557851654,
          0.2902745796962898,
          0.2932249495726393,
          0.2980582547904295,
          0.3126553601319339,
          0.30857813333333334,
          0.309793380906332,
          0.30321887621062116,
          0.30929342887814476,
          0.3087055376977235,
          0.31398643142563465,
          0.32669452176913055,
          0.3288341153556653,
          0.3229476203355202,
          0.3396344220200693,
          0.3349967855357044,
          0.33851354156508845,
          0.34849545535525045,
          0.3351638940345287,
          0.32826587396370244,
          0.3384650032110782,
          0.32140713586837427,
          0.32224440967927603,
          0.32972714217328863,
          0.3259934666836688,
          0.329123438105474,
          0.33403,
          0.3434242962891379,
          0.3407554989034451,
          0.33827743207692756,
          0.33385086823289073,
          0.34166391864020496,
          0.3376279260050933,
          0.33658153805154656
         ],
         "showlegend": false,
         "x": [
          "2021-12-25T00:00:00",
          "2021-12-26T00:00:00",
          "2021-12-27T00:00:00",
          "2021-12-28T00:00:00",
          "2021-12-29T00:00:00",
          "2021-12-30T00:00:00",
          "2021-12-31T00:00:00",
          "2022-01-01T00:00:00",
          "2022-01-02T00:00:00",
          "2022-01-03T00:00:00",
          "2022-01-04T00:00:00",
          "2022-01-05T00:00:00",
          "2022-01-06T00:00:00",
          "2022-01-07T00:00:00",
          "2022-01-08T00:00:00",
          "2022-01-09T00:00:00",
          "2022-01-10T00:00:00",
          "2022-01-11T00:00:00",
          "2022-01-12T00:00:00",
          "2022-01-13T00:00:00",
          "2022-01-14T00:00:00",
          "2022-01-15T00:00:00",
          "2022-01-16T00:00:00",
          "2022-01-17T00:00:00",
          "2022-01-18T00:00:00",
          "2022-01-19T00:00:00",
          "2022-01-20T00:00:00",
          "2022-01-21T00:00:00",
          "2022-01-22T00:00:00",
          "2022-01-23T00:00:00",
          "2022-01-24T00:00:00",
          "2022-01-25T00:00:00",
          "2022-01-26T00:00:00",
          "2022-01-27T00:00:00",
          "2022-01-28T00:00:00",
          "2022-01-29T00:00:00",
          "2022-01-30T00:00:00",
          "2022-01-31T00:00:00",
          "2022-02-01T00:00:00",
          "2022-02-02T00:00:00",
          "2022-02-03T00:00:00",
          "2022-02-04T00:00:00",
          "2022-02-05T00:00:00",
          "2022-02-06T00:00:00",
          "2022-02-07T00:00:00",
          "2022-02-08T00:00:00",
          "2022-02-09T00:00:00",
          "2022-02-10T00:00:00",
          "2022-02-11T00:00:00",
          "2022-02-12T00:00:00",
          "2022-02-13T00:00:00",
          "2022-02-14T00:00:00",
          "2022-02-15T00:00:00",
          "2022-02-16T00:00:00",
          "2022-02-17T00:00:00",
          "2022-02-18T00:00:00",
          "2022-02-19T00:00:00",
          "2022-02-20T00:00:00",
          "2022-02-21T00:00:00",
          "2022-02-22T00:00:00",
          "2022-02-23T00:00:00",
          "2022-02-24T00:00:00",
          "2022-02-25T00:00:00",
          "2022-02-26T00:00:00",
          "2022-02-27T00:00:00",
          "2022-02-28T00:00:00",
          "2022-03-01T00:00:00",
          "2022-03-02T00:00:00",
          "2022-03-03T00:00:00",
          "2022-03-04T00:00:00",
          "2022-03-05T00:00:00",
          "2022-03-06T00:00:00",
          "2022-03-07T00:00:00",
          "2022-03-08T00:00:00",
          "2022-03-09T00:00:00",
          "2022-03-10T00:00:00",
          "2022-03-11T00:00:00",
          "2022-03-12T00:00:00",
          "2022-03-13T00:00:00"
         ],
         "type": "candlestick",
         "xaxis": "x",
         "yaxis": "y2"
        },
        {
         "marker": {
          "color": "rgba(128,128,128,0.5)"
         },
         "showlegend": false,
         "x": [
          "2021-12-25T00:00:00",
          "2021-12-26T00:00:00",
          "2021-12-27T00:00:00",
          "2021-12-28T00:00:00",
          "2021-12-29T00:00:00",
          "2021-12-30T00:00:00",
          "2021-12-31T00:00:00",
          "2022-01-01T00:00:00",
          "2022-01-02T00:00:00",
          "2022-01-03T00:00:00",
          "2022-01-04T00:00:00",
          "2022-01-05T00:00:00",
          "2022-01-06T00:00:00",
          "2022-01-07T00:00:00",
          "2022-01-08T00:00:00",
          "2022-01-09T00:00:00",
          "2022-01-10T00:00:00",
          "2022-01-11T00:00:00",
          "2022-01-12T00:00:00",
          "2022-01-13T00:00:00",
          "2022-01-14T00:00:00",
          "2022-01-15T00:00:00",
          "2022-01-16T00:00:00",
          "2022-01-17T00:00:00",
          "2022-01-18T00:00:00",
          "2022-01-19T00:00:00",
          "2022-01-20T00:00:00",
          "2022-01-21T00:00:00",
          "2022-01-22T00:00:00",
          "2022-01-23T00:00:00",
          "2022-01-24T00:00:00",
          "2022-01-25T00:00:00",
          "2022-01-26T00:00:00",
          "2022-01-27T00:00:00",
          "2022-01-28T00:00:00",
          "2022-01-29T00:00:00",
          "2022-01-30T00:00:00",
          "2022-01-31T00:00:00",
          "2022-02-01T00:00:00",
          "2022-02-02T00:00:00",
          "2022-02-03T00:00:00",
          "2022-02-04T00:00:00",
          "2022-02-05T00:00:00",
          "2022-02-06T00:00:00",
          "2022-02-07T00:00:00",
          "2022-02-08T00:00:00",
          "2022-02-09T00:00:00",
          "2022-02-10T00:00:00",
          "2022-02-11T00:00:00",
          "2022-02-12T00:00:00",
          "2022-02-13T00:00:00",
          "2022-02-14T00:00:00",
          "2022-02-15T00:00:00",
          "2022-02-16T00:00:00",
          "2022-02-17T00:00:00",
          "2022-02-18T00:00:00",
          "2022-02-19T00:00:00",
          "2022-02-20T00:00:00",
          "2022-02-21T00:00:00",
          "2022-02-22T00:00:00",
          "2022-02-23T00:00:00",
          "2022-02-24T00:00:00",
          "2022-02-25T00:00:00",
          "2022-02-26T00:00:00",
          "2022-02-27T00:00:00",
          "2022-02-28T00:00:00",
          "2022-03-01T00:00:00",
          "2022-03-02T00:00:00",
          "2022-03-03T00:00:00",
          "2022-03-04T00:00:00",
          "2022-03-05T00:00:00",
          "2022-03-06T00:00:00",
          "2022-03-07T00:00:00",
          "2022-03-08T00:00:00",
          "2022-03-09T00:00:00",
          "2022-03-10T00:00:00",
          "2022-03-11T00:00:00",
          "2022-03-12T00:00:00",
          "2022-03-13T00:00:00"
         ],
         "y": [
          1.359262514246E12,
          1.565795770605E12,
          2.591825110184E12,
          1.061532883893E12,
          1.68009929673E12,
          1.702391025079E12,
          2.048828882261E12,
          1.96350890365E12,
          1.604233503594E12,
          2.274991513703E12,
          2.878567060649E12,
          3.176647038349E12,
          2.151529371195E12,
          3.355710601598E12,
          2.099627556899E12,
          2.8851361076E12,
          2.102024802718E12,
          1.683523285617E12,
          2.348712893534E12,
          1.828367127856E12,
          1.283718006475E12,
          1.531943555716E12,
          1.786443189858E12,
          1.864134718507E12,
          1.668857819558E12,
          1.42615647737E12,
          1.826487958799E12,
          2.517423419527E12,
          2.557861245745E12,
          2.747885500022E12,
          3.030695844621E12,
          2.340501416452E12,
          1.73863670521E12,
          1.743320006392E12,
          1.939972671999E12,
          1.148848842842E12,
          8.1161812008E11,
          2.390162743986E12,
          1.485510551999E12,
          7.25444603438E11,
          1.443050710306E12,
          1.385055820916E12,
          1.065522944787E12,
          1.313940747875E12,
          1.275466978886E12,
          1.818047100656E12,
          1.351835465938E12,
          8.39525985486E11,
          1.024515377035E12,
          1.034587925869E12,
          7.27541809912E11,
          1.244634703604E12,
          1.773212601977E12,
          6.61429777182E11,
          1.938636171483E12,
          1.15452172924E12,
          5.76579314501E11,
          1.044418874601E12,
          1.322221843286E12,
          1.248378235987E12,
          1.338680601994E12,
          2.818449813841E12,
          1.67386156723E12,
          1.530447004625E12,
          1.030392849246E12,
          2.424740662203E12,
          1.445128733623E12,
          1.681028311196E12,
          1.41346090832E12,
          1.335742726916E12,
          9.70535539169E11,
          7.0158959761E11,
          1.178187740324E12,
          1.521945243146E12,
          1.163700523249E12,
          1.732994826599E12,
          7.47296807053E11,
          6.56923180931E11,
          1.074183822426E12
         ],
         "type": "bar",
         "xaxis": "x",
         "yaxis": "y"
        }
       ],
       "layout": {
        "template": {
         "data": {
          "histogram2dcontour": [
           {
            "type": "histogram2dcontour",
            "colorbar": {
             "outlinewidth": 0,
             "ticks": ""
            },
            "colorscale": [
             [
              0.0,
              "#0d0887"
             ],
             [
              0.1111111111111111,
              "#46039f"
             ],
             [
              0.2222222222222222,
              "#7201a8"
             ],
             [
              0.3333333333333333,
              "#9c179e"
             ],
             [
              0.4444444444444444,
              "#bd3786"
             ],
             [
              0.5555555555555556,
              "#d8576b"
             ],
             [
              0.6666666666666666,
              "#ed7953"
             ],
             [
              0.7777777777777778,
              "#fb9f3a"
             ],
             [
              0.8888888888888888,
              "#fdca26"
             ],
             [
              1.0,
              "#f0f921"
             ]
            ]
           }
          ],
          "choropleth": [
           {
            "type": "choropleth",
            "colorbar": {
             "outlinewidth": 0,
             "ticks": ""
            }
           }
          ],
          "histogram2d": [
           {
            "type": "histogram2d",
            "colorbar": {
             "outlinewidth": 0,
             "ticks": ""
            },
            "colorscale": [
             [
              0.0,
              "#0d0887"
             ],
             [
              0.1111111111111111,
              "#46039f"
             ],
             [
              0.2222222222222222,
              "#7201a8"
             ],
             [
              0.3333333333333333,
              "#9c179e"
             ],
             [
              0.4444444444444444,
              "#bd3786"
             ],
             [
              0.5555555555555556,
              "#d8576b"
             ],
             [
              0.6666666666666666,
              "#ed7953"
             ],
             [
              0.7777777777777778,
              "#fb9f3a"
             ],
             [
              0.8888888888888888,
              "#fdca26"
             ],
             [
              1.0,
              "#f0f921"
             ]
            ]
           }
          ],
          "heatmap": [
           {
            "type": "heatmap",
            "colorbar": {
             "outlinewidth": 0,
             "ticks": ""
            },
            "colorscale": [
             [
              0.0,
              "#0d0887"
             ],
             [
              0.1111111111111111,
              "#46039f"
             ],
             [
              0.2222222222222222,
              "#7201a8"
             ],
             [
              0.3333333333333333,
              "#9c179e"
             ],
             [
              0.4444444444444444,
              "#bd3786"
             ],
             [
              0.5555555555555556,
              "#d8576b"
             ],
             [
              0.6666666666666666,
              "#ed7953"
             ],
             [
              0.7777777777777778,
              "#fb9f3a"
             ],
             [
              0.8888888888888888,
              "#fdca26"
             ],
             [
              1.0,
              "#f0f921"
             ]
            ]
           }
          ],
          "heatmapgl": [
           {
            "type": "heatmapgl",
            "colorbar": {
             "outlinewidth": 0,
             "ticks": ""
            },
            "colorscale": [
             [
              0.0,
              "#0d0887"
             ],
             [
              0.1111111111111111,
              "#46039f"
             ],
             [
              0.2222222222222222,
              "#7201a8"
             ],
             [
              0.3333333333333333,
              "#9c179e"
             ],
             [
              0.4444444444444444,
              "#bd3786"
             ],
             [
              0.5555555555555556,
              "#d8576b"
             ],
             [
              0.6666666666666666,
              "#ed7953"
             ],
             [
              0.7777777777777778,
              "#fb9f3a"
             ],
             [
              0.8888888888888888,
              "#fdca26"
             ],
             [
              1.0,
              "#f0f921"
             ]
            ]
           }
          ],
          "contourcarpet": [
           {
            "type": "contourcarpet",
            "colorbar": {
             "outlinewidth": 0,
             "ticks": ""
            }
           }
          ],
          "contour": [
           {
            "type": "contour",
            "colorbar": {
             "outlinewidth": 0,
             "ticks": ""
            },
            "colorscale": [
             [
              0.0,
              "#0d0887"
             ],
             [
              0.1111111111111111,
              "#46039f"
             ],
             [
              0.2222222222222222,
              "#7201a8"
             ],
             [
              0.3333333333333333,
              "#9c179e"
             ],
             [
              0.4444444444444444,
              "#bd3786"
             ],
             [
              0.5555555555555556,
              "#d8576b"
             ],
             [
              0.6666666666666666,
              "#ed7953"
             ],
             [
              0.7777777777777778,
              "#fb9f3a"
             ],
             [
              0.8888888888888888,
              "#fdca26"
             ],
             [
              1.0,
              "#f0f921"
             ]
            ]
           }
          ],
          "surface": [
           {
            "type": "surface",
            "colorbar": {
             "outlinewidth": 0,
             "ticks": ""
            },
            "colorscale": [
             [
              0.0,
              "#0d0887"
             ],
             [
              0.1111111111111111,
              "#46039f"
             ],
             [
              0.2222222222222222,
              "#7201a8"
             ],
             [
              0.3333333333333333,
              "#9c179e"
             ],
             [
              0.4444444444444444,
              "#bd3786"
             ],
             [
              0.5555555555555556,
              "#d8576b"
             ],
             [
              0.6666666666666666,
              "#ed7953"
             ],
             [
              0.7777777777777778,
              "#fb9f3a"
             ],
             [
              0.8888888888888888,
              "#fdca26"
             ],
             [
              1.0,
              "#f0f921"
             ]
            ]
           }
          ],
          "mesh3d": [
           {
            "type": "mesh3d",
            "colorbar": {
             "outlinewidth": 0,
             "ticks": ""
            }
           }
          ],
          "scatter": [
           {
            "fillpattern": {
             "fillmode": "overlay",
             "size": 10,
             "solidity": 0.2
            },
            "type": "scatter"
           }
          ],
          "parcoords": [
           {
            "type": "parcoords",
            "line": {
             "colorbar": {
              "outlinewidth": 0,
              "ticks": ""
             }
            }
           }
          ],
          "scatterpolargl": [
           {
            "type": "scatterpolargl",
            "marker": {
             "colorbar": {
              "outlinewidth": 0,
              "ticks": ""
             }
            }
           }
          ],
          "bar": [
           {
            "error_x": {
             "color": "#2a3f5f"
            },
            "error_y": {
             "color": "#2a3f5f"
            },
            "marker": {
             "line": {
              "color": "#E5ECF6",
              "width": 0.5
             },
             "pattern": {
              "fillmode": "overlay",
              "size": 10,
              "solidity": 0.2
             }
            },
            "type": "bar"
           }
          ],
          "scattergeo": [
           {
            "type": "scattergeo",
            "marker": {
             "colorbar": {
              "outlinewidth": 0,
              "ticks": ""
             }
            }
           }
          ],
          "scatterpolar": [
           {
            "type": "scatterpolar",
            "marker": {
             "colorbar": {
              "outlinewidth": 0,
              "ticks": ""
             }
            }
           }
          ],
          "histogram": [
           {
            "marker": {
             "pattern": {
              "fillmode": "overlay",
              "size": 10,
              "solidity": 0.2
             }
            },
            "type": "histogram"
           }
          ],
          "scattergl": [
           {
            "type": "scattergl",
            "marker": {
             "colorbar": {
              "outlinewidth": 0,
              "ticks": ""
             }
            }
           }
          ],
          "scatter3d": [
           {
            "type": "scatter3d",
            "line": {
             "colorbar": {
              "outlinewidth": 0,
              "ticks": ""
             }
            },
            "marker": {
             "colorbar": {
              "outlinewidth": 0,
              "ticks": ""
             }
            }
           }
          ],
          "scattermapbox": [
           {
            "type": "scattermapbox",
            "marker": {
             "colorbar": {
              "outlinewidth": 0,
              "ticks": ""
             }
            }
           }
          ],
          "scatterternary": [
           {
            "type": "scatterternary",
            "marker": {
             "colorbar": {
              "outlinewidth": 0,
              "ticks": ""
             }
            }
           }
          ],
          "scattercarpet": [
           {
            "type": "scattercarpet",
            "marker": {
             "colorbar": {
              "outlinewidth": 0,
              "ticks": ""
             }
            }
           }
          ],
          "carpet": [
           {
            "aaxis": {
             "endlinecolor": "#2a3f5f",
             "gridcolor": "white",
             "linecolor": "white",
             "minorgridcolor": "white",
             "startlinecolor": "#2a3f5f"
            },
            "baxis": {
             "endlinecolor": "#2a3f5f",
             "gridcolor": "white",
             "linecolor": "white",
             "minorgridcolor": "white",
             "startlinecolor": "#2a3f5f"
            },
            "type": "carpet"
           }
          ],
          "table": [
           {
            "cells": {
             "fill": {
              "color": "#EBF0F8"
             },
             "line": {
              "color": "white"
             }
            },
            "header": {
             "fill": {
              "color": "#C8D4E3"
             },
             "line": {
              "color": "white"
             }
            },
            "type": "table"
           }
          ],
          "barpolar": [
           {
            "marker": {
             "line": {
              "color": "#E5ECF6",
              "width": 0.5
             },
             "pattern": {
              "fillmode": "overlay",
              "size": 10,
              "solidity": 0.2
             }
            },
            "type": "barpolar"
           }
          ],
          "pie": [
           {
            "automargin": true,
            "type": "pie"
           }
          ]
         },
         "layout": {
          "autotypenumbers": "strict",
          "colorway": [
           "#636efa",
           "#EF553B",
           "#00cc96",
           "#ab63fa",
           "#FFA15A",
           "#19d3f3",
           "#FF6692",
           "#B6E880",
           "#FF97FF",
           "#FECB52"
          ],
          "font": {
           "color": "#2a3f5f"
          },
          "hovermode": "closest",
          "hoverlabel": {
           "align": "left"
          },
          "paper_bgcolor": "white",
          "plot_bgcolor": "#E5ECF6",
          "polar": {
           "bgcolor": "#E5ECF6",
           "angularaxis": {
            "gridcolor": "white",
            "linecolor": "white",
            "ticks": ""
           },
           "radialaxis": {
            "gridcolor": "white",
            "linecolor": "white",
            "ticks": ""
           }
          },
          "ternary": {
           "bgcolor": "#E5ECF6",
           "aaxis": {
            "gridcolor": "white",
            "linecolor": "white",
            "ticks": ""
           },
           "baxis": {
            "gridcolor": "white",
            "linecolor": "white",
            "ticks": ""
           },
           "caxis": {
            "gridcolor": "white",
            "linecolor": "white",
            "ticks": ""
           }
          },
          "coloraxis": {
           "colorbar": {
            "outlinewidth": 0,
            "ticks": ""
           }
          },
          "colorscale": {
           "sequential": [
            [
             0.0,
             "#0d0887"
            ],
            [
             0.1111111111111111,
             "#46039f"
            ],
            [
             0.2222222222222222,
             "#7201a8"
            ],
            [
             0.3333333333333333,
             "#9c179e"
            ],
            [
             0.4444444444444444,
             "#bd3786"
            ],
            [
             0.5555555555555556,
             "#d8576b"
            ],
            [
             0.6666666666666666,
             "#ed7953"
            ],
            [
             0.7777777777777778,
             "#fb9f3a"
            ],
            [
             0.8888888888888888,
             "#fdca26"
            ],
            [
             1.0,
             "#f0f921"
            ]
           ],
           "sequentialminus": [
            [
             0.0,
             "#0d0887"
            ],
            [
             0.1111111111111111,
             "#46039f"
            ],
            [
             0.2222222222222222,
             "#7201a8"
            ],
            [
             0.3333333333333333,
             "#9c179e"
            ],
            [
             0.4444444444444444,
             "#bd3786"
            ],
            [
             0.5555555555555556,
             "#d8576b"
            ],
            [
             0.6666666666666666,
             "#ed7953"
            ],
            [
             0.7777777777777778,
             "#fb9f3a"
            ],
            [
             0.8888888888888888,
             "#fdca26"
            ],
            [
             1.0,
             "#f0f921"
            ]
           ],
           "diverging": [
            [
             0,
             "#8e0152"
            ],
            [
             0.1,
             "#c51b7d"
            ],
            [
             0.2,
             "#de77ae"
            ],
            [
             0.3,
             "#f1b6da"
            ],
            [
             0.4,
             "#fde0ef"
            ],
            [
             0.5,
             "#f7f7f7"
            ],
            [
             0.6,
             "#e6f5d0"
            ],
            [
             0.7,
             "#b8e186"
            ],
            [
             0.8,
             "#7fbc41"
            ],
            [
             0.9,
             "#4d9221"
            ],
            [
             1,
             "#276419"
            ]
           ]
          },
          "xaxis": {
           "gridcolor": "white",
           "linecolor": "white",
           "ticks": "",
           "title": {
            "standoff": 15
           },
           "zerolinecolor": "white",
           "automargin": true,
           "zerolinewidth": 2
          },
          "yaxis": {
           "gridcolor": "white",
           "linecolor": "white",
           "ticks": "",
           "title": {
            "standoff": 15
           },
           "zerolinecolor": "white",
           "automargin": true,
           "zerolinewidth": 2
          },
          "scene": {
           "xaxis": {
            "backgroundcolor": "#E5ECF6",
            "gridcolor": "white",
            "linecolor": "white",
            "showbackground": true,
            "ticks": "",
            "zerolinecolor": "white",
            "gridwidth": 2
           },
           "yaxis": {
            "backgroundcolor": "#E5ECF6",
            "gridcolor": "white",
            "linecolor": "white",
            "showbackground": true,
            "ticks": "",
            "zerolinecolor": "white",
            "gridwidth": 2
           },
           "zaxis": {
            "backgroundcolor": "#E5ECF6",
            "gridcolor": "white",
            "linecolor": "white",
            "showbackground": true,
            "ticks": "",
            "zerolinecolor": "white",
            "gridwidth": 2
           }
          },
          "shapedefaults": {
           "line": {
            "color": "#2a3f5f"
           }
          },
          "annotationdefaults": {
           "arrowcolor": "#2a3f5f",
           "arrowhead": 0,
           "arrowwidth": 1
          },
          "geo": {
           "bgcolor": "white",
           "landcolor": "#E5ECF6",
           "subunitcolor": "white",
           "showland": true,
           "showlakes": true,
           "lakecolor": "white"
          },
          "title": {
           "x": 0.05
          },
          "mapbox": {
           "style": "light"
          }
         }
        },
        "xaxis": {
         "anchor": "y",
         "domain": [
          0.0,
          0.94
         ]
        },
        "yaxis": {
         "anchor": "x",
         "domain": [
          0.0,
          1.0
         ],
         "title": {
          "text": "Volume OSMO"
         },
         "showgrid": false
        },
        "yaxis2": {
         "anchor": "x",
         "overlaying": "y",
         "side": "right",
         "title": {
          "text": "Price ATOM/OSMO"
         },
         "showgrid": true
        },
        "title": {
         "text": "ATOM/OSMO pool after launch"
        },
        "height": 800
       },
       "config": {
        "plotlyServerURL": "https://plot.ly"
       }
      },
      "text/html": "<div>                            <div id=\"2dd7be8f-e502-4e9f-8d20-b57dfe3214a0\" class=\"plotly-graph-div\" style=\"height:800px; width:100%;\"></div>            <script type=\"text/javascript\">                require([\"plotly\"], function(Plotly) {                    window.PLOTLYENV=window.PLOTLYENV || {};                                    if (document.getElementById(\"2dd7be8f-e502-4e9f-8d20-b57dfe3214a0\")) {                    Plotly.newPlot(                        \"2dd7be8f-e502-4e9f-8d20-b57dfe3214a0\",                        [{\"close\":[0.2003953118792213,0.1910265,0.20395580947106015,0.20689548804553415,0.20409407577171135,0.20000533347555935,0.19311423327481037,0.19116775932645894,0.1928523018987993,0.1953076553098938,0.19777437898845,0.20670068020373372,0.21224047124237466,0.21507457710961275,0.2184979648144357,0.23726633814180878,0.22592881558048203,0.23255195237347132,0.2289572961901712,0.23833064516129032,0.23726173837431275,0.2502241409234112,0.24585033424758587,0.24917248018880914,0.2552145993031359,0.26036094347884026,0.2504261323589735,0.2504591190088203,0.26499272669163193,0.2563483384269748,0.24892878612269248,0.2519107582478428,0.2578532190882069,0.2628965524237739,0.2595899909108584,0.2589917842470806,0.26147368995177855,0.2747991089764343,0.27404036466255494,0.2810147160576085,0.27476029688461323,0.27460701136808613,0.2792637667591695,0.2856985370033185,0.2932056911224647,0.2920304315290596,0.2914639331650991,0.29803390016400805,0.31462888308770126,0.3085782,0.3097863889215042,0.3050466149358449,0.31118617198189247,0.30809752315663064,0.31211051830660563,0.3247422184759675,0.3288339366497036,0.3245056229847592,0.33710977936734715,0.33502336610712086,0.34005465177441824,0.34643825158858055,0.3351607111839242,0.328314465816999,0.3384846141058055,0.31947364782845833,0.3205087422671225,0.3296762108643297,0.32591501578393156,0.3290429328874534,0.33586500541125164,0.3433826163695072,0.34066878961295427,0.33810288587672194,0.33387269135802466,0.3416530278232406,0.3395761306760032,0.33667784898943365,0.33840499239960825],\"high\":[0.25,0.20174299955135852,0.20548559479302522,0.20872456511645907,0.21232906333350066,0.21428571428571427,0.20017989257036697,0.2,0.2,0.2000547974658392,0.2,0.21222169909573396,0.25,0.25,0.22448979591836735,0.23809523809523808,0.25,0.25,0.25,0.25,0.25,0.25173172547245637,0.25235944451934744,0.3333333333333333,0.3333333333333333,0.3333333333333333,0.3333333333333333,0.3333333333333333,0.26883322886242034,0.3333333333333333,0.3333333333333333,0.3333333333333333,0.3333333333333333,0.26796724245926495,0.3333333333333333,0.2629078555289785,0.3333333333333333,0.3333333333333333,0.3333333333333333,0.3333333333333333,0.3333333333333333,0.3333333333333333,0.29411764705882354,0.3333333333333333,0.3333333333333333,0.29802368573044713,0.3333333333333333,0.3333333333333333,0.3333333333333333,0.31564712015562163,0.3333333333333333,0.3333333333333333,0.3333333333333333,0.3333333333333333,0.3333333333333333,0.3333333333333333,0.3333333333333333,0.33143345682530634,0.33931882424670123,0.36363636363636365,0.4,0.3538484540176651,0.5,0.35714285714285715,0.3409090909090909,0.3392797995370276,0.3333333333333333,0.33458009347479534,0.3377526389739525,0.3333333333333333,0.34233679093492175,0.5,0.5,0.5,0.375,0.5,0.5,0.5,0.35294117647058826],\"low\":[0.1875,0.1905296044658215,0.17857142857142858,0.20253164556962025,0.16666666666666666,0.16666666666666666,0.19147588188650283,0.16,0.1875,0.19048691773071824,0.19038428163473523,0.125,0.2,0.2058406798848721,0.2124785808869979,0.2166548771649648,0.2258825216280055,0.22571496100212715,0.2,0.125,0.22727272727272727,0.2,0.2,0.16666666666666666,0.2,0.24812030075187969,0.24848484848484848,0.2,0.2497234935163997,0.22580645161290322,0.24324324324324326,0.18181818181818182,0.23943661971830985,0.25190839694656486,0.258677102850802,0.21428571428571427,0.2564102564102564,0.24444444444444444,0.27,0.2647058823529412,0.27231182795698927,0.2631578947368421,0.27310924369747897,0.2778111741419764,0.2,0.28885536074746426,0.2,0.2896551724137931,0.2962855944729461,0.2727272727272727,0.2631578947368421,0.30104526315789476,0.2903225806451613,0.25,0.3021541950113379,0.3,0.3,0.3125,0.25,0.25,0.3125,0.3324285495208125,0.25,0.3248175182481752,0.2,0.2,0.31432,0.25,0.2962962962962963,0.2857142857142857,0.32,0.3333333333333333,0.32558139534883723,0.32432432432432434,0.3,0.3333333333333333,0.33663366336633666,0.3,0.3333333333333333],\"open\":[0.2060966650657067,0.2003949792066235,0.19102589119740368,0.2039519766191235,0.2081415058815933,0.202871,0.19880647091764264,0.19196027953631808,0.19116264129731475,0.19285071199324688,0.19530561236458238,0.19776557928776314,0.20673329548816272,0.21096852521491496,0.21380616474300548,0.21981723500014233,0.23584670830186621,0.22593942232697847,0.23115881836794383,0.22758627068925508,0.24003758778012244,0.23872907917619696,0.25022421993005123,0.24584432313071214,0.2491575,0.25675342513999927,0.2588008354669613,0.25042522851919563,0.25194596656633045,0.2649931211479971,0.25444891179576384,0.25042881941980144,0.25042632318501173,0.2578528617910669,0.26132295529495975,0.25958907894736843,0.25898740847059076,0.2630510873423848,0.27479896374608787,0.2758655004210209,0.28101217403315654,0.27277685799541534,0.27623387340892164,0.27926226315789476,0.28571350245151456,0.29145335557851654,0.2902745796962898,0.2932249495726393,0.2980582547904295,0.3126553601319339,0.30857813333333334,0.309793380906332,0.30321887621062116,0.30929342887814476,0.3087055376977235,0.31398643142563465,0.32669452176913055,0.3288341153556653,0.3229476203355202,0.3396344220200693,0.3349967855357044,0.33851354156508845,0.34849545535525045,0.3351638940345287,0.32826587396370244,0.3384650032110782,0.32140713586837427,0.32224440967927603,0.32972714217328863,0.3259934666836688,0.329123438105474,0.33403,0.3434242962891379,0.3407554989034451,0.33827743207692756,0.33385086823289073,0.34166391864020496,0.3376279260050933,0.33658153805154656],\"showlegend\":false,\"x\":[\"2021-12-25T00:00:00\",\"2021-12-26T00:00:00\",\"2021-12-27T00:00:00\",\"2021-12-28T00:00:00\",\"2021-12-29T00:00:00\",\"2021-12-30T00:00:00\",\"2021-12-31T00:00:00\",\"2022-01-01T00:00:00\",\"2022-01-02T00:00:00\",\"2022-01-03T00:00:00\",\"2022-01-04T00:00:00\",\"2022-01-05T00:00:00\",\"2022-01-06T00:00:00\",\"2022-01-07T00:00:00\",\"2022-01-08T00:00:00\",\"2022-01-09T00:00:00\",\"2022-01-10T00:00:00\",\"2022-01-11T00:00:00\",\"2022-01-12T00:00:00\",\"2022-01-13T00:00:00\",\"2022-01-14T00:00:00\",\"2022-01-15T00:00:00\",\"2022-01-16T00:00:00\",\"2022-01-17T00:00:00\",\"2022-01-18T00:00:00\",\"2022-01-19T00:00:00\",\"2022-01-20T00:00:00\",\"2022-01-21T00:00:00\",\"2022-01-22T00:00:00\",\"2022-01-23T00:00:00\",\"2022-01-24T00:00:00\",\"2022-01-25T00:00:00\",\"2022-01-26T00:00:00\",\"2022-01-27T00:00:00\",\"2022-01-28T00:00:00\",\"2022-01-29T00:00:00\",\"2022-01-30T00:00:00\",\"2022-01-31T00:00:00\",\"2022-02-01T00:00:00\",\"2022-02-02T00:00:00\",\"2022-02-03T00:00:00\",\"2022-02-04T00:00:00\",\"2022-02-05T00:00:00\",\"2022-02-06T00:00:00\",\"2022-02-07T00:00:00\",\"2022-02-08T00:00:00\",\"2022-02-09T00:00:00\",\"2022-02-10T00:00:00\",\"2022-02-11T00:00:00\",\"2022-02-12T00:00:00\",\"2022-02-13T00:00:00\",\"2022-02-14T00:00:00\",\"2022-02-15T00:00:00\",\"2022-02-16T00:00:00\",\"2022-02-17T00:00:00\",\"2022-02-18T00:00:00\",\"2022-02-19T00:00:00\",\"2022-02-20T00:00:00\",\"2022-02-21T00:00:00\",\"2022-02-22T00:00:00\",\"2022-02-23T00:00:00\",\"2022-02-24T00:00:00\",\"2022-02-25T00:00:00\",\"2022-02-26T00:00:00\",\"2022-02-27T00:00:00\",\"2022-02-28T00:00:00\",\"2022-03-01T00:00:00\",\"2022-03-02T00:00:00\",\"2022-03-03T00:00:00\",\"2022-03-04T00:00:00\",\"2022-03-05T00:00:00\",\"2022-03-06T00:00:00\",\"2022-03-07T00:00:00\",\"2022-03-08T00:00:00\",\"2022-03-09T00:00:00\",\"2022-03-10T00:00:00\",\"2022-03-11T00:00:00\",\"2022-03-12T00:00:00\",\"2022-03-13T00:00:00\"],\"type\":\"candlestick\",\"xaxis\":\"x\",\"yaxis\":\"y2\"},{\"marker\":{\"color\":\"rgba(128,128,128,0.5)\"},\"showlegend\":false,\"x\":[\"2021-12-25T00:00:00\",\"2021-12-26T00:00:00\",\"2021-12-27T00:00:00\",\"2021-12-28T00:00:00\",\"2021-12-29T00:00:00\",\"2021-12-30T00:00:00\",\"2021-12-31T00:00:00\",\"2022-01-01T00:00:00\",\"2022-01-02T00:00:00\",\"2022-01-03T00:00:00\",\"2022-01-04T00:00:00\",\"2022-01-05T00:00:00\",\"2022-01-06T00:00:00\",\"2022-01-07T00:00:00\",\"2022-01-08T00:00:00\",\"2022-01-09T00:00:00\",\"2022-01-10T00:00:00\",\"2022-01-11T00:00:00\",\"2022-01-12T00:00:00\",\"2022-01-13T00:00:00\",\"2022-01-14T00:00:00\",\"2022-01-15T00:00:00\",\"2022-01-16T00:00:00\",\"2022-01-17T00:00:00\",\"2022-01-18T00:00:00\",\"2022-01-19T00:00:00\",\"2022-01-20T00:00:00\",\"2022-01-21T00:00:00\",\"2022-01-22T00:00:00\",\"2022-01-23T00:00:00\",\"2022-01-24T00:00:00\",\"2022-01-25T00:00:00\",\"2022-01-26T00:00:00\",\"2022-01-27T00:00:00\",\"2022-01-28T00:00:00\",\"2022-01-29T00:00:00\",\"2022-01-30T00:00:00\",\"2022-01-31T00:00:00\",\"2022-02-01T00:00:00\",\"2022-02-02T00:00:00\",\"2022-02-03T00:00:00\",\"2022-02-04T00:00:00\",\"2022-02-05T00:00:00\",\"2022-02-06T00:00:00\",\"2022-02-07T00:00:00\",\"2022-02-08T00:00:00\",\"2022-02-09T00:00:00\",\"2022-02-10T00:00:00\",\"2022-02-11T00:00:00\",\"2022-02-12T00:00:00\",\"2022-02-13T00:00:00\",\"2022-02-14T00:00:00\",\"2022-02-15T00:00:00\",\"2022-02-16T00:00:00\",\"2022-02-17T00:00:00\",\"2022-02-18T00:00:00\",\"2022-02-19T00:00:00\",\"2022-02-20T00:00:00\",\"2022-02-21T00:00:00\",\"2022-02-22T00:00:00\",\"2022-02-23T00:00:00\",\"2022-02-24T00:00:00\",\"2022-02-25T00:00:00\",\"2022-02-26T00:00:00\",\"2022-02-27T00:00:00\",\"2022-02-28T00:00:00\",\"2022-03-01T00:00:00\",\"2022-03-02T00:00:00\",\"2022-03-03T00:00:00\",\"2022-03-04T00:00:00\",\"2022-03-05T00:00:00\",\"2022-03-06T00:00:00\",\"2022-03-07T00:00:00\",\"2022-03-08T00:00:00\",\"2022-03-09T00:00:00\",\"2022-03-10T00:00:00\",\"2022-03-11T00:00:00\",\"2022-03-12T00:00:00\",\"2022-03-13T00:00:00\"],\"y\":[1359262514246.0,1565795770605.0,2591825110184.0,1061532883893.0,1680099296730.0,1702391025079.0,2048828882261.0,1963508903650.0,1604233503594.0,2274991513703.0,2878567060649.0,3176647038349.0,2151529371195.0,3355710601598.0,2099627556899.0,2885136107600.0,2102024802718.0,1683523285617.0,2348712893534.0,1828367127856.0,1283718006475.0,1531943555716.0,1786443189858.0,1864134718507.0,1668857819558.0,1426156477370.0,1826487958799.0,2517423419527.0,2557861245745.0,2747885500022.0,3030695844621.0,2340501416452.0,1738636705210.0,1743320006392.0,1939972671999.0,1148848842842.0,811618120080.0,2390162743986.0,1485510551999.0,725444603438.0,1443050710306.0,1385055820916.0,1065522944787.0,1313940747875.0,1275466978886.0,1818047100656.0,1351835465938.0,839525985486.0,1024515377035.0,1034587925869.0,727541809912.0,1244634703604.0,1773212601977.0,661429777182.0,1938636171483.0,1154521729240.0,576579314501.0,1044418874601.0,1322221843286.0,1248378235987.0,1338680601994.0,2818449813841.0,1673861567230.0,1530447004625.0,1030392849246.0,2424740662203.0,1445128733623.0,1681028311196.0,1413460908320.0,1335742726916.0,970535539169.0,701589597610.0,1178187740324.0,1521945243146.0,1163700523249.0,1732994826599.0,747296807053.0,656923180931.0,1074183822426.0],\"type\":\"bar\",\"xaxis\":\"x\",\"yaxis\":\"y\"}],                        {\"template\":{\"data\":{\"histogram2dcontour\":[{\"type\":\"histogram2dcontour\",\"colorbar\":{\"outlinewidth\":0,\"ticks\":\"\"},\"colorscale\":[[0.0,\"#0d0887\"],[0.1111111111111111,\"#46039f\"],[0.2222222222222222,\"#7201a8\"],[0.3333333333333333,\"#9c179e\"],[0.4444444444444444,\"#bd3786\"],[0.5555555555555556,\"#d8576b\"],[0.6666666666666666,\"#ed7953\"],[0.7777777777777778,\"#fb9f3a\"],[0.8888888888888888,\"#fdca26\"],[1.0,\"#f0f921\"]]}],\"choropleth\":[{\"type\":\"choropleth\",\"colorbar\":{\"outlinewidth\":0,\"ticks\":\"\"}}],\"histogram2d\":[{\"type\":\"histogram2d\",\"colorbar\":{\"outlinewidth\":0,\"ticks\":\"\"},\"colorscale\":[[0.0,\"#0d0887\"],[0.1111111111111111,\"#46039f\"],[0.2222222222222222,\"#7201a8\"],[0.3333333333333333,\"#9c179e\"],[0.4444444444444444,\"#bd3786\"],[0.5555555555555556,\"#d8576b\"],[0.6666666666666666,\"#ed7953\"],[0.7777777777777778,\"#fb9f3a\"],[0.8888888888888888,\"#fdca26\"],[1.0,\"#f0f921\"]]}],\"heatmap\":[{\"type\":\"heatmap\",\"colorbar\":{\"outlinewidth\":0,\"ticks\":\"\"},\"colorscale\":[[0.0,\"#0d0887\"],[0.1111111111111111,\"#46039f\"],[0.2222222222222222,\"#7201a8\"],[0.3333333333333333,\"#9c179e\"],[0.4444444444444444,\"#bd3786\"],[0.5555555555555556,\"#d8576b\"],[0.6666666666666666,\"#ed7953\"],[0.7777777777777778,\"#fb9f3a\"],[0.8888888888888888,\"#fdca26\"],[1.0,\"#f0f921\"]]}],\"heatmapgl\":[{\"type\":\"heatmapgl\",\"colorbar\":{\"outlinewidth\":0,\"ticks\":\"\"},\"colorscale\":[[0.0,\"#0d0887\"],[0.1111111111111111,\"#46039f\"],[0.2222222222222222,\"#7201a8\"],[0.3333333333333333,\"#9c179e\"],[0.4444444444444444,\"#bd3786\"],[0.5555555555555556,\"#d8576b\"],[0.6666666666666666,\"#ed7953\"],[0.7777777777777778,\"#fb9f3a\"],[0.8888888888888888,\"#fdca26\"],[1.0,\"#f0f921\"]]}],\"contourcarpet\":[{\"type\":\"contourcarpet\",\"colorbar\":{\"outlinewidth\":0,\"ticks\":\"\"}}],\"contour\":[{\"type\":\"contour\",\"colorbar\":{\"outlinewidth\":0,\"ticks\":\"\"},\"colorscale\":[[0.0,\"#0d0887\"],[0.1111111111111111,\"#46039f\"],[0.2222222222222222,\"#7201a8\"],[0.3333333333333333,\"#9c179e\"],[0.4444444444444444,\"#bd3786\"],[0.5555555555555556,\"#d8576b\"],[0.6666666666666666,\"#ed7953\"],[0.7777777777777778,\"#fb9f3a\"],[0.8888888888888888,\"#fdca26\"],[1.0,\"#f0f921\"]]}],\"surface\":[{\"type\":\"surface\",\"colorbar\":{\"outlinewidth\":0,\"ticks\":\"\"},\"colorscale\":[[0.0,\"#0d0887\"],[0.1111111111111111,\"#46039f\"],[0.2222222222222222,\"#7201a8\"],[0.3333333333333333,\"#9c179e\"],[0.4444444444444444,\"#bd3786\"],[0.5555555555555556,\"#d8576b\"],[0.6666666666666666,\"#ed7953\"],[0.7777777777777778,\"#fb9f3a\"],[0.8888888888888888,\"#fdca26\"],[1.0,\"#f0f921\"]]}],\"mesh3d\":[{\"type\":\"mesh3d\",\"colorbar\":{\"outlinewidth\":0,\"ticks\":\"\"}}],\"scatter\":[{\"fillpattern\":{\"fillmode\":\"overlay\",\"size\":10,\"solidity\":0.2},\"type\":\"scatter\"}],\"parcoords\":[{\"type\":\"parcoords\",\"line\":{\"colorbar\":{\"outlinewidth\":0,\"ticks\":\"\"}}}],\"scatterpolargl\":[{\"type\":\"scatterpolargl\",\"marker\":{\"colorbar\":{\"outlinewidth\":0,\"ticks\":\"\"}}}],\"bar\":[{\"error_x\":{\"color\":\"#2a3f5f\"},\"error_y\":{\"color\":\"#2a3f5f\"},\"marker\":{\"line\":{\"color\":\"#E5ECF6\",\"width\":0.5},\"pattern\":{\"fillmode\":\"overlay\",\"size\":10,\"solidity\":0.2}},\"type\":\"bar\"}],\"scattergeo\":[{\"type\":\"scattergeo\",\"marker\":{\"colorbar\":{\"outlinewidth\":0,\"ticks\":\"\"}}}],\"scatterpolar\":[{\"type\":\"scatterpolar\",\"marker\":{\"colorbar\":{\"outlinewidth\":0,\"ticks\":\"\"}}}],\"histogram\":[{\"marker\":{\"pattern\":{\"fillmode\":\"overlay\",\"size\":10,\"solidity\":0.2}},\"type\":\"histogram\"}],\"scattergl\":[{\"type\":\"scattergl\",\"marker\":{\"colorbar\":{\"outlinewidth\":0,\"ticks\":\"\"}}}],\"scatter3d\":[{\"type\":\"scatter3d\",\"line\":{\"colorbar\":{\"outlinewidth\":0,\"ticks\":\"\"}},\"marker\":{\"colorbar\":{\"outlinewidth\":0,\"ticks\":\"\"}}}],\"scattermapbox\":[{\"type\":\"scattermapbox\",\"marker\":{\"colorbar\":{\"outlinewidth\":0,\"ticks\":\"\"}}}],\"scatterternary\":[{\"type\":\"scatterternary\",\"marker\":{\"colorbar\":{\"outlinewidth\":0,\"ticks\":\"\"}}}],\"scattercarpet\":[{\"type\":\"scattercarpet\",\"marker\":{\"colorbar\":{\"outlinewidth\":0,\"ticks\":\"\"}}}],\"carpet\":[{\"aaxis\":{\"endlinecolor\":\"#2a3f5f\",\"gridcolor\":\"white\",\"linecolor\":\"white\",\"minorgridcolor\":\"white\",\"startlinecolor\":\"#2a3f5f\"},\"baxis\":{\"endlinecolor\":\"#2a3f5f\",\"gridcolor\":\"white\",\"linecolor\":\"white\",\"minorgridcolor\":\"white\",\"startlinecolor\":\"#2a3f5f\"},\"type\":\"carpet\"}],\"table\":[{\"cells\":{\"fill\":{\"color\":\"#EBF0F8\"},\"line\":{\"color\":\"white\"}},\"header\":{\"fill\":{\"color\":\"#C8D4E3\"},\"line\":{\"color\":\"white\"}},\"type\":\"table\"}],\"barpolar\":[{\"marker\":{\"line\":{\"color\":\"#E5ECF6\",\"width\":0.5},\"pattern\":{\"fillmode\":\"overlay\",\"size\":10,\"solidity\":0.2}},\"type\":\"barpolar\"}],\"pie\":[{\"automargin\":true,\"type\":\"pie\"}]},\"layout\":{\"autotypenumbers\":\"strict\",\"colorway\":[\"#636efa\",\"#EF553B\",\"#00cc96\",\"#ab63fa\",\"#FFA15A\",\"#19d3f3\",\"#FF6692\",\"#B6E880\",\"#FF97FF\",\"#FECB52\"],\"font\":{\"color\":\"#2a3f5f\"},\"hovermode\":\"closest\",\"hoverlabel\":{\"align\":\"left\"},\"paper_bgcolor\":\"white\",\"plot_bgcolor\":\"#E5ECF6\",\"polar\":{\"bgcolor\":\"#E5ECF6\",\"angularaxis\":{\"gridcolor\":\"white\",\"linecolor\":\"white\",\"ticks\":\"\"},\"radialaxis\":{\"gridcolor\":\"white\",\"linecolor\":\"white\",\"ticks\":\"\"}},\"ternary\":{\"bgcolor\":\"#E5ECF6\",\"aaxis\":{\"gridcolor\":\"white\",\"linecolor\":\"white\",\"ticks\":\"\"},\"baxis\":{\"gridcolor\":\"white\",\"linecolor\":\"white\",\"ticks\":\"\"},\"caxis\":{\"gridcolor\":\"white\",\"linecolor\":\"white\",\"ticks\":\"\"}},\"coloraxis\":{\"colorbar\":{\"outlinewidth\":0,\"ticks\":\"\"}},\"colorscale\":{\"sequential\":[[0.0,\"#0d0887\"],[0.1111111111111111,\"#46039f\"],[0.2222222222222222,\"#7201a8\"],[0.3333333333333333,\"#9c179e\"],[0.4444444444444444,\"#bd3786\"],[0.5555555555555556,\"#d8576b\"],[0.6666666666666666,\"#ed7953\"],[0.7777777777777778,\"#fb9f3a\"],[0.8888888888888888,\"#fdca26\"],[1.0,\"#f0f921\"]],\"sequentialminus\":[[0.0,\"#0d0887\"],[0.1111111111111111,\"#46039f\"],[0.2222222222222222,\"#7201a8\"],[0.3333333333333333,\"#9c179e\"],[0.4444444444444444,\"#bd3786\"],[0.5555555555555556,\"#d8576b\"],[0.6666666666666666,\"#ed7953\"],[0.7777777777777778,\"#fb9f3a\"],[0.8888888888888888,\"#fdca26\"],[1.0,\"#f0f921\"]],\"diverging\":[[0,\"#8e0152\"],[0.1,\"#c51b7d\"],[0.2,\"#de77ae\"],[0.3,\"#f1b6da\"],[0.4,\"#fde0ef\"],[0.5,\"#f7f7f7\"],[0.6,\"#e6f5d0\"],[0.7,\"#b8e186\"],[0.8,\"#7fbc41\"],[0.9,\"#4d9221\"],[1,\"#276419\"]]},\"xaxis\":{\"gridcolor\":\"white\",\"linecolor\":\"white\",\"ticks\":\"\",\"title\":{\"standoff\":15},\"zerolinecolor\":\"white\",\"automargin\":true,\"zerolinewidth\":2},\"yaxis\":{\"gridcolor\":\"white\",\"linecolor\":\"white\",\"ticks\":\"\",\"title\":{\"standoff\":15},\"zerolinecolor\":\"white\",\"automargin\":true,\"zerolinewidth\":2},\"scene\":{\"xaxis\":{\"backgroundcolor\":\"#E5ECF6\",\"gridcolor\":\"white\",\"linecolor\":\"white\",\"showbackground\":true,\"ticks\":\"\",\"zerolinecolor\":\"white\",\"gridwidth\":2},\"yaxis\":{\"backgroundcolor\":\"#E5ECF6\",\"gridcolor\":\"white\",\"linecolor\":\"white\",\"showbackground\":true,\"ticks\":\"\",\"zerolinecolor\":\"white\",\"gridwidth\":2},\"zaxis\":{\"backgroundcolor\":\"#E5ECF6\",\"gridcolor\":\"white\",\"linecolor\":\"white\",\"showbackground\":true,\"ticks\":\"\",\"zerolinecolor\":\"white\",\"gridwidth\":2}},\"shapedefaults\":{\"line\":{\"color\":\"#2a3f5f\"}},\"annotationdefaults\":{\"arrowcolor\":\"#2a3f5f\",\"arrowhead\":0,\"arrowwidth\":1},\"geo\":{\"bgcolor\":\"white\",\"landcolor\":\"#E5ECF6\",\"subunitcolor\":\"white\",\"showland\":true,\"showlakes\":true,\"lakecolor\":\"white\"},\"title\":{\"x\":0.05},\"mapbox\":{\"style\":\"light\"}}},\"xaxis\":{\"anchor\":\"y\",\"domain\":[0.0,0.94]},\"yaxis\":{\"anchor\":\"x\",\"domain\":[0.0,1.0],\"title\":{\"text\":\"Volume OSMO\"},\"showgrid\":false},\"yaxis2\":{\"anchor\":\"x\",\"overlaying\":\"y\",\"side\":\"right\",\"title\":{\"text\":\"Price ATOM/OSMO\"},\"showgrid\":true},\"title\":{\"text\":\"ATOM/OSMO pool after launch\"},\"height\":800},                        {\"responsive\": true}                    ).then(function(){\n                            \nvar gd = document.getElementById('2dd7be8f-e502-4e9f-8d20-b57dfe3214a0');\nvar x = new MutationObserver(function (mutations, observer) {{\n        var display = window.getComputedStyle(gd).display;\n        if (!display || display === 'none') {{\n            console.log([gd, 'removed!']);\n            Plotly.purge(gd);\n            observer.disconnect();\n        }}\n}});\n\n// Listen for the removal of the full notebook cells\nvar notebookContainer = gd.closest('#notebook-container');\nif (notebookContainer) {{\n    x.observe(notebookContainer, {childList: true});\n}}\n\n// Listen for the clearing of the current output cell\nvar outputEl = gd.closest('.output');\nif (outputEl) {{\n    x.observe(outputEl, {childList: true});\n}}\n\n                        })                };                });            </script>        </div>"
     },
     "metadata": {},
     "output_type": "display_data"
    }
   ],
   "source": [
    "import plotly.graph_objects as go\n",
    "from plotly.subplots import make_subplots\n",
    "\n",
    "candlesticks = go.Candlestick(\n",
    "    x=candles.index,\n",
    "    open=candles['open'],\n",
    "    high=candles['high'],\n",
    "    low=candles['low'],\n",
    "    close=candles['close'],\n",
    "    showlegend=False\n",
    ")\n",
    "\n",
    "volume_bars = go.Bar(\n",
    "    x=candles.index,\n",
    "    y=candles['volume'],\n",
    "    showlegend=False,\n",
    "    marker={\n",
    "        \"color\": \"rgba(128,128,128,0.5)\",\n",
    "    }\n",
    ")\n",
    "\n",
    "fig = go.Figure(candlesticks)\n",
    "fig = make_subplots(specs=[[{\"secondary_y\": True}]])\n",
    "fig.add_trace(candlesticks, secondary_y=True)\n",
    "fig.add_trace(volume_bars, secondary_y=False)\n",
    "fig.update_layout(title=\"ATOM/OSMO pool after launch\", height=800)\n",
    "fig.update_yaxes(title=\"Price ATOM/OSMO\", secondary_y=True, showgrid=True)\n",
    "fig.update_yaxes(title=\"Volume OSMO\", secondary_y=False, showgrid=False)\n",
    "fig.show()"
   ],
   "metadata": {
    "collapsed": false,
    "pycharm": {
     "name": "#%%\n"
    }
   }
  },
  {
   "cell_type": "code",
   "execution_count": 80,
   "outputs": [],
   "source": [],
   "metadata": {
    "collapsed": false,
    "pycharm": {
     "name": "#%%\n"
    }
   }
  }
 ],
 "metadata": {
  "kernelspec": {
   "display_name": "Python 3",
   "language": "python",
   "name": "python3"
  },
  "language_info": {
   "codemirror_mode": {
    "name": "ipython",
    "version": 2
   },
   "file_extension": ".py",
   "mimetype": "text/x-python",
   "name": "python",
   "nbconvert_exporter": "python",
   "pygments_lexer": "ipython2",
   "version": "2.7.6"
  }
 },
 "nbformat": 4,
 "nbformat_minor": 0
}